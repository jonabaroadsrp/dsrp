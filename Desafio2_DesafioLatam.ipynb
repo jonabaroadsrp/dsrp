{
  "nbformat": 4,
  "nbformat_minor": 0,
  "metadata": {
    "colab": {
      "provenance": [],
      "collapsed_sections": [
        "LnYZmvmPgZwY",
        "OwpGdLh8hL3Y",
        "ExyWhHhlhKyu",
        "jK6RMQpBhKcS",
        "4axKK_tlYw3A",
        "hweN58rLYwtI",
        "-_aaAiRhHLLB",
        "LomGTg_kEFK8",
        "UWf5dUkKEQaF",
        "axcn1Z2WYwjJ",
        "dr8wUPgOyNtY",
        "3H6gHjEO4z0R",
        "GejwnG3u5HeA",
        "_zoKi3RB5UlQ",
        "p8HR4AZ35Uu7",
        "fU4HfyOI5U48",
        "ZKXzMzSJ5U_C",
        "jBExozdeAUTd",
        "wxgiRLKuAfmW",
        "ETCrOSFlAfz7",
        "3t4PwidiAgA1",
        "kDEoKtjhAkid",
        "jeiooPPZA-MH"
      ],
      "authorship_tag": "ABX9TyNkhKiXqq65mtxrYyhoev/H",
      "include_colab_link": true
    },
    "kernelspec": {
      "name": "python3",
      "display_name": "Python 3"
    },
    "language_info": {
      "name": "python"
    }
  },
  "cells": [
    {
      "cell_type": "markdown",
      "metadata": {
        "id": "view-in-github",
        "colab_type": "text"
      },
      "source": [
        "<a href=\"https://colab.research.google.com/github/jonabaroadsrp/dsrp/blob/main/Desafio2_DesafioLatam.ipynb\" target=\"_parent\"><img src=\"https://colab.research.google.com/assets/colab-badge.svg\" alt=\"Open In Colab\"/></a>"
      ]
    },
    {
      "cell_type": "markdown",
      "source": [
        "# 🧠 Análisis de Datos Negocio - Desafío Latam"
      ],
      "metadata": {
        "id": "QAzkrwwjtIAI"
      }
    },
    {
      "cell_type": "markdown",
      "source": [
        "# 📌 **FASE 1: Definición del Problema.**"
      ],
      "metadata": {
        "id": "LnYZmvmPgZwY"
      }
    },
    {
      "cell_type": "markdown",
      "source": [
        "## ✅ Paso 1.1 Definir el objetivo del negocio o investigación"
      ],
      "metadata": {
        "id": "OwpGdLh8hL3Y"
      }
    },
    {
      "cell_type": "markdown",
      "source": [
        "El objetivo principal es segmentar a los clientes del supermercado FreshMart con base en su comportamiento de compra, utilizando técnicas de aprendizaje no supervisado. Esto permitirá:\n",
        "\n",
        "* Personalizar estrategias de marketing (ej. promociones, descuentos).\n",
        "\n",
        "* Diseñar campañas orientadas a diferentes perfiles de clientes.\n",
        "\n",
        "* Incrementar la fidelización y satisfacción del cliente.\n",
        "\n",
        "* Optimizar la rentabilidad del supermercado."
      ],
      "metadata": {
        "id": "tTBp2WN2gpqa"
      }
    },
    {
      "cell_type": "markdown",
      "source": [
        "## 🧭 Paso 1.2 Determinar el tipo de clasificación."
      ],
      "metadata": {
        "id": "QDQI4jythHnj"
      }
    },
    {
      "cell_type": "markdown",
      "source": [
        "Este proyecto no busca clasificación supervisada, sino clustering (aprendizaje no supervisado). Específicamente:\n",
        "\n",
        "* Tipo de tarea: Segmentación de clientes mediante técnicas de clustering.\n",
        "\n",
        "* Algoritmos esperados: K-Means, DBSCAN, u otros métodos de agrupamiento."
      ],
      "metadata": {
        "id": "eqyT0PlvhqSH"
      }
    },
    {
      "cell_type": "markdown",
      "source": [
        "## 📈 Paso 1.3 Comprender la métrica de éxito"
      ],
      "metadata": {
        "id": "TDv_g5NWhJ1V"
      }
    },
    {
      "cell_type": "markdown",
      "source": [
        "Dado que no hay etiquetas (sin clasificación supervisada), el éxito se mide por:\n",
        "\n",
        "* Silhouette Score: mide la cohesión interna y separación entre clusters.\n",
        "\n",
        "* Davies-Bouldin Index: evalúa qué tan bien se separan los clusters.\n",
        "\n",
        "* Interpretabilidad del segmento: capacidad de describir y nombrar los clusters.\n",
        "\n",
        "* Viabilidad de acción comercial sobre los segmentos.\n"
      ],
      "metadata": {
        "id": "j_GfvD8iOGCl"
      }
    },
    {
      "cell_type": "markdown",
      "source": [
        "## ⚙️ [1.4] Establecer restricciones y criterios del entorno productivo"
      ],
      "metadata": {
        "id": "rOk8Z91MvuiF"
      }
    },
    {
      "cell_type": "markdown",
      "source": [
        "* Latencia baja: no se requiere predicción en tiempo real, ya que el análisis es batch y se puede actualizar mensualmente.\n",
        "\n",
        "* Interpretabilidad alta: se necesitan resultados comprensibles para el equipo de marketing no técnico.\n",
        "\n",
        "* Simplicidad del modelo: se prefiere un modelo sencillo y replicable sobre modelos complejos con poca ganancia marginal.\n",
        "\n",
        "* Reentrenamiento periódico: se sugiere revisión mensual o trimestral."
      ],
      "metadata": {
        "id": "ntirPRbRvuXb"
      }
    },
    {
      "cell_type": "markdown",
      "source": [
        "# 📌 **FASE 2: Recolección y Comprensión de los Datos**"
      ],
      "metadata": {
        "id": "ExyWhHhlhKyu"
      }
    },
    {
      "cell_type": "markdown",
      "source": [
        "## 📊 Paso 2.1 Carga del dataset desde fuentes internas o externas.\n"
      ],
      "metadata": {
        "id": "_QNQzbF6OLIo"
      }
    },
    {
      "cell_type": "code",
      "source": [
        "import pandas as pd\n",
        "import numpy as np\n",
        "import matplotlib.pyplot as plt\n",
        "import seaborn as sns"
      ],
      "metadata": {
        "id": "S7vujcdjO_aq"
      },
      "execution_count": 2,
      "outputs": []
    },
    {
      "cell_type": "code",
      "source": [
        "# 📁 Subir archivo desde tu equipo\n",
        "from google.colab import files\n",
        "uploaded = files.upload()\n",
        "uploaded_file_name = list(uploaded.keys())[0]\n",
        "df = pd.read_excel(uploaded_file_name)"
      ],
      "metadata": {
        "colab": {
          "base_uri": "https://localhost:8080/",
          "height": 71
        },
        "id": "tww_aJzaPC67",
        "outputId": "360b9bcf-02bf-42fe-81d2-fe0c143f0ea0"
      },
      "execution_count": 3,
      "outputs": [
        {
          "output_type": "display_data",
          "data": {
            "text/plain": [
              "<IPython.core.display.HTML object>"
            ],
            "text/html": [
              "\n",
              "     <input type=\"file\" id=\"files-cccd338d-4c44-4995-873e-336ac21ec96d\" name=\"files[]\" multiple disabled\n",
              "        style=\"border:none\" />\n",
              "     <output id=\"result-cccd338d-4c44-4995-873e-336ac21ec96d\">\n",
              "      Upload widget is only available when the cell has been executed in the\n",
              "      current browser session. Please rerun this cell to enable.\n",
              "      </output>\n",
              "      <script>// Copyright 2017 Google LLC\n",
              "//\n",
              "// Licensed under the Apache License, Version 2.0 (the \"License\");\n",
              "// you may not use this file except in compliance with the License.\n",
              "// You may obtain a copy of the License at\n",
              "//\n",
              "//      http://www.apache.org/licenses/LICENSE-2.0\n",
              "//\n",
              "// Unless required by applicable law or agreed to in writing, software\n",
              "// distributed under the License is distributed on an \"AS IS\" BASIS,\n",
              "// WITHOUT WARRANTIES OR CONDITIONS OF ANY KIND, either express or implied.\n",
              "// See the License for the specific language governing permissions and\n",
              "// limitations under the License.\n",
              "\n",
              "/**\n",
              " * @fileoverview Helpers for google.colab Python module.\n",
              " */\n",
              "(function(scope) {\n",
              "function span(text, styleAttributes = {}) {\n",
              "  const element = document.createElement('span');\n",
              "  element.textContent = text;\n",
              "  for (const key of Object.keys(styleAttributes)) {\n",
              "    element.style[key] = styleAttributes[key];\n",
              "  }\n",
              "  return element;\n",
              "}\n",
              "\n",
              "// Max number of bytes which will be uploaded at a time.\n",
              "const MAX_PAYLOAD_SIZE = 100 * 1024;\n",
              "\n",
              "function _uploadFiles(inputId, outputId) {\n",
              "  const steps = uploadFilesStep(inputId, outputId);\n",
              "  const outputElement = document.getElementById(outputId);\n",
              "  // Cache steps on the outputElement to make it available for the next call\n",
              "  // to uploadFilesContinue from Python.\n",
              "  outputElement.steps = steps;\n",
              "\n",
              "  return _uploadFilesContinue(outputId);\n",
              "}\n",
              "\n",
              "// This is roughly an async generator (not supported in the browser yet),\n",
              "// where there are multiple asynchronous steps and the Python side is going\n",
              "// to poll for completion of each step.\n",
              "// This uses a Promise to block the python side on completion of each step,\n",
              "// then passes the result of the previous step as the input to the next step.\n",
              "function _uploadFilesContinue(outputId) {\n",
              "  const outputElement = document.getElementById(outputId);\n",
              "  const steps = outputElement.steps;\n",
              "\n",
              "  const next = steps.next(outputElement.lastPromiseValue);\n",
              "  return Promise.resolve(next.value.promise).then((value) => {\n",
              "    // Cache the last promise value to make it available to the next\n",
              "    // step of the generator.\n",
              "    outputElement.lastPromiseValue = value;\n",
              "    return next.value.response;\n",
              "  });\n",
              "}\n",
              "\n",
              "/**\n",
              " * Generator function which is called between each async step of the upload\n",
              " * process.\n",
              " * @param {string} inputId Element ID of the input file picker element.\n",
              " * @param {string} outputId Element ID of the output display.\n",
              " * @return {!Iterable<!Object>} Iterable of next steps.\n",
              " */\n",
              "function* uploadFilesStep(inputId, outputId) {\n",
              "  const inputElement = document.getElementById(inputId);\n",
              "  inputElement.disabled = false;\n",
              "\n",
              "  const outputElement = document.getElementById(outputId);\n",
              "  outputElement.innerHTML = '';\n",
              "\n",
              "  const pickedPromise = new Promise((resolve) => {\n",
              "    inputElement.addEventListener('change', (e) => {\n",
              "      resolve(e.target.files);\n",
              "    });\n",
              "  });\n",
              "\n",
              "  const cancel = document.createElement('button');\n",
              "  inputElement.parentElement.appendChild(cancel);\n",
              "  cancel.textContent = 'Cancel upload';\n",
              "  const cancelPromise = new Promise((resolve) => {\n",
              "    cancel.onclick = () => {\n",
              "      resolve(null);\n",
              "    };\n",
              "  });\n",
              "\n",
              "  // Wait for the user to pick the files.\n",
              "  const files = yield {\n",
              "    promise: Promise.race([pickedPromise, cancelPromise]),\n",
              "    response: {\n",
              "      action: 'starting',\n",
              "    }\n",
              "  };\n",
              "\n",
              "  cancel.remove();\n",
              "\n",
              "  // Disable the input element since further picks are not allowed.\n",
              "  inputElement.disabled = true;\n",
              "\n",
              "  if (!files) {\n",
              "    return {\n",
              "      response: {\n",
              "        action: 'complete',\n",
              "      }\n",
              "    };\n",
              "  }\n",
              "\n",
              "  for (const file of files) {\n",
              "    const li = document.createElement('li');\n",
              "    li.append(span(file.name, {fontWeight: 'bold'}));\n",
              "    li.append(span(\n",
              "        `(${file.type || 'n/a'}) - ${file.size} bytes, ` +\n",
              "        `last modified: ${\n",
              "            file.lastModifiedDate ? file.lastModifiedDate.toLocaleDateString() :\n",
              "                                    'n/a'} - `));\n",
              "    const percent = span('0% done');\n",
              "    li.appendChild(percent);\n",
              "\n",
              "    outputElement.appendChild(li);\n",
              "\n",
              "    const fileDataPromise = new Promise((resolve) => {\n",
              "      const reader = new FileReader();\n",
              "      reader.onload = (e) => {\n",
              "        resolve(e.target.result);\n",
              "      };\n",
              "      reader.readAsArrayBuffer(file);\n",
              "    });\n",
              "    // Wait for the data to be ready.\n",
              "    let fileData = yield {\n",
              "      promise: fileDataPromise,\n",
              "      response: {\n",
              "        action: 'continue',\n",
              "      }\n",
              "    };\n",
              "\n",
              "    // Use a chunked sending to avoid message size limits. See b/62115660.\n",
              "    let position = 0;\n",
              "    do {\n",
              "      const length = Math.min(fileData.byteLength - position, MAX_PAYLOAD_SIZE);\n",
              "      const chunk = new Uint8Array(fileData, position, length);\n",
              "      position += length;\n",
              "\n",
              "      const base64 = btoa(String.fromCharCode.apply(null, chunk));\n",
              "      yield {\n",
              "        response: {\n",
              "          action: 'append',\n",
              "          file: file.name,\n",
              "          data: base64,\n",
              "        },\n",
              "      };\n",
              "\n",
              "      let percentDone = fileData.byteLength === 0 ?\n",
              "          100 :\n",
              "          Math.round((position / fileData.byteLength) * 100);\n",
              "      percent.textContent = `${percentDone}% done`;\n",
              "\n",
              "    } while (position < fileData.byteLength);\n",
              "  }\n",
              "\n",
              "  // All done.\n",
              "  yield {\n",
              "    response: {\n",
              "      action: 'complete',\n",
              "    }\n",
              "  };\n",
              "}\n",
              "\n",
              "scope.google = scope.google || {};\n",
              "scope.google.colab = scope.google.colab || {};\n",
              "scope.google.colab._files = {\n",
              "  _uploadFiles,\n",
              "  _uploadFilesContinue,\n",
              "};\n",
              "})(self);\n",
              "</script> "
            ]
          },
          "metadata": {}
        },
        {
          "output_type": "stream",
          "name": "stdout",
          "text": [
            "Saving Retail_Invoices.xlsx to Retail_Invoices.xlsx\n"
          ]
        }
      ]
    },
    {
      "cell_type": "markdown",
      "source": [
        "* El archivo entregado es: Retail_Invoices.xlsx.\n",
        "\n",
        "* Contiene 22.190 registros de compras realizadas por clientes de FreshMart.\n",
        "\n",
        "* Cada fila representa una boleta o transacción de compra."
      ],
      "metadata": {
        "id": "384mIpRyxky2"
      }
    },
    {
      "cell_type": "markdown",
      "source": [
        "## 📊 Paso 2.2 Revisión de las variables y comprensión de su significado\n"
      ],
      "metadata": {
        "id": "3nryQVuBOK_b"
      }
    },
    {
      "cell_type": "markdown",
      "source": [
        "| Variable      | Descripción |\n",
        "|---------------|-------------|\n",
        "| InvoiceNo     | ID único de cada boleta. |\n",
        "| InvoiceDate   | Fecha en que se realizó la compra |\n",
        "| CustomerId    | ID único del cliente |\n",
        "| Quantity      | Total de unidades compradas |\n",
        "| price_total   | Monto total de la compra |\n",
        "| StockCode     | Cantidad de productos distintos comprados |\n",
        "\n",
        "🔎 Observación: La granularidad de los datos está a nivel de boleta, pero la segmentación debe realizarse a nivel de cliente, lo que implica una transformación previa."
      ],
      "metadata": {
        "id": "5Lh3aazHW3bU"
      }
    },
    {
      "cell_type": "markdown",
      "source": [
        "## 📊 Paso 2.3  Identificación de la variable objetivo (target)"
      ],
      "metadata": {
        "id": "sme1kaV1OK1v"
      }
    },
    {
      "cell_type": "markdown",
      "source": [
        "* No existe una variable target explícita (esto no es clasificación supervisada).\n",
        "\n",
        "* El objetivo es descubrir grupos naturales (clusters) de clientes mediante variables generadas como RFM (Recency, Frequency, Monetary)."
      ],
      "metadata": {
        "id": "kxIGBr6ZYh3N"
      }
    },
    {
      "cell_type": "markdown",
      "source": [
        "## 📊 Paso 2.4  Verificación de la calidad y representatividad de los datos"
      ],
      "metadata": {
        "id": "Kp_OJGsByi9V"
      }
    },
    {
      "cell_type": "code",
      "source": [
        "# Descripción general del dataset\n",
        "df.info()"
      ],
      "metadata": {
        "colab": {
          "base_uri": "https://localhost:8080/"
        },
        "outputId": "67eeb5ec-3537-4e46-8039-d88c39308e7d",
        "id": "F5edO4GszfXM"
      },
      "execution_count": 4,
      "outputs": [
        {
          "output_type": "stream",
          "name": "stdout",
          "text": [
            "<class 'pandas.core.frame.DataFrame'>\n",
            "RangeIndex: 22190 entries, 0 to 22189\n",
            "Data columns (total 6 columns):\n",
            " #   Column       Non-Null Count  Dtype         \n",
            "---  ------       --------------  -----         \n",
            " 0   InvoiceNo    22190 non-null  object        \n",
            " 1   InvoiceDate  22190 non-null  datetime64[ns]\n",
            " 2   CustomerID   22190 non-null  int64         \n",
            " 3   Quantity     22190 non-null  int64         \n",
            " 4   price_total  22190 non-null  float64       \n",
            " 5   StockCode    22190 non-null  int64         \n",
            "dtypes: datetime64[ns](1), float64(1), int64(3), object(1)\n",
            "memory usage: 1.0+ MB\n"
          ]
        }
      ]
    },
    {
      "cell_type": "markdown",
      "source": [
        "* Sin valores nulos ni duplicados detectados. ✅\n",
        "\n",
        "* Valores extremos encontrados:\n",
        "\n",
        " * Quantity y price_total presentan valores negativos extremos → deben ser limpiados o clasificados como devoluciones.\n",
        "\n",
        "* Rango temporal y cantidad de clientes aún no evaluados (puede hacerse en el EDA posterior).\n",
        "\n",
        "* No hay variables categóricas, lo que simplifica el preprocesamiento."
      ],
      "metadata": {
        "id": "2RrDpQseyi9W"
      }
    },
    {
      "cell_type": "markdown",
      "source": [
        "## 📊 Paso 2.5  Documentación de supuestos sobre los datos"
      ],
      "metadata": {
        "id": "Fntx9zpjyjHD"
      }
    },
    {
      "cell_type": "markdown",
      "source": [
        "* StockCode se interpreta como el número de ítems distintos en la boleta (no código del producto individual).\n",
        "\n",
        "* Quantity negativa se interpreta como devoluciones o errores que deben eliminarse.\n",
        "\n",
        "* Se asume que cada InvoiceNo es una transacción única por cliente y fecha.\n",
        "\n",
        "* La columna price_total refleja el monto total pagado por el cliente en esa boleta.\n",
        "\n",
        "* Los datos cubren un periodo continuo (pendiente de validación en exploración temporal)."
      ],
      "metadata": {
        "id": "Y_LUvsZ-yjHD"
      }
    },
    {
      "cell_type": "markdown",
      "source": [
        "# 📌 **FASE 3: Exploración y Análisis de Datos (EDA)**\n"
      ],
      "metadata": {
        "id": "jK6RMQpBhKcS"
      }
    },
    {
      "cell_type": "markdown",
      "source": [
        "## 📊 Paso 3.1 Estadísticas descriptivas: medias, desviación, valores únicos."
      ],
      "metadata": {
        "id": "4axKK_tlYw3A"
      }
    },
    {
      "cell_type": "code",
      "source": [
        "df.head()"
      ],
      "metadata": {
        "colab": {
          "base_uri": "https://localhost:8080/",
          "height": 206
        },
        "id": "bJQuXbpy0wsv",
        "outputId": "a6ae9127-1d83-43a9-ea6b-510b0affe7ee"
      },
      "execution_count": 6,
      "outputs": [
        {
          "output_type": "execute_result",
          "data": {
            "text/plain": [
              "  InvoiceNo InvoiceDate  CustomerID  Quantity  price_total  StockCode\n",
              "0    536365  2010-12-01       17850        40       139.12          7\n",
              "1    536366  2010-12-01       17850        12        22.20          2\n",
              "2    536367  2010-12-01       13047        83       278.73         12\n",
              "3    536368  2010-12-01       13047        15        70.05          4\n",
              "4    536369  2010-12-01       13047         3        17.85          1"
            ],
            "text/html": [
              "\n",
              "  <div id=\"df-8ac4dd12-7f27-4069-8fb9-20ea810f0d9d\" class=\"colab-df-container\">\n",
              "    <div>\n",
              "<style scoped>\n",
              "    .dataframe tbody tr th:only-of-type {\n",
              "        vertical-align: middle;\n",
              "    }\n",
              "\n",
              "    .dataframe tbody tr th {\n",
              "        vertical-align: top;\n",
              "    }\n",
              "\n",
              "    .dataframe thead th {\n",
              "        text-align: right;\n",
              "    }\n",
              "</style>\n",
              "<table border=\"1\" class=\"dataframe\">\n",
              "  <thead>\n",
              "    <tr style=\"text-align: right;\">\n",
              "      <th></th>\n",
              "      <th>InvoiceNo</th>\n",
              "      <th>InvoiceDate</th>\n",
              "      <th>CustomerID</th>\n",
              "      <th>Quantity</th>\n",
              "      <th>price_total</th>\n",
              "      <th>StockCode</th>\n",
              "    </tr>\n",
              "  </thead>\n",
              "  <tbody>\n",
              "    <tr>\n",
              "      <th>0</th>\n",
              "      <td>536365</td>\n",
              "      <td>2010-12-01</td>\n",
              "      <td>17850</td>\n",
              "      <td>40</td>\n",
              "      <td>139.12</td>\n",
              "      <td>7</td>\n",
              "    </tr>\n",
              "    <tr>\n",
              "      <th>1</th>\n",
              "      <td>536366</td>\n",
              "      <td>2010-12-01</td>\n",
              "      <td>17850</td>\n",
              "      <td>12</td>\n",
              "      <td>22.20</td>\n",
              "      <td>2</td>\n",
              "    </tr>\n",
              "    <tr>\n",
              "      <th>2</th>\n",
              "      <td>536367</td>\n",
              "      <td>2010-12-01</td>\n",
              "      <td>13047</td>\n",
              "      <td>83</td>\n",
              "      <td>278.73</td>\n",
              "      <td>12</td>\n",
              "    </tr>\n",
              "    <tr>\n",
              "      <th>3</th>\n",
              "      <td>536368</td>\n",
              "      <td>2010-12-01</td>\n",
              "      <td>13047</td>\n",
              "      <td>15</td>\n",
              "      <td>70.05</td>\n",
              "      <td>4</td>\n",
              "    </tr>\n",
              "    <tr>\n",
              "      <th>4</th>\n",
              "      <td>536369</td>\n",
              "      <td>2010-12-01</td>\n",
              "      <td>13047</td>\n",
              "      <td>3</td>\n",
              "      <td>17.85</td>\n",
              "      <td>1</td>\n",
              "    </tr>\n",
              "  </tbody>\n",
              "</table>\n",
              "</div>\n",
              "    <div class=\"colab-df-buttons\">\n",
              "\n",
              "  <div class=\"colab-df-container\">\n",
              "    <button class=\"colab-df-convert\" onclick=\"convertToInteractive('df-8ac4dd12-7f27-4069-8fb9-20ea810f0d9d')\"\n",
              "            title=\"Convert this dataframe to an interactive table.\"\n",
              "            style=\"display:none;\">\n",
              "\n",
              "  <svg xmlns=\"http://www.w3.org/2000/svg\" height=\"24px\" viewBox=\"0 -960 960 960\">\n",
              "    <path d=\"M120-120v-720h720v720H120Zm60-500h600v-160H180v160Zm220 220h160v-160H400v160Zm0 220h160v-160H400v160ZM180-400h160v-160H180v160Zm440 0h160v-160H620v160ZM180-180h160v-160H180v160Zm440 0h160v-160H620v160Z\"/>\n",
              "  </svg>\n",
              "    </button>\n",
              "\n",
              "  <style>\n",
              "    .colab-df-container {\n",
              "      display:flex;\n",
              "      gap: 12px;\n",
              "    }\n",
              "\n",
              "    .colab-df-convert {\n",
              "      background-color: #E8F0FE;\n",
              "      border: none;\n",
              "      border-radius: 50%;\n",
              "      cursor: pointer;\n",
              "      display: none;\n",
              "      fill: #1967D2;\n",
              "      height: 32px;\n",
              "      padding: 0 0 0 0;\n",
              "      width: 32px;\n",
              "    }\n",
              "\n",
              "    .colab-df-convert:hover {\n",
              "      background-color: #E2EBFA;\n",
              "      box-shadow: 0px 1px 2px rgba(60, 64, 67, 0.3), 0px 1px 3px 1px rgba(60, 64, 67, 0.15);\n",
              "      fill: #174EA6;\n",
              "    }\n",
              "\n",
              "    .colab-df-buttons div {\n",
              "      margin-bottom: 4px;\n",
              "    }\n",
              "\n",
              "    [theme=dark] .colab-df-convert {\n",
              "      background-color: #3B4455;\n",
              "      fill: #D2E3FC;\n",
              "    }\n",
              "\n",
              "    [theme=dark] .colab-df-convert:hover {\n",
              "      background-color: #434B5C;\n",
              "      box-shadow: 0px 1px 3px 1px rgba(0, 0, 0, 0.15);\n",
              "      filter: drop-shadow(0px 1px 2px rgba(0, 0, 0, 0.3));\n",
              "      fill: #FFFFFF;\n",
              "    }\n",
              "  </style>\n",
              "\n",
              "    <script>\n",
              "      const buttonEl =\n",
              "        document.querySelector('#df-8ac4dd12-7f27-4069-8fb9-20ea810f0d9d button.colab-df-convert');\n",
              "      buttonEl.style.display =\n",
              "        google.colab.kernel.accessAllowed ? 'block' : 'none';\n",
              "\n",
              "      async function convertToInteractive(key) {\n",
              "        const element = document.querySelector('#df-8ac4dd12-7f27-4069-8fb9-20ea810f0d9d');\n",
              "        const dataTable =\n",
              "          await google.colab.kernel.invokeFunction('convertToInteractive',\n",
              "                                                    [key], {});\n",
              "        if (!dataTable) return;\n",
              "\n",
              "        const docLinkHtml = 'Like what you see? Visit the ' +\n",
              "          '<a target=\"_blank\" href=https://colab.research.google.com/notebooks/data_table.ipynb>data table notebook</a>'\n",
              "          + ' to learn more about interactive tables.';\n",
              "        element.innerHTML = '';\n",
              "        dataTable['output_type'] = 'display_data';\n",
              "        await google.colab.output.renderOutput(dataTable, element);\n",
              "        const docLink = document.createElement('div');\n",
              "        docLink.innerHTML = docLinkHtml;\n",
              "        element.appendChild(docLink);\n",
              "      }\n",
              "    </script>\n",
              "  </div>\n",
              "\n",
              "\n",
              "    <div id=\"df-2383eb0a-d267-4283-b7ce-534cac9d6ccc\">\n",
              "      <button class=\"colab-df-quickchart\" onclick=\"quickchart('df-2383eb0a-d267-4283-b7ce-534cac9d6ccc')\"\n",
              "                title=\"Suggest charts\"\n",
              "                style=\"display:none;\">\n",
              "\n",
              "<svg xmlns=\"http://www.w3.org/2000/svg\" height=\"24px\"viewBox=\"0 0 24 24\"\n",
              "     width=\"24px\">\n",
              "    <g>\n",
              "        <path d=\"M19 3H5c-1.1 0-2 .9-2 2v14c0 1.1.9 2 2 2h14c1.1 0 2-.9 2-2V5c0-1.1-.9-2-2-2zM9 17H7v-7h2v7zm4 0h-2V7h2v10zm4 0h-2v-4h2v4z\"/>\n",
              "    </g>\n",
              "</svg>\n",
              "      </button>\n",
              "\n",
              "<style>\n",
              "  .colab-df-quickchart {\n",
              "      --bg-color: #E8F0FE;\n",
              "      --fill-color: #1967D2;\n",
              "      --hover-bg-color: #E2EBFA;\n",
              "      --hover-fill-color: #174EA6;\n",
              "      --disabled-fill-color: #AAA;\n",
              "      --disabled-bg-color: #DDD;\n",
              "  }\n",
              "\n",
              "  [theme=dark] .colab-df-quickchart {\n",
              "      --bg-color: #3B4455;\n",
              "      --fill-color: #D2E3FC;\n",
              "      --hover-bg-color: #434B5C;\n",
              "      --hover-fill-color: #FFFFFF;\n",
              "      --disabled-bg-color: #3B4455;\n",
              "      --disabled-fill-color: #666;\n",
              "  }\n",
              "\n",
              "  .colab-df-quickchart {\n",
              "    background-color: var(--bg-color);\n",
              "    border: none;\n",
              "    border-radius: 50%;\n",
              "    cursor: pointer;\n",
              "    display: none;\n",
              "    fill: var(--fill-color);\n",
              "    height: 32px;\n",
              "    padding: 0;\n",
              "    width: 32px;\n",
              "  }\n",
              "\n",
              "  .colab-df-quickchart:hover {\n",
              "    background-color: var(--hover-bg-color);\n",
              "    box-shadow: 0 1px 2px rgba(60, 64, 67, 0.3), 0 1px 3px 1px rgba(60, 64, 67, 0.15);\n",
              "    fill: var(--button-hover-fill-color);\n",
              "  }\n",
              "\n",
              "  .colab-df-quickchart-complete:disabled,\n",
              "  .colab-df-quickchart-complete:disabled:hover {\n",
              "    background-color: var(--disabled-bg-color);\n",
              "    fill: var(--disabled-fill-color);\n",
              "    box-shadow: none;\n",
              "  }\n",
              "\n",
              "  .colab-df-spinner {\n",
              "    border: 2px solid var(--fill-color);\n",
              "    border-color: transparent;\n",
              "    border-bottom-color: var(--fill-color);\n",
              "    animation:\n",
              "      spin 1s steps(1) infinite;\n",
              "  }\n",
              "\n",
              "  @keyframes spin {\n",
              "    0% {\n",
              "      border-color: transparent;\n",
              "      border-bottom-color: var(--fill-color);\n",
              "      border-left-color: var(--fill-color);\n",
              "    }\n",
              "    20% {\n",
              "      border-color: transparent;\n",
              "      border-left-color: var(--fill-color);\n",
              "      border-top-color: var(--fill-color);\n",
              "    }\n",
              "    30% {\n",
              "      border-color: transparent;\n",
              "      border-left-color: var(--fill-color);\n",
              "      border-top-color: var(--fill-color);\n",
              "      border-right-color: var(--fill-color);\n",
              "    }\n",
              "    40% {\n",
              "      border-color: transparent;\n",
              "      border-right-color: var(--fill-color);\n",
              "      border-top-color: var(--fill-color);\n",
              "    }\n",
              "    60% {\n",
              "      border-color: transparent;\n",
              "      border-right-color: var(--fill-color);\n",
              "    }\n",
              "    80% {\n",
              "      border-color: transparent;\n",
              "      border-right-color: var(--fill-color);\n",
              "      border-bottom-color: var(--fill-color);\n",
              "    }\n",
              "    90% {\n",
              "      border-color: transparent;\n",
              "      border-bottom-color: var(--fill-color);\n",
              "    }\n",
              "  }\n",
              "</style>\n",
              "\n",
              "      <script>\n",
              "        async function quickchart(key) {\n",
              "          const quickchartButtonEl =\n",
              "            document.querySelector('#' + key + ' button');\n",
              "          quickchartButtonEl.disabled = true;  // To prevent multiple clicks.\n",
              "          quickchartButtonEl.classList.add('colab-df-spinner');\n",
              "          try {\n",
              "            const charts = await google.colab.kernel.invokeFunction(\n",
              "                'suggestCharts', [key], {});\n",
              "          } catch (error) {\n",
              "            console.error('Error during call to suggestCharts:', error);\n",
              "          }\n",
              "          quickchartButtonEl.classList.remove('colab-df-spinner');\n",
              "          quickchartButtonEl.classList.add('colab-df-quickchart-complete');\n",
              "        }\n",
              "        (() => {\n",
              "          let quickchartButtonEl =\n",
              "            document.querySelector('#df-2383eb0a-d267-4283-b7ce-534cac9d6ccc button');\n",
              "          quickchartButtonEl.style.display =\n",
              "            google.colab.kernel.accessAllowed ? 'block' : 'none';\n",
              "        })();\n",
              "      </script>\n",
              "    </div>\n",
              "\n",
              "    </div>\n",
              "  </div>\n"
            ],
            "application/vnd.google.colaboratory.intrinsic+json": {
              "type": "dataframe",
              "variable_name": "df",
              "summary": "{\n  \"name\": \"df\",\n  \"rows\": 22190,\n  \"fields\": [\n    {\n      \"column\": \"InvoiceNo\",\n      \"properties\": {\n        \"dtype\": \"string\",\n        \"num_unique_values\": 22190,\n        \"samples\": [\n          536795,\n          \"C546234\",\n          540823\n        ],\n        \"semantic_type\": \"\",\n        \"description\": \"\"\n      }\n    },\n    {\n      \"column\": \"InvoiceDate\",\n      \"properties\": {\n        \"dtype\": \"date\",\n        \"min\": \"2010-12-01 00:00:00\",\n        \"max\": \"2011-12-09 00:00:00\",\n        \"num_unique_values\": 305,\n        \"samples\": [\n          \"2011-07-17 00:00:00\",\n          \"2011-06-16 00:00:00\",\n          \"2011-04-20 00:00:00\"\n        ],\n        \"semantic_type\": \"\",\n        \"description\": \"\"\n      }\n    },\n    {\n      \"column\": \"CustomerID\",\n      \"properties\": {\n        \"dtype\": \"number\",\n        \"std\": 1733,\n        \"min\": 12346,\n        \"max\": 18287,\n        \"num_unique_values\": 4372,\n        \"samples\": [\n          18191,\n          18043,\n          18269\n        ],\n        \"semantic_type\": \"\",\n        \"description\": \"\"\n      }\n    },\n    {\n      \"column\": \"Quantity\",\n      \"properties\": {\n        \"dtype\": \"number\",\n        \"std\": 1170,\n        \"min\": -80995,\n        \"max\": 80995,\n        \"num_unique_values\": 1594,\n        \"samples\": [\n          2794,\n          2084,\n          13392\n        ],\n        \"semantic_type\": \"\",\n        \"description\": \"\"\n      }\n    },\n    {\n      \"column\": \"price_total\",\n      \"properties\": {\n        \"dtype\": \"number\",\n        \"std\": 2018.4828692316096,\n        \"min\": -168469.6,\n        \"max\": 168469.6,\n        \"num_unique_values\": 16534,\n        \"samples\": [\n          388.68,\n          304.94,\n          535.6\n        ],\n        \"semantic_type\": \"\",\n        \"description\": \"\"\n      }\n    },\n    {\n      \"column\": \"StockCode\",\n      \"properties\": {\n        \"dtype\": \"number\",\n        \"std\": 23,\n        \"min\": 1,\n        \"max\": 542,\n        \"num_unique_values\": 199,\n        \"samples\": [\n          68,\n          11,\n          96\n        ],\n        \"semantic_type\": \"\",\n        \"description\": \"\"\n      }\n    }\n  ]\n}"
            }
          },
          "metadata": {},
          "execution_count": 6
        }
      ]
    },
    {
      "cell_type": "code",
      "source": [
        "# Descripción general del dataset\n",
        "df.info()"
      ],
      "metadata": {
        "colab": {
          "base_uri": "https://localhost:8080/"
        },
        "id": "u3N-9sUyZhko",
        "outputId": "64693744-8189-4a71-e830-4bee4120f63f"
      },
      "execution_count": 7,
      "outputs": [
        {
          "output_type": "stream",
          "name": "stdout",
          "text": [
            "<class 'pandas.core.frame.DataFrame'>\n",
            "RangeIndex: 22190 entries, 0 to 22189\n",
            "Data columns (total 6 columns):\n",
            " #   Column       Non-Null Count  Dtype         \n",
            "---  ------       --------------  -----         \n",
            " 0   InvoiceNo    22190 non-null  object        \n",
            " 1   InvoiceDate  22190 non-null  datetime64[ns]\n",
            " 2   CustomerID   22190 non-null  int64         \n",
            " 3   Quantity     22190 non-null  int64         \n",
            " 4   price_total  22190 non-null  float64       \n",
            " 5   StockCode    22190 non-null  int64         \n",
            "dtypes: datetime64[ns](1), float64(1), int64(3), object(1)\n",
            "memory usage: 1.0+ MB\n"
          ]
        }
      ]
    },
    {
      "cell_type": "code",
      "source": [
        "# Valores únicos por columna\n",
        "df.nunique()"
      ],
      "metadata": {
        "colab": {
          "base_uri": "https://localhost:8080/",
          "height": 273
        },
        "id": "l4_rQbPMZr_K",
        "outputId": "771d59ae-c19f-4319-e5c9-3c7509b5b003"
      },
      "execution_count": 8,
      "outputs": [
        {
          "output_type": "execute_result",
          "data": {
            "text/plain": [
              "InvoiceNo      22190\n",
              "InvoiceDate      305\n",
              "CustomerID      4372\n",
              "Quantity        1594\n",
              "price_total    16534\n",
              "StockCode        199\n",
              "dtype: int64"
            ],
            "text/html": [
              "<div>\n",
              "<style scoped>\n",
              "    .dataframe tbody tr th:only-of-type {\n",
              "        vertical-align: middle;\n",
              "    }\n",
              "\n",
              "    .dataframe tbody tr th {\n",
              "        vertical-align: top;\n",
              "    }\n",
              "\n",
              "    .dataframe thead th {\n",
              "        text-align: right;\n",
              "    }\n",
              "</style>\n",
              "<table border=\"1\" class=\"dataframe\">\n",
              "  <thead>\n",
              "    <tr style=\"text-align: right;\">\n",
              "      <th></th>\n",
              "      <th>0</th>\n",
              "    </tr>\n",
              "  </thead>\n",
              "  <tbody>\n",
              "    <tr>\n",
              "      <th>InvoiceNo</th>\n",
              "      <td>22190</td>\n",
              "    </tr>\n",
              "    <tr>\n",
              "      <th>InvoiceDate</th>\n",
              "      <td>305</td>\n",
              "    </tr>\n",
              "    <tr>\n",
              "      <th>CustomerID</th>\n",
              "      <td>4372</td>\n",
              "    </tr>\n",
              "    <tr>\n",
              "      <th>Quantity</th>\n",
              "      <td>1594</td>\n",
              "    </tr>\n",
              "    <tr>\n",
              "      <th>price_total</th>\n",
              "      <td>16534</td>\n",
              "    </tr>\n",
              "    <tr>\n",
              "      <th>StockCode</th>\n",
              "      <td>199</td>\n",
              "    </tr>\n",
              "  </tbody>\n",
              "</table>\n",
              "</div><br><label><b>dtype:</b> int64</label>"
            ]
          },
          "metadata": {},
          "execution_count": 8
        }
      ]
    },
    {
      "cell_type": "code",
      "source": [
        "# Estadísticas descriptivas con 3 decimales\n",
        "stats_selected = df[['Quantity', 'price_total', 'StockCode']].describe().round(3)\n",
        "\n",
        "# Cálculo de la moda para cada variable (se toma la primera si hay varias)\n",
        "modes = df[['Quantity', 'price_total', 'StockCode']].mode().iloc[0].round(3)\n",
        "\n",
        "# Agregar la moda al resumen\n",
        "stats_selected.loc['mode'] = modes\n",
        "\n",
        "# Mostrar resultados\n",
        "stats_selected\n"
      ],
      "metadata": {
        "colab": {
          "base_uri": "https://localhost:8080/",
          "height": 332
        },
        "id": "Cd8EkPZu2TXw",
        "outputId": "6d46a3d6-ae71-407d-ca6f-2d085abfa777"
      },
      "execution_count": 9,
      "outputs": [
        {
          "output_type": "execute_result",
          "data": {
            "text/plain": [
              "        Quantity  price_total  StockCode\n",
              "count  22190.000    22190.000  22190.000\n",
              "mean     221.131      374.045     18.334\n",
              "std     1170.215     2018.483     23.892\n",
              "min   -80995.000  -168469.600      1.000\n",
              "25%       30.000       87.962      3.000\n",
              "50%      120.000      241.505     12.000\n",
              "75%      254.000      418.022     24.000\n",
              "max    80995.000   168469.600    542.000\n",
              "mode      -1.000       -4.950      1.000"
            ],
            "text/html": [
              "\n",
              "  <div id=\"df-ee42980d-d9a1-452c-9ce5-c0f6c81fb5ef\" class=\"colab-df-container\">\n",
              "    <div>\n",
              "<style scoped>\n",
              "    .dataframe tbody tr th:only-of-type {\n",
              "        vertical-align: middle;\n",
              "    }\n",
              "\n",
              "    .dataframe tbody tr th {\n",
              "        vertical-align: top;\n",
              "    }\n",
              "\n",
              "    .dataframe thead th {\n",
              "        text-align: right;\n",
              "    }\n",
              "</style>\n",
              "<table border=\"1\" class=\"dataframe\">\n",
              "  <thead>\n",
              "    <tr style=\"text-align: right;\">\n",
              "      <th></th>\n",
              "      <th>Quantity</th>\n",
              "      <th>price_total</th>\n",
              "      <th>StockCode</th>\n",
              "    </tr>\n",
              "  </thead>\n",
              "  <tbody>\n",
              "    <tr>\n",
              "      <th>count</th>\n",
              "      <td>22190.000</td>\n",
              "      <td>22190.000</td>\n",
              "      <td>22190.000</td>\n",
              "    </tr>\n",
              "    <tr>\n",
              "      <th>mean</th>\n",
              "      <td>221.131</td>\n",
              "      <td>374.045</td>\n",
              "      <td>18.334</td>\n",
              "    </tr>\n",
              "    <tr>\n",
              "      <th>std</th>\n",
              "      <td>1170.215</td>\n",
              "      <td>2018.483</td>\n",
              "      <td>23.892</td>\n",
              "    </tr>\n",
              "    <tr>\n",
              "      <th>min</th>\n",
              "      <td>-80995.000</td>\n",
              "      <td>-168469.600</td>\n",
              "      <td>1.000</td>\n",
              "    </tr>\n",
              "    <tr>\n",
              "      <th>25%</th>\n",
              "      <td>30.000</td>\n",
              "      <td>87.962</td>\n",
              "      <td>3.000</td>\n",
              "    </tr>\n",
              "    <tr>\n",
              "      <th>50%</th>\n",
              "      <td>120.000</td>\n",
              "      <td>241.505</td>\n",
              "      <td>12.000</td>\n",
              "    </tr>\n",
              "    <tr>\n",
              "      <th>75%</th>\n",
              "      <td>254.000</td>\n",
              "      <td>418.022</td>\n",
              "      <td>24.000</td>\n",
              "    </tr>\n",
              "    <tr>\n",
              "      <th>max</th>\n",
              "      <td>80995.000</td>\n",
              "      <td>168469.600</td>\n",
              "      <td>542.000</td>\n",
              "    </tr>\n",
              "    <tr>\n",
              "      <th>mode</th>\n",
              "      <td>-1.000</td>\n",
              "      <td>-4.950</td>\n",
              "      <td>1.000</td>\n",
              "    </tr>\n",
              "  </tbody>\n",
              "</table>\n",
              "</div>\n",
              "    <div class=\"colab-df-buttons\">\n",
              "\n",
              "  <div class=\"colab-df-container\">\n",
              "    <button class=\"colab-df-convert\" onclick=\"convertToInteractive('df-ee42980d-d9a1-452c-9ce5-c0f6c81fb5ef')\"\n",
              "            title=\"Convert this dataframe to an interactive table.\"\n",
              "            style=\"display:none;\">\n",
              "\n",
              "  <svg xmlns=\"http://www.w3.org/2000/svg\" height=\"24px\" viewBox=\"0 -960 960 960\">\n",
              "    <path d=\"M120-120v-720h720v720H120Zm60-500h600v-160H180v160Zm220 220h160v-160H400v160Zm0 220h160v-160H400v160ZM180-400h160v-160H180v160Zm440 0h160v-160H620v160ZM180-180h160v-160H180v160Zm440 0h160v-160H620v160Z\"/>\n",
              "  </svg>\n",
              "    </button>\n",
              "\n",
              "  <style>\n",
              "    .colab-df-container {\n",
              "      display:flex;\n",
              "      gap: 12px;\n",
              "    }\n",
              "\n",
              "    .colab-df-convert {\n",
              "      background-color: #E8F0FE;\n",
              "      border: none;\n",
              "      border-radius: 50%;\n",
              "      cursor: pointer;\n",
              "      display: none;\n",
              "      fill: #1967D2;\n",
              "      height: 32px;\n",
              "      padding: 0 0 0 0;\n",
              "      width: 32px;\n",
              "    }\n",
              "\n",
              "    .colab-df-convert:hover {\n",
              "      background-color: #E2EBFA;\n",
              "      box-shadow: 0px 1px 2px rgba(60, 64, 67, 0.3), 0px 1px 3px 1px rgba(60, 64, 67, 0.15);\n",
              "      fill: #174EA6;\n",
              "    }\n",
              "\n",
              "    .colab-df-buttons div {\n",
              "      margin-bottom: 4px;\n",
              "    }\n",
              "\n",
              "    [theme=dark] .colab-df-convert {\n",
              "      background-color: #3B4455;\n",
              "      fill: #D2E3FC;\n",
              "    }\n",
              "\n",
              "    [theme=dark] .colab-df-convert:hover {\n",
              "      background-color: #434B5C;\n",
              "      box-shadow: 0px 1px 3px 1px rgba(0, 0, 0, 0.15);\n",
              "      filter: drop-shadow(0px 1px 2px rgba(0, 0, 0, 0.3));\n",
              "      fill: #FFFFFF;\n",
              "    }\n",
              "  </style>\n",
              "\n",
              "    <script>\n",
              "      const buttonEl =\n",
              "        document.querySelector('#df-ee42980d-d9a1-452c-9ce5-c0f6c81fb5ef button.colab-df-convert');\n",
              "      buttonEl.style.display =\n",
              "        google.colab.kernel.accessAllowed ? 'block' : 'none';\n",
              "\n",
              "      async function convertToInteractive(key) {\n",
              "        const element = document.querySelector('#df-ee42980d-d9a1-452c-9ce5-c0f6c81fb5ef');\n",
              "        const dataTable =\n",
              "          await google.colab.kernel.invokeFunction('convertToInteractive',\n",
              "                                                    [key], {});\n",
              "        if (!dataTable) return;\n",
              "\n",
              "        const docLinkHtml = 'Like what you see? Visit the ' +\n",
              "          '<a target=\"_blank\" href=https://colab.research.google.com/notebooks/data_table.ipynb>data table notebook</a>'\n",
              "          + ' to learn more about interactive tables.';\n",
              "        element.innerHTML = '';\n",
              "        dataTable['output_type'] = 'display_data';\n",
              "        await google.colab.output.renderOutput(dataTable, element);\n",
              "        const docLink = document.createElement('div');\n",
              "        docLink.innerHTML = docLinkHtml;\n",
              "        element.appendChild(docLink);\n",
              "      }\n",
              "    </script>\n",
              "  </div>\n",
              "\n",
              "\n",
              "    <div id=\"df-dd94b1d3-733b-46b7-a6be-04f82ab27766\">\n",
              "      <button class=\"colab-df-quickchart\" onclick=\"quickchart('df-dd94b1d3-733b-46b7-a6be-04f82ab27766')\"\n",
              "                title=\"Suggest charts\"\n",
              "                style=\"display:none;\">\n",
              "\n",
              "<svg xmlns=\"http://www.w3.org/2000/svg\" height=\"24px\"viewBox=\"0 0 24 24\"\n",
              "     width=\"24px\">\n",
              "    <g>\n",
              "        <path d=\"M19 3H5c-1.1 0-2 .9-2 2v14c0 1.1.9 2 2 2h14c1.1 0 2-.9 2-2V5c0-1.1-.9-2-2-2zM9 17H7v-7h2v7zm4 0h-2V7h2v10zm4 0h-2v-4h2v4z\"/>\n",
              "    </g>\n",
              "</svg>\n",
              "      </button>\n",
              "\n",
              "<style>\n",
              "  .colab-df-quickchart {\n",
              "      --bg-color: #E8F0FE;\n",
              "      --fill-color: #1967D2;\n",
              "      --hover-bg-color: #E2EBFA;\n",
              "      --hover-fill-color: #174EA6;\n",
              "      --disabled-fill-color: #AAA;\n",
              "      --disabled-bg-color: #DDD;\n",
              "  }\n",
              "\n",
              "  [theme=dark] .colab-df-quickchart {\n",
              "      --bg-color: #3B4455;\n",
              "      --fill-color: #D2E3FC;\n",
              "      --hover-bg-color: #434B5C;\n",
              "      --hover-fill-color: #FFFFFF;\n",
              "      --disabled-bg-color: #3B4455;\n",
              "      --disabled-fill-color: #666;\n",
              "  }\n",
              "\n",
              "  .colab-df-quickchart {\n",
              "    background-color: var(--bg-color);\n",
              "    border: none;\n",
              "    border-radius: 50%;\n",
              "    cursor: pointer;\n",
              "    display: none;\n",
              "    fill: var(--fill-color);\n",
              "    height: 32px;\n",
              "    padding: 0;\n",
              "    width: 32px;\n",
              "  }\n",
              "\n",
              "  .colab-df-quickchart:hover {\n",
              "    background-color: var(--hover-bg-color);\n",
              "    box-shadow: 0 1px 2px rgba(60, 64, 67, 0.3), 0 1px 3px 1px rgba(60, 64, 67, 0.15);\n",
              "    fill: var(--button-hover-fill-color);\n",
              "  }\n",
              "\n",
              "  .colab-df-quickchart-complete:disabled,\n",
              "  .colab-df-quickchart-complete:disabled:hover {\n",
              "    background-color: var(--disabled-bg-color);\n",
              "    fill: var(--disabled-fill-color);\n",
              "    box-shadow: none;\n",
              "  }\n",
              "\n",
              "  .colab-df-spinner {\n",
              "    border: 2px solid var(--fill-color);\n",
              "    border-color: transparent;\n",
              "    border-bottom-color: var(--fill-color);\n",
              "    animation:\n",
              "      spin 1s steps(1) infinite;\n",
              "  }\n",
              "\n",
              "  @keyframes spin {\n",
              "    0% {\n",
              "      border-color: transparent;\n",
              "      border-bottom-color: var(--fill-color);\n",
              "      border-left-color: var(--fill-color);\n",
              "    }\n",
              "    20% {\n",
              "      border-color: transparent;\n",
              "      border-left-color: var(--fill-color);\n",
              "      border-top-color: var(--fill-color);\n",
              "    }\n",
              "    30% {\n",
              "      border-color: transparent;\n",
              "      border-left-color: var(--fill-color);\n",
              "      border-top-color: var(--fill-color);\n",
              "      border-right-color: var(--fill-color);\n",
              "    }\n",
              "    40% {\n",
              "      border-color: transparent;\n",
              "      border-right-color: var(--fill-color);\n",
              "      border-top-color: var(--fill-color);\n",
              "    }\n",
              "    60% {\n",
              "      border-color: transparent;\n",
              "      border-right-color: var(--fill-color);\n",
              "    }\n",
              "    80% {\n",
              "      border-color: transparent;\n",
              "      border-right-color: var(--fill-color);\n",
              "      border-bottom-color: var(--fill-color);\n",
              "    }\n",
              "    90% {\n",
              "      border-color: transparent;\n",
              "      border-bottom-color: var(--fill-color);\n",
              "    }\n",
              "  }\n",
              "</style>\n",
              "\n",
              "      <script>\n",
              "        async function quickchart(key) {\n",
              "          const quickchartButtonEl =\n",
              "            document.querySelector('#' + key + ' button');\n",
              "          quickchartButtonEl.disabled = true;  // To prevent multiple clicks.\n",
              "          quickchartButtonEl.classList.add('colab-df-spinner');\n",
              "          try {\n",
              "            const charts = await google.colab.kernel.invokeFunction(\n",
              "                'suggestCharts', [key], {});\n",
              "          } catch (error) {\n",
              "            console.error('Error during call to suggestCharts:', error);\n",
              "          }\n",
              "          quickchartButtonEl.classList.remove('colab-df-spinner');\n",
              "          quickchartButtonEl.classList.add('colab-df-quickchart-complete');\n",
              "        }\n",
              "        (() => {\n",
              "          let quickchartButtonEl =\n",
              "            document.querySelector('#df-dd94b1d3-733b-46b7-a6be-04f82ab27766 button');\n",
              "          quickchartButtonEl.style.display =\n",
              "            google.colab.kernel.accessAllowed ? 'block' : 'none';\n",
              "        })();\n",
              "      </script>\n",
              "    </div>\n",
              "\n",
              "  <div id=\"id_ea8014fd-8ae0-4cb7-b619-6130f15de00a\">\n",
              "    <style>\n",
              "      .colab-df-generate {\n",
              "        background-color: #E8F0FE;\n",
              "        border: none;\n",
              "        border-radius: 50%;\n",
              "        cursor: pointer;\n",
              "        display: none;\n",
              "        fill: #1967D2;\n",
              "        height: 32px;\n",
              "        padding: 0 0 0 0;\n",
              "        width: 32px;\n",
              "      }\n",
              "\n",
              "      .colab-df-generate:hover {\n",
              "        background-color: #E2EBFA;\n",
              "        box-shadow: 0px 1px 2px rgba(60, 64, 67, 0.3), 0px 1px 3px 1px rgba(60, 64, 67, 0.15);\n",
              "        fill: #174EA6;\n",
              "      }\n",
              "\n",
              "      [theme=dark] .colab-df-generate {\n",
              "        background-color: #3B4455;\n",
              "        fill: #D2E3FC;\n",
              "      }\n",
              "\n",
              "      [theme=dark] .colab-df-generate:hover {\n",
              "        background-color: #434B5C;\n",
              "        box-shadow: 0px 1px 3px 1px rgba(0, 0, 0, 0.15);\n",
              "        filter: drop-shadow(0px 1px 2px rgba(0, 0, 0, 0.3));\n",
              "        fill: #FFFFFF;\n",
              "      }\n",
              "    </style>\n",
              "    <button class=\"colab-df-generate\" onclick=\"generateWithVariable('stats_selected')\"\n",
              "            title=\"Generate code using this dataframe.\"\n",
              "            style=\"display:none;\">\n",
              "\n",
              "  <svg xmlns=\"http://www.w3.org/2000/svg\" height=\"24px\"viewBox=\"0 0 24 24\"\n",
              "       width=\"24px\">\n",
              "    <path d=\"M7,19H8.4L18.45,9,17,7.55,7,17.6ZM5,21V16.75L18.45,3.32a2,2,0,0,1,2.83,0l1.4,1.43a1.91,1.91,0,0,1,.58,1.4,1.91,1.91,0,0,1-.58,1.4L9.25,21ZM18.45,9,17,7.55Zm-12,3A5.31,5.31,0,0,0,4.9,8.1,5.31,5.31,0,0,0,1,6.5,5.31,5.31,0,0,0,4.9,4.9,5.31,5.31,0,0,0,6.5,1,5.31,5.31,0,0,0,8.1,4.9,5.31,5.31,0,0,0,12,6.5,5.46,5.46,0,0,0,6.5,12Z\"/>\n",
              "  </svg>\n",
              "    </button>\n",
              "    <script>\n",
              "      (() => {\n",
              "      const buttonEl =\n",
              "        document.querySelector('#id_ea8014fd-8ae0-4cb7-b619-6130f15de00a button.colab-df-generate');\n",
              "      buttonEl.style.display =\n",
              "        google.colab.kernel.accessAllowed ? 'block' : 'none';\n",
              "\n",
              "      buttonEl.onclick = () => {\n",
              "        google.colab.notebook.generateWithVariable('stats_selected');\n",
              "      }\n",
              "      })();\n",
              "    </script>\n",
              "  </div>\n",
              "\n",
              "    </div>\n",
              "  </div>\n"
            ],
            "application/vnd.google.colaboratory.intrinsic+json": {
              "type": "dataframe",
              "variable_name": "stats_selected",
              "summary": "{\n  \"name\": \"stats_selected\",\n  \"rows\": 9,\n  \"fields\": [\n    {\n      \"column\": \"Quantity\",\n      \"properties\": {\n        \"dtype\": \"number\",\n        \"std\": 41155.73734280231,\n        \"min\": -80995.0,\n        \"max\": 80995.0,\n        \"num_unique_values\": 9,\n        \"samples\": [\n          80995.0,\n          221.131,\n          120.0\n        ],\n        \"semantic_type\": \"\",\n        \"description\": \"\"\n      }\n    },\n    {\n      \"column\": \"price_total\",\n      \"properties\": {\n        \"dtype\": \"number\",\n        \"std\": 84549.98613786408,\n        \"min\": -168469.6,\n        \"max\": 168469.6,\n        \"num_unique_values\": 9,\n        \"samples\": [\n          168469.6,\n          374.045,\n          241.505\n        ],\n        \"semantic_type\": \"\",\n        \"description\": \"\"\n      }\n    },\n    {\n      \"column\": \"StockCode\",\n      \"properties\": {\n        \"dtype\": \"number\",\n        \"std\": 7372.7058392555655,\n        \"min\": 1.0,\n        \"max\": 22190.0,\n        \"num_unique_values\": 8,\n        \"samples\": [\n          18.334,\n          12.0,\n          22190.0\n        ],\n        \"semantic_type\": \"\",\n        \"description\": \"\"\n      }\n    }\n  ]\n}"
            }
          },
          "metadata": {},
          "execution_count": 9
        }
      ]
    },
    {
      "cell_type": "markdown",
      "source": [
        "🔎 Análisis por Variable\n",
        "\n",
        "🟠 Quantity (Cantidad total comprada por boleta)\n",
        "\n",
        "* Media: 221.13 vs. Mediana: 120\n",
        "→ Indica una distribución sesgada positivamente (hay valores grandes que tiran la media hacia arriba).\n",
        "\n",
        "* Moda: -1\n",
        "→ Probable valor de devolución que se repite mucho. Hay cantidad negativa, lo que requiere limpieza.\n",
        "\n",
        "* Mínimo / Máximo: -80.995 / 80.995\n",
        "→ Extremos simétricos pero ambos deben ser analizados como posibles outliers.\n",
        "\n",
        "* Desviación estándar muy alta: 1170.21\n",
        "→ Alta dispersión, hay gran variabilidad entre las boletas.\n",
        "\n",
        "🟠 price_total (Monto total por boleta)\n",
        "\n",
        "* Media: 374.05 vs. Mediana: 241.51\n",
        "→ También presenta sesgo positivo, usual en montos de compra.\n",
        "\n",
        "* Moda: -4.95\n",
        "→ Posible devolución frecuente. Implica que existen muchas boletas con cobros negativos → deben ser tratadas.\n",
        "\n",
        "* Mínimo / Máximo: -168,469.60 / 168,469.60\n",
        "→ Valores extremos que distorsionan estadísticas y visualizaciones → requieren limpieza.\n",
        "\n",
        "* Desviación estándar muy alta: 2018.48\n",
        "→ Alta variabilidad en el gasto por boleta. Justifica escalar datos antes del clustering.\n",
        "\n",
        "🟠 StockCode (Cantidad de productos distintos en la boleta)\n",
        "\n",
        " * Moda: 1\n",
        "→ La mayoría de las boletas contienen 1 tipo de producto distinto. Común en compras rápidas.\n",
        "\n",
        "* Distribución altamente concentrada:\n",
        "Cuartiles entre 3 y 24, pero máximo llega a 542 → hay outliers que merecen ser investigados.\n",
        "\n",
        "* Desviación estándar moderada: 23.89\n",
        "→ Aunque no tan dispersa como las otras variables, aún presenta algunas colas largas."
      ],
      "metadata": {
        "id": "2BDVqL6CbVSb"
      }
    },
    {
      "cell_type": "markdown",
      "source": [
        "## 📊 Paso 3.2 Visualización de distribuciones y correlaciones.\n"
      ],
      "metadata": {
        "id": "hweN58rLYwtI"
      }
    },
    {
      "cell_type": "code",
      "source": [
        "import matplotlib.pyplot as plt\n",
        "import seaborn as sns\n",
        "\n",
        "# Histograma de las 3 variables acotadas y en color celeste\n",
        "plt.figure(figsize=(18, 5))\n",
        "\n",
        "# Configuraciones por variable\n",
        "configs = {\n",
        "    'Quantity': (-2000, 2000),\n",
        "    'price_total': (-5000, 5000),\n",
        "    'StockCode': (0, 100)\n",
        "}\n",
        "\n",
        "for i, (var, xlim) in enumerate(configs.items()):\n",
        "    plt.subplot(1, 3, i + 1)\n",
        "    sns.histplot(df[var], bins=50, kde=False, color='skyblue', stat='count')\n",
        "    plt.title(f'Distribución de {var} (acotado)')\n",
        "    plt.xlabel(var)\n",
        "    plt.ylabel('Frecuencia real')\n",
        "    plt.xlim(xlim)\n",
        "    plt.grid(True)\n",
        "\n",
        "plt.tight_layout()\n",
        "plt.show()\n"
      ],
      "metadata": {
        "colab": {
          "base_uri": "https://localhost:8080/",
          "height": 482
        },
        "id": "OZfdLzrA7dsC",
        "outputId": "dd3e90ee-ca4c-4b9f-8ab4-94c1df2e3c87"
      },
      "execution_count": 10,
      "outputs": [
        {
          "output_type": "display_data",
          "data": {
            "text/plain": [
              "<Figure size 1800x500 with 3 Axes>"
            ],
            "image/png": "[encoded data removed]"
          },
          "metadata": {}
        }
      ]
    },
    {
      "cell_type": "code",
      "source": [
        "import matplotlib.pyplot as plt\n",
        "import seaborn as sns\n",
        "\n",
        "# Seleccionar las variables numéricas relevantes\n",
        "corr_vars = ['Quantity', 'price_total', 'StockCode']\n",
        "\n",
        "# Calcular la matriz de correlación\n",
        "corr_matrix = df[corr_vars].corr()\n",
        "\n",
        "# Visualizar con heatmap\n",
        "plt.figure(figsize=(6, 4))\n",
        "sns.heatmap(corr_matrix, annot=True, cmap='Blues', fmt=\".2f\")\n",
        "plt.title(\"Matriz de Correlación\")\n",
        "plt.tight_layout()\n",
        "plt.show()\n"
      ],
      "metadata": {
        "colab": {
          "base_uri": "https://localhost:8080/",
          "height": 406
        },
        "id": "X0mEUpnz8ggr",
        "outputId": "82f22e94-8bbf-42b0-b454-8dbbd4363be1"
      },
      "execution_count": 11,
      "outputs": [
        {
          "output_type": "display_data",
          "data": {
            "text/plain": [
              "<Figure size 600x400 with 2 Axes>"
            ],
            "image/png": "[encoded data removed]"
          },
          "metadata": {}
        }
      ]
    },
    {
      "cell_type": "markdown",
      "source": [
        "## 📊 Paso 3.3 Detección de errores tipográficos y valores atípicos."
      ],
      "metadata": {
        "id": "-_aaAiRhHLLB"
      }
    },
    {
      "cell_type": "code",
      "source": [
        "# Identificación de registros con valores negativos en Quantity y price_total\n",
        "errores_tipograficos = df[(df['Quantity'] < 0) & (df['price_total'] < 0)]\n",
        "\n",
        "# Ver resumen\n",
        "print(f\"Registros identificados como devoluciones (Quantity y price_total negativos): {len(errores_tipograficos)}\")\n",
        "\n",
        "# Visualización de ejemplos concretos\n",
        "errores_tipograficos.head()\n"
      ],
      "metadata": {
        "colab": {
          "base_uri": "https://localhost:8080/",
          "height": 224
        },
        "id": "LBvrFpTKHzDW",
        "outputId": "35e370f8-01de-41bc-e1cf-92ec14cafe1b"
      },
      "execution_count": 12,
      "outputs": [
        {
          "output_type": "stream",
          "name": "stdout",
          "text": [
            "Registros identificados como devoluciones (Quantity y price_total negativos): 3654\n"
          ]
        },
        {
          "output_type": "execute_result",
          "data": {
            "text/plain": [
              "      InvoiceNo InvoiceDate  CustomerID  Quantity  price_total  StockCode\n",
              "18536   C536379  2010-12-01       14527        -1       -27.50          1\n",
              "18537   C536383  2010-12-01       15311        -1        -4.65          1\n",
              "18538   C536391  2010-12-01       17548      -132      -141.48          7\n",
              "18539   C536506  2010-12-01       17897        -6       -25.50          1\n",
              "18540   C536543  2010-12-01       17841        -3        -3.80          2"
            ],
            "text/html": [
              "\n",
              "  <div id=\"df-47c60a74-605e-43c1-8f4e-8289c66a8129\" class=\"colab-df-container\">\n",
              "    <div>\n",
              "<style scoped>\n",
              "    .dataframe tbody tr th:only-of-type {\n",
              "        vertical-align: middle;\n",
              "    }\n",
              "\n",
              "    .dataframe tbody tr th {\n",
              "        vertical-align: top;\n",
              "    }\n",
              "\n",
              "    .dataframe thead th {\n",
              "        text-align: right;\n",
              "    }\n",
              "</style>\n",
              "<table border=\"1\" class=\"dataframe\">\n",
              "  <thead>\n",
              "    <tr style=\"text-align: right;\">\n",
              "      <th></th>\n",
              "      <th>InvoiceNo</th>\n",
              "      <th>InvoiceDate</th>\n",
              "      <th>CustomerID</th>\n",
              "      <th>Quantity</th>\n",
              "      <th>price_total</th>\n",
              "      <th>StockCode</th>\n",
              "    </tr>\n",
              "  </thead>\n",
              "  <tbody>\n",
              "    <tr>\n",
              "      <th>18536</th>\n",
              "      <td>C536379</td>\n",
              "      <td>2010-12-01</td>\n",
              "      <td>14527</td>\n",
              "      <td>-1</td>\n",
              "      <td>-27.50</td>\n",
              "      <td>1</td>\n",
              "    </tr>\n",
              "    <tr>\n",
              "      <th>18537</th>\n",
              "      <td>C536383</td>\n",
              "      <td>2010-12-01</td>\n",
              "      <td>15311</td>\n",
              "      <td>-1</td>\n",
              "      <td>-4.65</td>\n",
              "      <td>1</td>\n",
              "    </tr>\n",
              "    <tr>\n",
              "      <th>18538</th>\n",
              "      <td>C536391</td>\n",
              "      <td>2010-12-01</td>\n",
              "      <td>17548</td>\n",
              "      <td>-132</td>\n",
              "      <td>-141.48</td>\n",
              "      <td>7</td>\n",
              "    </tr>\n",
              "    <tr>\n",
              "      <th>18539</th>\n",
              "      <td>C536506</td>\n",
              "      <td>2010-12-01</td>\n",
              "      <td>17897</td>\n",
              "      <td>-6</td>\n",
              "      <td>-25.50</td>\n",
              "      <td>1</td>\n",
              "    </tr>\n",
              "    <tr>\n",
              "      <th>18540</th>\n",
              "      <td>C536543</td>\n",
              "      <td>2010-12-01</td>\n",
              "      <td>17841</td>\n",
              "      <td>-3</td>\n",
              "      <td>-3.80</td>\n",
              "      <td>2</td>\n",
              "    </tr>\n",
              "  </tbody>\n",
              "</table>\n",
              "</div>\n",
              "    <div class=\"colab-df-buttons\">\n",
              "\n",
              "  <div class=\"colab-df-container\">\n",
              "    <button class=\"colab-df-convert\" onclick=\"convertToInteractive('df-47c60a74-605e-43c1-8f4e-8289c66a8129')\"\n",
              "            title=\"Convert this dataframe to an interactive table.\"\n",
              "            style=\"display:none;\">\n",
              "\n",
              "  <svg xmlns=\"http://www.w3.org/2000/svg\" height=\"24px\" viewBox=\"0 -960 960 960\">\n",
              "    <path d=\"M120-120v-720h720v720H120Zm60-500h600v-160H180v160Zm220 220h160v-160H400v160Zm0 220h160v-160H400v160ZM180-400h160v-160H180v160Zm440 0h160v-160H620v160ZM180-180h160v-160H180v160Zm440 0h160v-160H620v160Z\"/>\n",
              "  </svg>\n",
              "    </button>\n",
              "\n",
              "  <style>\n",
              "    .colab-df-container {\n",
              "      display:flex;\n",
              "      gap: 12px;\n",
              "    }\n",
              "\n",
              "    .colab-df-convert {\n",
              "      background-color: #E8F0FE;\n",
              "      border: none;\n",
              "      border-radius: 50%;\n",
              "      cursor: pointer;\n",
              "      display: none;\n",
              "      fill: #1967D2;\n",
              "      height: 32px;\n",
              "      padding: 0 0 0 0;\n",
              "      width: 32px;\n",
              "    }\n",
              "\n",
              "    .colab-df-convert:hover {\n",
              "      background-color: #E2EBFA;\n",
              "      box-shadow: 0px 1px 2px rgba(60, 64, 67, 0.3), 0px 1px 3px 1px rgba(60, 64, 67, 0.15);\n",
              "      fill: #174EA6;\n",
              "    }\n",
              "\n",
              "    .colab-df-buttons div {\n",
              "      margin-bottom: 4px;\n",
              "    }\n",
              "\n",
              "    [theme=dark] .colab-df-convert {\n",
              "      background-color: #3B4455;\n",
              "      fill: #D2E3FC;\n",
              "    }\n",
              "\n",
              "    [theme=dark] .colab-df-convert:hover {\n",
              "      background-color: #434B5C;\n",
              "      box-shadow: 0px 1px 3px 1px rgba(0, 0, 0, 0.15);\n",
              "      filter: drop-shadow(0px 1px 2px rgba(0, 0, 0, 0.3));\n",
              "      fill: #FFFFFF;\n",
              "    }\n",
              "  </style>\n",
              "\n",
              "    <script>\n",
              "      const buttonEl =\n",
              "        document.querySelector('#df-47c60a74-605e-43c1-8f4e-8289c66a8129 button.colab-df-convert');\n",
              "      buttonEl.style.display =\n",
              "        google.colab.kernel.accessAllowed ? 'block' : 'none';\n",
              "\n",
              "      async function convertToInteractive(key) {\n",
              "        const element = document.querySelector('#df-47c60a74-605e-43c1-8f4e-8289c66a8129');\n",
              "        const dataTable =\n",
              "          await google.colab.kernel.invokeFunction('convertToInteractive',\n",
              "                                                    [key], {});\n",
              "        if (!dataTable) return;\n",
              "\n",
              "        const docLinkHtml = 'Like what you see? Visit the ' +\n",
              "          '<a target=\"_blank\" href=https://colab.research.google.com/notebooks/data_table.ipynb>data table notebook</a>'\n",
              "          + ' to learn more about interactive tables.';\n",
              "        element.innerHTML = '';\n",
              "        dataTable['output_type'] = 'display_data';\n",
              "        await google.colab.output.renderOutput(dataTable, element);\n",
              "        const docLink = document.createElement('div');\n",
              "        docLink.innerHTML = docLinkHtml;\n",
              "        element.appendChild(docLink);\n",
              "      }\n",
              "    </script>\n",
              "  </div>\n",
              "\n",
              "\n",
              "    <div id=\"df-51a0066c-07b0-40ec-8160-1c4804d8256c\">\n",
              "      <button class=\"colab-df-quickchart\" onclick=\"quickchart('df-51a0066c-07b0-40ec-8160-1c4804d8256c')\"\n",
              "                title=\"Suggest charts\"\n",
              "                style=\"display:none;\">\n",
              "\n",
              "<svg xmlns=\"http://www.w3.org/2000/svg\" height=\"24px\"viewBox=\"0 0 24 24\"\n",
              "     width=\"24px\">\n",
              "    <g>\n",
              "        <path d=\"M19 3H5c-1.1 0-2 .9-2 2v14c0 1.1.9 2 2 2h14c1.1 0 2-.9 2-2V5c0-1.1-.9-2-2-2zM9 17H7v-7h2v7zm4 0h-2V7h2v10zm4 0h-2v-4h2v4z\"/>\n",
              "    </g>\n",
              "</svg>\n",
              "      </button>\n",
              "\n",
              "<style>\n",
              "  .colab-df-quickchart {\n",
              "      --bg-color: #E8F0FE;\n",
              "      --fill-color: #1967D2;\n",
              "      --hover-bg-color: #E2EBFA;\n",
              "      --hover-fill-color: #174EA6;\n",
              "      --disabled-fill-color: #AAA;\n",
              "      --disabled-bg-color: #DDD;\n",
              "  }\n",
              "\n",
              "  [theme=dark] .colab-df-quickchart {\n",
              "      --bg-color: #3B4455;\n",
              "      --fill-color: #D2E3FC;\n",
              "      --hover-bg-color: #434B5C;\n",
              "      --hover-fill-color: #FFFFFF;\n",
              "      --disabled-bg-color: #3B4455;\n",
              "      --disabled-fill-color: #666;\n",
              "  }\n",
              "\n",
              "  .colab-df-quickchart {\n",
              "    background-color: var(--bg-color);\n",
              "    border: none;\n",
              "    border-radius: 50%;\n",
              "    cursor: pointer;\n",
              "    display: none;\n",
              "    fill: var(--fill-color);\n",
              "    height: 32px;\n",
              "    padding: 0;\n",
              "    width: 32px;\n",
              "  }\n",
              "\n",
              "  .colab-df-quickchart:hover {\n",
              "    background-color: var(--hover-bg-color);\n",
              "    box-shadow: 0 1px 2px rgba(60, 64, 67, 0.3), 0 1px 3px 1px rgba(60, 64, 67, 0.15);\n",
              "    fill: var(--button-hover-fill-color);\n",
              "  }\n",
              "\n",
              "  .colab-df-quickchart-complete:disabled,\n",
              "  .colab-df-quickchart-complete:disabled:hover {\n",
              "    background-color: var(--disabled-bg-color);\n",
              "    fill: var(--disabled-fill-color);\n",
              "    box-shadow: none;\n",
              "  }\n",
              "\n",
              "  .colab-df-spinner {\n",
              "    border: 2px solid var(--fill-color);\n",
              "    border-color: transparent;\n",
              "    border-bottom-color: var(--fill-color);\n",
              "    animation:\n",
              "      spin 1s steps(1) infinite;\n",
              "  }\n",
              "\n",
              "  @keyframes spin {\n",
              "    0% {\n",
              "      border-color: transparent;\n",
              "      border-bottom-color: var(--fill-color);\n",
              "      border-left-color: var(--fill-color);\n",
              "    }\n",
              "    20% {\n",
              "      border-color: transparent;\n",
              "      border-left-color: var(--fill-color);\n",
              "      border-top-color: var(--fill-color);\n",
              "    }\n",
              "    30% {\n",
              "      border-color: transparent;\n",
              "      border-left-color: var(--fill-color);\n",
              "      border-top-color: var(--fill-color);\n",
              "      border-right-color: var(--fill-color);\n",
              "    }\n",
              "    40% {\n",
              "      border-color: transparent;\n",
              "      border-right-color: var(--fill-color);\n",
              "      border-top-color: var(--fill-color);\n",
              "    }\n",
              "    60% {\n",
              "      border-color: transparent;\n",
              "      border-right-color: var(--fill-color);\n",
              "    }\n",
              "    80% {\n",
              "      border-color: transparent;\n",
              "      border-right-color: var(--fill-color);\n",
              "      border-bottom-color: var(--fill-color);\n",
              "    }\n",
              "    90% {\n",
              "      border-color: transparent;\n",
              "      border-bottom-color: var(--fill-color);\n",
              "    }\n",
              "  }\n",
              "</style>\n",
              "\n",
              "      <script>\n",
              "        async function quickchart(key) {\n",
              "          const quickchartButtonEl =\n",
              "            document.querySelector('#' + key + ' button');\n",
              "          quickchartButtonEl.disabled = true;  // To prevent multiple clicks.\n",
              "          quickchartButtonEl.classList.add('colab-df-spinner');\n",
              "          try {\n",
              "            const charts = await google.colab.kernel.invokeFunction(\n",
              "                'suggestCharts', [key], {});\n",
              "          } catch (error) {\n",
              "            console.error('Error during call to suggestCharts:', error);\n",
              "          }\n",
              "          quickchartButtonEl.classList.remove('colab-df-spinner');\n",
              "          quickchartButtonEl.classList.add('colab-df-quickchart-complete');\n",
              "        }\n",
              "        (() => {\n",
              "          let quickchartButtonEl =\n",
              "            document.querySelector('#df-51a0066c-07b0-40ec-8160-1c4804d8256c button');\n",
              "          quickchartButtonEl.style.display =\n",
              "            google.colab.kernel.accessAllowed ? 'block' : 'none';\n",
              "        })();\n",
              "      </script>\n",
              "    </div>\n",
              "\n",
              "    </div>\n",
              "  </div>\n"
            ],
            "application/vnd.google.colaboratory.intrinsic+json": {
              "type": "dataframe",
              "variable_name": "errores_tipograficos",
              "summary": "{\n  \"name\": \"errores_tipograficos\",\n  \"rows\": 3654,\n  \"fields\": [\n    {\n      \"column\": \"InvoiceNo\",\n      \"properties\": {\n        \"dtype\": \"string\",\n        \"num_unique_values\": 3654,\n        \"samples\": [\n          \"C551699\",\n          \"C555935\",\n          \"C539195\"\n        ],\n        \"semantic_type\": \"\",\n        \"description\": \"\"\n      }\n    },\n    {\n      \"column\": \"InvoiceDate\",\n      \"properties\": {\n        \"dtype\": \"date\",\n        \"min\": \"2010-12-01 00:00:00\",\n        \"max\": \"2011-12-09 00:00:00\",\n        \"num_unique_values\": 302,\n        \"samples\": [\n          \"2011-07-19 00:00:00\",\n          \"2011-09-15 00:00:00\",\n          \"2011-04-26 00:00:00\"\n        ],\n        \"semantic_type\": \"\",\n        \"description\": \"\"\n      }\n    },\n    {\n      \"column\": \"CustomerID\",\n      \"properties\": {\n        \"dtype\": \"number\",\n        \"std\": 1721,\n        \"min\": 12346,\n        \"max\": 18282,\n        \"num_unique_values\": 1589,\n        \"samples\": [\n          12830,\n          15694,\n          12670\n        ],\n        \"semantic_type\": \"\",\n        \"description\": \"\"\n      }\n    },\n    {\n      \"column\": \"Quantity\",\n      \"properties\": {\n        \"dtype\": \"number\",\n        \"std\": 1836,\n        \"min\": -80995,\n        \"max\": -1,\n        \"num_unique_values\": 199,\n        \"samples\": [\n          -168,\n          -24,\n          -148\n        ],\n        \"semantic_type\": \"\",\n        \"description\": \"\"\n      }\n    },\n    {\n      \"column\": \"price_total\",\n      \"properties\": {\n        \"dtype\": \"number\",\n        \"std\": 3179.611324061521,\n        \"min\": -168469.6,\n        \"max\": -0.39,\n        \"num_unique_values\": 1606,\n        \"samples\": [\n          -16.75,\n          -115.47,\n          -220.5\n        ],\n        \"semantic_type\": \"\",\n        \"description\": \"\"\n      }\n    },\n    {\n      \"column\": \"StockCode\",\n      \"properties\": {\n        \"dtype\": \"number\",\n        \"std\": 3,\n        \"min\": 1,\n        \"max\": 101,\n        \"num_unique_values\": 36,\n        \"samples\": [\n          23,\n          15,\n          31\n        ],\n        \"semantic_type\": \"\",\n        \"description\": \"\"\n      }\n    }\n  ]\n}"
            }
          },
          "metadata": {},
          "execution_count": 12
        }
      ]
    },
    {
      "cell_type": "markdown",
      "source": [
        "🧠 Quantity < 0 y price_total < 0 se presentan simultáneamente en exactamente los mismos 3.654 registros, estamos ante una clara señal de devoluciones.Por ende considero estrategico realizar una clasificación inicial.\n",
        "\n",
        "✅ 1. Segmentación inicial entre compradores y devolvedores\n",
        "\n",
        "Separar a los clientes que:\n",
        "\n",
        "* Solo compran\n",
        "\n",
        "* Devuelven ocasionalmente\n",
        "\n",
        "* Devuelven recurrentemente\n",
        "\n",
        "Esto permite crear un clúster especial o una etiqueta binaria:\n",
        "\"Cliente con historial de devoluciones\", útil para:\n",
        "\n",
        "* Ajustar promociones, Evaluar riesgo comercial o fraude, Mejorar servicio postventa.\n",
        "\n",
        "🧭 Estrategia:\n",
        "\n",
        "* Crear una variable binaria por cliente: is_devolver, y Usarla como insumo exploratorio o agrupador posterior al clustering.\n",
        "\n",
        "* Eliminar las boletas negativas para hacer el clustering puro solo con compras positivas."
      ],
      "metadata": {
        "id": "4smtdeAmHUwE"
      }
    },
    {
      "cell_type": "code",
      "source": [
        "# Paso 1: Crear la variable binaria 'is_devolver' por cliente\n",
        "clientes_devolucion = df[df['price_total'] < 0]['CustomerID'].unique()\n",
        "df['is_devolver'] = df['CustomerID'].isin(clientes_devolucion).astype(int)\n",
        "\n",
        "# Paso 2: Ver cuántos clientes tienen historial de devoluciones\n",
        "clientes_con_historial = df[['CustomerID', 'is_devolver']].drop_duplicates()\n",
        "conteo_devoluciones = clientes_con_historial['is_devolver'].value_counts()\n",
        "\n",
        "print(\"Clientes con historial de devoluciones:\")\n",
        "print(conteo_devoluciones)\n",
        "\n",
        "# Paso 3: Eliminar boletas negativas (devoluciones)\n",
        "df_compras_positivas = df[df['price_total'] > 0].copy()\n",
        "\n",
        "print(f\"\\nTamaño del dataset original: {df.shape}\")\n",
        "print(f\"Tamaño del dataset depurado (solo compras): {df_compras_positivas.shape}\")\n"
      ],
      "metadata": {
        "colab": {
          "base_uri": "https://localhost:8080/"
        },
        "id": "Jm_y7GK2KSep",
        "outputId": "ceb964fe-5813-4720-b736-0dc93d206095"
      },
      "execution_count": 13,
      "outputs": [
        {
          "output_type": "stream",
          "name": "stdout",
          "text": [
            "Clientes con historial de devoluciones:\n",
            "is_devolver\n",
            "0    2783\n",
            "1    1589\n",
            "Name: count, dtype: int64\n",
            "\n",
            "Tamaño del dataset original: (22190, 7)\n",
            "Tamaño del dataset depurado (solo compras): (18532, 7)\n"
          ]
        }
      ]
    },
    {
      "cell_type": "code",
      "source": [
        "# Estadísticas descriptivas con 3 decimales\n",
        "stats_selected2 = df_compras_positivas[['Quantity', 'price_total', 'StockCode']].describe().round(3)\n",
        "\n",
        "# Cálculo de la moda para cada variable (se toma la primera si hay varias)\n",
        "modes = df_compras_positivas[['Quantity', 'price_total', 'StockCode']].mode().iloc[0].round(3)\n",
        "\n",
        "# Agregar la moda al resumen\n",
        "stats_selected2.loc['mode'] = modes\n",
        "\n",
        "# Mostrar resultados\n",
        "stats_selected2"
      ],
      "metadata": {
        "colab": {
          "base_uri": "https://localhost:8080/",
          "height": 332
        },
        "id": "hkfZxLapTjx-",
        "outputId": "e2cfa24e-0050-4e46-d6cd-d8b3d5024711"
      },
      "execution_count": 14,
      "outputs": [
        {
          "output_type": "execute_result",
          "data": {
            "text/plain": [
              "        Quantity  price_total  StockCode\n",
              "count  18532.000    18532.000  18532.000\n",
              "mean     278.899      480.866     21.472\n",
              "std      972.735     1678.196     24.920\n",
              "min        1.000        0.380      1.000\n",
              "25%       74.000      158.038      6.000\n",
              "50%      155.000      303.040     15.000\n",
              "75%      291.000      471.840     28.000\n",
              "max    80995.000   168469.600    542.000\n",
              "mode       1.000       15.000      1.000"
            ],
            "text/html": [
              "\n",
              "  <div id=\"df-f156a160-463f-45e3-88f2-fc860546c6c8\" class=\"colab-df-container\">\n",
              "    <div>\n",
              "<style scoped>\n",
              "    .dataframe tbody tr th:only-of-type {\n",
              "        vertical-align: middle;\n",
              "    }\n",
              "\n",
              "    .dataframe tbody tr th {\n",
              "        vertical-align: top;\n",
              "    }\n",
              "\n",
              "    .dataframe thead th {\n",
              "        text-align: right;\n",
              "    }\n",
              "</style>\n",
              "<table border=\"1\" class=\"dataframe\">\n",
              "  <thead>\n",
              "    <tr style=\"text-align: right;\">\n",
              "      <th></th>\n",
              "      <th>Quantity</th>\n",
              "      <th>price_total</th>\n",
              "      <th>StockCode</th>\n",
              "    </tr>\n",
              "  </thead>\n",
              "  <tbody>\n",
              "    <tr>\n",
              "      <th>count</th>\n",
              "      <td>18532.000</td>\n",
              "      <td>18532.000</td>\n",
              "      <td>18532.000</td>\n",
              "    </tr>\n",
              "    <tr>\n",
              "      <th>mean</th>\n",
              "      <td>278.899</td>\n",
              "      <td>480.866</td>\n",
              "      <td>21.472</td>\n",
              "    </tr>\n",
              "    <tr>\n",
              "      <th>std</th>\n",
              "      <td>972.735</td>\n",
              "      <td>1678.196</td>\n",
              "      <td>24.920</td>\n",
              "    </tr>\n",
              "    <tr>\n",
              "      <th>min</th>\n",
              "      <td>1.000</td>\n",
              "      <td>0.380</td>\n",
              "      <td>1.000</td>\n",
              "    </tr>\n",
              "    <tr>\n",
              "      <th>25%</th>\n",
              "      <td>74.000</td>\n",
              "      <td>158.038</td>\n",
              "      <td>6.000</td>\n",
              "    </tr>\n",
              "    <tr>\n",
              "      <th>50%</th>\n",
              "      <td>155.000</td>\n",
              "      <td>303.040</td>\n",
              "      <td>15.000</td>\n",
              "    </tr>\n",
              "    <tr>\n",
              "      <th>75%</th>\n",
              "      <td>291.000</td>\n",
              "      <td>471.840</td>\n",
              "      <td>28.000</td>\n",
              "    </tr>\n",
              "    <tr>\n",
              "      <th>max</th>\n",
              "      <td>80995.000</td>\n",
              "      <td>168469.600</td>\n",
              "      <td>542.000</td>\n",
              "    </tr>\n",
              "    <tr>\n",
              "      <th>mode</th>\n",
              "      <td>1.000</td>\n",
              "      <td>15.000</td>\n",
              "      <td>1.000</td>\n",
              "    </tr>\n",
              "  </tbody>\n",
              "</table>\n",
              "</div>\n",
              "    <div class=\"colab-df-buttons\">\n",
              "\n",
              "  <div class=\"colab-df-container\">\n",
              "    <button class=\"colab-df-convert\" onclick=\"convertToInteractive('df-f156a160-463f-45e3-88f2-fc860546c6c8')\"\n",
              "            title=\"Convert this dataframe to an interactive table.\"\n",
              "            style=\"display:none;\">\n",
              "\n",
              "  <svg xmlns=\"http://www.w3.org/2000/svg\" height=\"24px\" viewBox=\"0 -960 960 960\">\n",
              "    <path d=\"M120-120v-720h720v720H120Zm60-500h600v-160H180v160Zm220 220h160v-160H400v160Zm0 220h160v-160H400v160ZM180-400h160v-160H180v160Zm440 0h160v-160H620v160ZM180-180h160v-160H180v160Zm440 0h160v-160H620v160Z\"/>\n",
              "  </svg>\n",
              "    </button>\n",
              "\n",
              "  <style>\n",
              "    .colab-df-container {\n",
              "      display:flex;\n",
              "      gap: 12px;\n",
              "    }\n",
              "\n",
              "    .colab-df-convert {\n",
              "      background-color: #E8F0FE;\n",
              "      border: none;\n",
              "      border-radius: 50%;\n",
              "      cursor: pointer;\n",
              "      display: none;\n",
              "      fill: #1967D2;\n",
              "      height: 32px;\n",
              "      padding: 0 0 0 0;\n",
              "      width: 32px;\n",
              "    }\n",
              "\n",
              "    .colab-df-convert:hover {\n",
              "      background-color: #E2EBFA;\n",
              "      box-shadow: 0px 1px 2px rgba(60, 64, 67, 0.3), 0px 1px 3px 1px rgba(60, 64, 67, 0.15);\n",
              "      fill: #174EA6;\n",
              "    }\n",
              "\n",
              "    .colab-df-buttons div {\n",
              "      margin-bottom: 4px;\n",
              "    }\n",
              "\n",
              "    [theme=dark] .colab-df-convert {\n",
              "      background-color: #3B4455;\n",
              "      fill: #D2E3FC;\n",
              "    }\n",
              "\n",
              "    [theme=dark] .colab-df-convert:hover {\n",
              "      background-color: #434B5C;\n",
              "      box-shadow: 0px 1px 3px 1px rgba(0, 0, 0, 0.15);\n",
              "      filter: drop-shadow(0px 1px 2px rgba(0, 0, 0, 0.3));\n",
              "      fill: #FFFFFF;\n",
              "    }\n",
              "  </style>\n",
              "\n",
              "    <script>\n",
              "      const buttonEl =\n",
              "        document.querySelector('#df-f156a160-463f-45e3-88f2-fc860546c6c8 button.colab-df-convert');\n",
              "      buttonEl.style.display =\n",
              "        google.colab.kernel.accessAllowed ? 'block' : 'none';\n",
              "\n",
              "      async function convertToInteractive(key) {\n",
              "        const element = document.querySelector('#df-f156a160-463f-45e3-88f2-fc860546c6c8');\n",
              "        const dataTable =\n",
              "          await google.colab.kernel.invokeFunction('convertToInteractive',\n",
              "                                                    [key], {});\n",
              "        if (!dataTable) return;\n",
              "\n",
              "        const docLinkHtml = 'Like what you see? Visit the ' +\n",
              "          '<a target=\"_blank\" href=https://colab.research.google.com/notebooks/data_table.ipynb>data table notebook</a>'\n",
              "          + ' to learn more about interactive tables.';\n",
              "        element.innerHTML = '';\n",
              "        dataTable['output_type'] = 'display_data';\n",
              "        await google.colab.output.renderOutput(dataTable, element);\n",
              "        const docLink = document.createElement('div');\n",
              "        docLink.innerHTML = docLinkHtml;\n",
              "        element.appendChild(docLink);\n",
              "      }\n",
              "    </script>\n",
              "  </div>\n",
              "\n",
              "\n",
              "    <div id=\"df-a4a4386f-d558-4938-9626-b9663c3e9185\">\n",
              "      <button class=\"colab-df-quickchart\" onclick=\"quickchart('df-a4a4386f-d558-4938-9626-b9663c3e9185')\"\n",
              "                title=\"Suggest charts\"\n",
              "                style=\"display:none;\">\n",
              "\n",
              "<svg xmlns=\"http://www.w3.org/2000/svg\" height=\"24px\"viewBox=\"0 0 24 24\"\n",
              "     width=\"24px\">\n",
              "    <g>\n",
              "        <path d=\"M19 3H5c-1.1 0-2 .9-2 2v14c0 1.1.9 2 2 2h14c1.1 0 2-.9 2-2V5c0-1.1-.9-2-2-2zM9 17H7v-7h2v7zm4 0h-2V7h2v10zm4 0h-2v-4h2v4z\"/>\n",
              "    </g>\n",
              "</svg>\n",
              "      </button>\n",
              "\n",
              "<style>\n",
              "  .colab-df-quickchart {\n",
              "      --bg-color: #E8F0FE;\n",
              "      --fill-color: #1967D2;\n",
              "      --hover-bg-color: #E2EBFA;\n",
              "      --hover-fill-color: #174EA6;\n",
              "      --disabled-fill-color: #AAA;\n",
              "      --disabled-bg-color: #DDD;\n",
              "  }\n",
              "\n",
              "  [theme=dark] .colab-df-quickchart {\n",
              "      --bg-color: #3B4455;\n",
              "      --fill-color: #D2E3FC;\n",
              "      --hover-bg-color: #434B5C;\n",
              "      --hover-fill-color: #FFFFFF;\n",
              "      --disabled-bg-color: #3B4455;\n",
              "      --disabled-fill-color: #666;\n",
              "  }\n",
              "\n",
              "  .colab-df-quickchart {\n",
              "    background-color: var(--bg-color);\n",
              "    border: none;\n",
              "    border-radius: 50%;\n",
              "    cursor: pointer;\n",
              "    display: none;\n",
              "    fill: var(--fill-color);\n",
              "    height: 32px;\n",
              "    padding: 0;\n",
              "    width: 32px;\n",
              "  }\n",
              "\n",
              "  .colab-df-quickchart:hover {\n",
              "    background-color: var(--hover-bg-color);\n",
              "    box-shadow: 0 1px 2px rgba(60, 64, 67, 0.3), 0 1px 3px 1px rgba(60, 64, 67, 0.15);\n",
              "    fill: var(--button-hover-fill-color);\n",
              "  }\n",
              "\n",
              "  .colab-df-quickchart-complete:disabled,\n",
              "  .colab-df-quickchart-complete:disabled:hover {\n",
              "    background-color: var(--disabled-bg-color);\n",
              "    fill: var(--disabled-fill-color);\n",
              "    box-shadow: none;\n",
              "  }\n",
              "\n",
              "  .colab-df-spinner {\n",
              "    border: 2px solid var(--fill-color);\n",
              "    border-color: transparent;\n",
              "    border-bottom-color: var(--fill-color);\n",
              "    animation:\n",
              "      spin 1s steps(1) infinite;\n",
              "  }\n",
              "\n",
              "  @keyframes spin {\n",
              "    0% {\n",
              "      border-color: transparent;\n",
              "      border-bottom-color: var(--fill-color);\n",
              "      border-left-color: var(--fill-color);\n",
              "    }\n",
              "    20% {\n",
              "      border-color: transparent;\n",
              "      border-left-color: var(--fill-color);\n",
              "      border-top-color: var(--fill-color);\n",
              "    }\n",
              "    30% {\n",
              "      border-color: transparent;\n",
              "      border-left-color: var(--fill-color);\n",
              "      border-top-color: var(--fill-color);\n",
              "      border-right-color: var(--fill-color);\n",
              "    }\n",
              "    40% {\n",
              "      border-color: transparent;\n",
              "      border-right-color: var(--fill-color);\n",
              "      border-top-color: var(--fill-color);\n",
              "    }\n",
              "    60% {\n",
              "      border-color: transparent;\n",
              "      border-right-color: var(--fill-color);\n",
              "    }\n",
              "    80% {\n",
              "      border-color: transparent;\n",
              "      border-right-color: var(--fill-color);\n",
              "      border-bottom-color: var(--fill-color);\n",
              "    }\n",
              "    90% {\n",
              "      border-color: transparent;\n",
              "      border-bottom-color: var(--fill-color);\n",
              "    }\n",
              "  }\n",
              "</style>\n",
              "\n",
              "      <script>\n",
              "        async function quickchart(key) {\n",
              "          const quickchartButtonEl =\n",
              "            document.querySelector('#' + key + ' button');\n",
              "          quickchartButtonEl.disabled = true;  // To prevent multiple clicks.\n",
              "          quickchartButtonEl.classList.add('colab-df-spinner');\n",
              "          try {\n",
              "            const charts = await google.colab.kernel.invokeFunction(\n",
              "                'suggestCharts', [key], {});\n",
              "          } catch (error) {\n",
              "            console.error('Error during call to suggestCharts:', error);\n",
              "          }\n",
              "          quickchartButtonEl.classList.remove('colab-df-spinner');\n",
              "          quickchartButtonEl.classList.add('colab-df-quickchart-complete');\n",
              "        }\n",
              "        (() => {\n",
              "          let quickchartButtonEl =\n",
              "            document.querySelector('#df-a4a4386f-d558-4938-9626-b9663c3e9185 button');\n",
              "          quickchartButtonEl.style.display =\n",
              "            google.colab.kernel.accessAllowed ? 'block' : 'none';\n",
              "        })();\n",
              "      </script>\n",
              "    </div>\n",
              "\n",
              "  <div id=\"id_e1b9c374-ebfa-40b6-9f49-8108962dc473\">\n",
              "    <style>\n",
              "      .colab-df-generate {\n",
              "        background-color: #E8F0FE;\n",
              "        border: none;\n",
              "        border-radius: 50%;\n",
              "        cursor: pointer;\n",
              "        display: none;\n",
              "        fill: #1967D2;\n",
              "        height: 32px;\n",
              "        padding: 0 0 0 0;\n",
              "        width: 32px;\n",
              "      }\n",
              "\n",
              "      .colab-df-generate:hover {\n",
              "        background-color: #E2EBFA;\n",
              "        box-shadow: 0px 1px 2px rgba(60, 64, 67, 0.3), 0px 1px 3px 1px rgba(60, 64, 67, 0.15);\n",
              "        fill: #174EA6;\n",
              "      }\n",
              "\n",
              "      [theme=dark] .colab-df-generate {\n",
              "        background-color: #3B4455;\n",
              "        fill: #D2E3FC;\n",
              "      }\n",
              "\n",
              "      [theme=dark] .colab-df-generate:hover {\n",
              "        background-color: #434B5C;\n",
              "        box-shadow: 0px 1px 3px 1px rgba(0, 0, 0, 0.15);\n",
              "        filter: drop-shadow(0px 1px 2px rgba(0, 0, 0, 0.3));\n",
              "        fill: #FFFFFF;\n",
              "      }\n",
              "    </style>\n",
              "    <button class=\"colab-df-generate\" onclick=\"generateWithVariable('stats_selected2')\"\n",
              "            title=\"Generate code using this dataframe.\"\n",
              "            style=\"display:none;\">\n",
              "\n",
              "  <svg xmlns=\"http://www.w3.org/2000/svg\" height=\"24px\"viewBox=\"0 0 24 24\"\n",
              "       width=\"24px\">\n",
              "    <path d=\"M7,19H8.4L18.45,9,17,7.55,7,17.6ZM5,21V16.75L18.45,3.32a2,2,0,0,1,2.83,0l1.4,1.43a1.91,1.91,0,0,1,.58,1.4,1.91,1.91,0,0,1-.58,1.4L9.25,21ZM18.45,9,17,7.55Zm-12,3A5.31,5.31,0,0,0,4.9,8.1,5.31,5.31,0,0,0,1,6.5,5.31,5.31,0,0,0,4.9,4.9,5.31,5.31,0,0,0,6.5,1,5.31,5.31,0,0,0,8.1,4.9,5.31,5.31,0,0,0,12,6.5,5.46,5.46,0,0,0,6.5,12Z\"/>\n",
              "  </svg>\n",
              "    </button>\n",
              "    <script>\n",
              "      (() => {\n",
              "      const buttonEl =\n",
              "        document.querySelector('#id_e1b9c374-ebfa-40b6-9f49-8108962dc473 button.colab-df-generate');\n",
              "      buttonEl.style.display =\n",
              "        google.colab.kernel.accessAllowed ? 'block' : 'none';\n",
              "\n",
              "      buttonEl.onclick = () => {\n",
              "        google.colab.notebook.generateWithVariable('stats_selected2');\n",
              "      }\n",
              "      })();\n",
              "    </script>\n",
              "  </div>\n",
              "\n",
              "    </div>\n",
              "  </div>\n"
            ],
            "application/vnd.google.colaboratory.intrinsic+json": {
              "type": "dataframe",
              "variable_name": "stats_selected2",
              "summary": "{\n  \"name\": \"stats_selected2\",\n  \"rows\": 9,\n  \"fields\": [\n    {\n      \"column\": \"Quantity\",\n      \"properties\": {\n        \"dtype\": \"number\",\n        \"std\": 26843.43770171199,\n        \"min\": 1.0,\n        \"max\": 80995.0,\n        \"num_unique_values\": 8,\n        \"samples\": [\n          278.899,\n          155.0,\n          18532.0\n        ],\n        \"semantic_type\": \"\",\n        \"description\": \"\"\n      }\n    },\n    {\n      \"column\": \"price_total\",\n      \"properties\": {\n        \"dtype\": \"number\",\n        \"std\": 55580.02724212018,\n        \"min\": 0.38,\n        \"max\": 168469.6,\n        \"num_unique_values\": 9,\n        \"samples\": [\n          168469.6,\n          480.866,\n          303.04\n        ],\n        \"semantic_type\": \"\",\n        \"description\": \"\"\n      }\n    },\n    {\n      \"column\": \"StockCode\",\n      \"properties\": {\n        \"dtype\": \"number\",\n        \"std\": 6153.178923510677,\n        \"min\": 1.0,\n        \"max\": 18532.0,\n        \"num_unique_values\": 8,\n        \"samples\": [\n          21.472,\n          15.0,\n          18532.0\n        ],\n        \"semantic_type\": \"\",\n        \"description\": \"\"\n      }\n    }\n  ]\n}"
            }
          },
          "metadata": {},
          "execution_count": 14
        }
      ]
    },
    {
      "cell_type": "code",
      "source": [
        "import matplotlib.pyplot as plt\n",
        "import seaborn as sns\n",
        "\n",
        "# Configuración de variables, límites y bins\n",
        "variables = ['Quantity', 'price_total', 'StockCode']\n",
        "bins_config = {\n",
        "    'Quantity': 400,\n",
        "    'price_total': 400,\n",
        "    'StockCode': 100\n",
        "}\n",
        "limits = {\n",
        "    'Quantity': (0, 3000),\n",
        "    'price_total': (0, 5000),\n",
        "    'StockCode': (0, 100)\n",
        "}\n",
        "\n",
        "# Crear los histogramas combinados\n",
        "plt.figure(figsize=(18, 5))\n",
        "\n",
        "for i, var in enumerate(variables):\n",
        "    plt.subplot(1, 3, i + 1)\n",
        "    sns.histplot(\n",
        "        data=df_compras_positivas[df_compras_positivas[var] >= 0],\n",
        "        x=var,\n",
        "        bins=bins_config[var],\n",
        "        color='skyblue',\n",
        "        kde=False,\n",
        "        stat='count'\n",
        "    )\n",
        "    plt.title(f'Distribución de {var} (sin negativos, {bins_config[var]} bins)')\n",
        "    plt.xlabel(var)\n",
        "    plt.ylabel('Frecuencia real')\n",
        "    plt.xlim(limits[var])\n",
        "    plt.grid(True)\n",
        "\n",
        "plt.tight_layout()\n",
        "plt.show()\n"
      ],
      "metadata": {
        "colab": {
          "base_uri": "https://localhost:8080/",
          "height": 482
        },
        "id": "fH1GNQh_PYxq",
        "outputId": "47a4e591-1429-4dd3-9513-728c135fd01e"
      },
      "execution_count": 15,
      "outputs": [
        {
          "output_type": "display_data",
          "data": {
            "text/plain": [
              "<Figure size 1800x500 with 3 Axes>"
            ],
            "image/png": "[encoded data removed]"
          },
          "metadata": {}
        }
      ]
    },
    {
      "cell_type": "markdown",
      "source": [
        "## 📊 Paso 3.4 Detección de valores atípicos (OUTLIERS)."
      ],
      "metadata": {
        "id": "LomGTg_kEFK8"
      }
    },
    {
      "cell_type": "code",
      "source": [
        "import matplotlib.pyplot as plt\n",
        "import seaborn as sns\n",
        "\n",
        "# Boxplots para detectar outliers en df_compras_positivas\n",
        "plt.figure(figsize=(18, 5))\n",
        "\n",
        "variables = ['Quantity', 'price_total', 'StockCode']\n",
        "\n",
        "for i, var in enumerate(variables):\n",
        "    plt.subplot(1, 3, i + 1)\n",
        "    sns.boxplot(x=df_compras_positivas[var], color='skyblue')\n",
        "    plt.title(f'Boxplot de {var}')\n",
        "    plt.xlabel(var)\n",
        "    plt.grid(True)\n",
        "\n",
        "plt.tight_layout()\n",
        "plt.show()\n"
      ],
      "metadata": {
        "colab": {
          "base_uri": "https://localhost:8080/",
          "height": 482
        },
        "id": "u0p5XLht74mz",
        "outputId": "588664c6-b85a-40b4-d610-0082bcfca87d"
      },
      "execution_count": 16,
      "outputs": [
        {
          "output_type": "display_data",
          "data": {
            "text/plain": [
              "<Figure size 1800x500 with 3 Axes>"
            ],
            "image/png": "[encoded data removed]"
          },
          "metadata": {}
        }
      ]
    },
    {
      "cell_type": "code",
      "source": [
        "# Función para eliminar outliers usando IQR\n",
        "def eliminar_outliers_iqr(df, columna):\n",
        "    Q1 = df[columna].quantile(0.25)\n",
        "    Q3 = df[columna].quantile(0.75)\n",
        "    IQR = Q3 - Q1\n",
        "    filtro = (df[columna] >= Q1 - 1.5 * IQR) & (df[columna] <= Q3 + 1.5 * IQR)\n",
        "    return df[filtro]\n",
        "\n",
        "# Aplicar limpieza a cada variable\n",
        "df_iqr_clean = df_compras_positivas.copy()\n",
        "for col in ['Quantity', 'price_total', 'StockCode']:\n",
        "    df_iqr_clean = eliminar_outliers_iqr(df_iqr_clean, col)\n",
        "\n",
        "# Mostrar cantidad final de registros\n",
        "print(f\"Número de registros después de limpiar outliers por IQR: {df_iqr_clean.shape[0]}\")\n"
      ],
      "metadata": {
        "colab": {
          "base_uri": "https://localhost:8080/"
        },
        "id": "kvlgWvo1XBwH",
        "outputId": "f793cfb5-00ad-4ec1-d2ea-ba29256105df"
      },
      "execution_count": 17,
      "outputs": [
        {
          "output_type": "stream",
          "name": "stdout",
          "text": [
            "Número de registros después de limpiar outliers por IQR: 15450\n"
          ]
        }
      ]
    },
    {
      "cell_type": "markdown",
      "source": [
        "## 📊 Paso 3.5 2ª Revision de histogramas. correlaciones y valores atípicos."
      ],
      "metadata": {
        "id": "UWf5dUkKEQaF"
      }
    },
    {
      "cell_type": "code",
      "source": [
        "# 1. Histogramas\n",
        "plt.figure(figsize=(18, 5))\n",
        "for i, var in enumerate(variables):\n",
        "    plt.subplot(1, 3, i + 1)\n",
        "    sns.histplot(df_iqr_clean[var], bins=100, color='skyblue', kde=False, stat='count')\n",
        "    plt.title(f'Distribución de {var} (sin outliers)')\n",
        "    plt.xlabel(var)\n",
        "    plt.ylabel('Frecuencia real')\n",
        "    plt.grid(True)\n",
        "plt.tight_layout()\n",
        "plt.show()"
      ],
      "metadata": {
        "colab": {
          "base_uri": "https://localhost:8080/",
          "height": 482
        },
        "id": "z40__iZcHS89",
        "outputId": "72047382-34ec-4f6b-a29b-c22a4410640a"
      },
      "execution_count": 27,
      "outputs": [
        {
          "output_type": "display_data",
          "data": {
            "text/plain": [
              "<Figure size 1800x500 with 3 Axes>"
            ],
            "image/png": "[encoded data removed]"
          },
          "metadata": {}
        }
      ]
    },
    {
      "cell_type": "code",
      "source": [
        "# 2. Matriz de correlación\n",
        "plt.figure(figsize=(6, 4))\n",
        "sns.heatmap(df_iqr_clean[variables].corr(), annot=True, cmap='Blues', fmt=\".2f\")\n",
        "plt.title(\"Matriz de Correlación (sin outliers)\")\n",
        "plt.tight_layout()\n",
        "plt.show()"
      ],
      "metadata": {
        "colab": {
          "base_uri": "https://localhost:8080/",
          "height": 406
        },
        "id": "H-lhgbbAutNa",
        "outputId": "321caec2-4690-4a6f-a166-bd2769cd0a08"
      },
      "execution_count": 25,
      "outputs": [
        {
          "output_type": "display_data",
          "data": {
            "text/plain": [
              "<Figure size 600x400 with 2 Axes>"
            ],
            "image/png": "[encoded data removed]"
          },
          "metadata": {}
        }
      ]
    },
    {
      "cell_type": "code",
      "source": [
        "# 3. Boxplots\n",
        "plt.figure(figsize=(18, 5))\n",
        "for i, var in enumerate(variables):\n",
        "    plt.subplot(1, 3, i + 1)\n",
        "    sns.boxplot(x=df_iqr_clean[var], color='skyblue')\n",
        "    plt.title(f'Boxplot de {var} (sin outliers)')\n",
        "    plt.xlabel(var)\n",
        "    plt.grid(True)\n",
        "plt.tight_layout()\n",
        "plt.show()"
      ],
      "metadata": {
        "colab": {
          "base_uri": "https://localhost:8080/",
          "height": 482
        },
        "id": "YmzSiNKFuvIK",
        "outputId": "4a877ac5-c9f8-4a87-9364-5d490c7577a7"
      },
      "execution_count": 26,
      "outputs": [
        {
          "output_type": "display_data",
          "data": {
            "text/plain": [
              "<Figure size 1800x500 with 3 Axes>"
            ],
            "image/png": "[encoded data removed]"
          },
          "metadata": {}
        }
      ]
    },
    {
      "cell_type": "markdown",
      "source": [
        "## 📊 Paso 3.6 Identificación de clases desbalanceadas."
      ],
      "metadata": {
        "id": "axcn1Z2WYwjJ"
      }
    },
    {
      "cell_type": "code",
      "source": [
        "df_iqr_clean.head()\n"
      ],
      "metadata": {
        "colab": {
          "base_uri": "https://localhost:8080/",
          "height": 206
        },
        "id": "8rvFPW6HIBAl",
        "outputId": "5a97e9f7-5597-4a4c-d09e-a31b7f41810a"
      },
      "execution_count": 24,
      "outputs": [
        {
          "output_type": "execute_result",
          "data": {
            "text/plain": [
              "  InvoiceNo InvoiceDate  CustomerID  Quantity  price_total  StockCode  \\\n",
              "0    536365  2010-12-01       17850        40       139.12          7   \n",
              "1    536366  2010-12-01       17850        12        22.20          2   \n",
              "2    536367  2010-12-01       13047        83       278.73         12   \n",
              "3    536368  2010-12-01       13047        15        70.05          4   \n",
              "4    536369  2010-12-01       13047         3        17.85          1   \n",
              "\n",
              "   is_devolver  \n",
              "0            1  \n",
              "1            1  \n",
              "2            1  \n",
              "3            1  \n",
              "4            1  "
            ],
            "text/html": [
              "\n",
              "  <div id=\"df-60c1e2e3-8ff5-4bfc-aa3e-d00c996ae74f\" class=\"colab-df-container\">\n",
              "    <div>\n",
              "<style scoped>\n",
              "    .dataframe tbody tr th:only-of-type {\n",
              "        vertical-align: middle;\n",
              "    }\n",
              "\n",
              "    .dataframe tbody tr th {\n",
              "        vertical-align: top;\n",
              "    }\n",
              "\n",
              "    .dataframe thead th {\n",
              "        text-align: right;\n",
              "    }\n",
              "</style>\n",
              "<table border=\"1\" class=\"dataframe\">\n",
              "  <thead>\n",
              "    <tr style=\"text-align: right;\">\n",
              "      <th></th>\n",
              "      <th>InvoiceNo</th>\n",
              "      <th>InvoiceDate</th>\n",
              "      <th>CustomerID</th>\n",
              "      <th>Quantity</th>\n",
              "      <th>price_total</th>\n",
              "      <th>StockCode</th>\n",
              "      <th>is_devolver</th>\n",
              "    </tr>\n",
              "  </thead>\n",
              "  <tbody>\n",
              "    <tr>\n",
              "      <th>0</th>\n",
              "      <td>536365</td>\n",
              "      <td>2010-12-01</td>\n",
              "      <td>17850</td>\n",
              "      <td>40</td>\n",
              "      <td>139.12</td>\n",
              "      <td>7</td>\n",
              "      <td>1</td>\n",
              "    </tr>\n",
              "    <tr>\n",
              "      <th>1</th>\n",
              "      <td>536366</td>\n",
              "      <td>2010-12-01</td>\n",
              "      <td>17850</td>\n",
              "      <td>12</td>\n",
              "      <td>22.20</td>\n",
              "      <td>2</td>\n",
              "      <td>1</td>\n",
              "    </tr>\n",
              "    <tr>\n",
              "      <th>2</th>\n",
              "      <td>536367</td>\n",
              "      <td>2010-12-01</td>\n",
              "      <td>13047</td>\n",
              "      <td>83</td>\n",
              "      <td>278.73</td>\n",
              "      <td>12</td>\n",
              "      <td>1</td>\n",
              "    </tr>\n",
              "    <tr>\n",
              "      <th>3</th>\n",
              "      <td>536368</td>\n",
              "      <td>2010-12-01</td>\n",
              "      <td>13047</td>\n",
              "      <td>15</td>\n",
              "      <td>70.05</td>\n",
              "      <td>4</td>\n",
              "      <td>1</td>\n",
              "    </tr>\n",
              "    <tr>\n",
              "      <th>4</th>\n",
              "      <td>536369</td>\n",
              "      <td>2010-12-01</td>\n",
              "      <td>13047</td>\n",
              "      <td>3</td>\n",
              "      <td>17.85</td>\n",
              "      <td>1</td>\n",
              "      <td>1</td>\n",
              "    </tr>\n",
              "  </tbody>\n",
              "</table>\n",
              "</div>\n",
              "    <div class=\"colab-df-buttons\">\n",
              "\n",
              "  <div class=\"colab-df-container\">\n",
              "    <button class=\"colab-df-convert\" onclick=\"convertToInteractive('df-60c1e2e3-8ff5-4bfc-aa3e-d00c996ae74f')\"\n",
              "            title=\"Convert this dataframe to an interactive table.\"\n",
              "            style=\"display:none;\">\n",
              "\n",
              "  <svg xmlns=\"http://www.w3.org/2000/svg\" height=\"24px\" viewBox=\"0 -960 960 960\">\n",
              "    <path d=\"M120-120v-720h720v720H120Zm60-500h600v-160H180v160Zm220 220h160v-160H400v160Zm0 220h160v-160H400v160ZM180-400h160v-160H180v160Zm440 0h160v-160H620v160ZM180-180h160v-160H180v160Zm440 0h160v-160H620v160Z\"/>\n",
              "  </svg>\n",
              "    </button>\n",
              "\n",
              "  <style>\n",
              "    .colab-df-container {\n",
              "      display:flex;\n",
              "      gap: 12px;\n",
              "    }\n",
              "\n",
              "    .colab-df-convert {\n",
              "      background-color: #E8F0FE;\n",
              "      border: none;\n",
              "      border-radius: 50%;\n",
              "      cursor: pointer;\n",
              "      display: none;\n",
              "      fill: #1967D2;\n",
              "      height: 32px;\n",
              "      padding: 0 0 0 0;\n",
              "      width: 32px;\n",
              "    }\n",
              "\n",
              "    .colab-df-convert:hover {\n",
              "      background-color: #E2EBFA;\n",
              "      box-shadow: 0px 1px 2px rgba(60, 64, 67, 0.3), 0px 1px 3px 1px rgba(60, 64, 67, 0.15);\n",
              "      fill: #174EA6;\n",
              "    }\n",
              "\n",
              "    .colab-df-buttons div {\n",
              "      margin-bottom: 4px;\n",
              "    }\n",
              "\n",
              "    [theme=dark] .colab-df-convert {\n",
              "      background-color: #3B4455;\n",
              "      fill: #D2E3FC;\n",
              "    }\n",
              "\n",
              "    [theme=dark] .colab-df-convert:hover {\n",
              "      background-color: #434B5C;\n",
              "      box-shadow: 0px 1px 3px 1px rgba(0, 0, 0, 0.15);\n",
              "      filter: drop-shadow(0px 1px 2px rgba(0, 0, 0, 0.3));\n",
              "      fill: #FFFFFF;\n",
              "    }\n",
              "  </style>\n",
              "\n",
              "    <script>\n",
              "      const buttonEl =\n",
              "        document.querySelector('#df-60c1e2e3-8ff5-4bfc-aa3e-d00c996ae74f button.colab-df-convert');\n",
              "      buttonEl.style.display =\n",
              "        google.colab.kernel.accessAllowed ? 'block' : 'none';\n",
              "\n",
              "      async function convertToInteractive(key) {\n",
              "        const element = document.querySelector('#df-60c1e2e3-8ff5-4bfc-aa3e-d00c996ae74f');\n",
              "        const dataTable =\n",
              "          await google.colab.kernel.invokeFunction('convertToInteractive',\n",
              "                                                    [key], {});\n",
              "        if (!dataTable) return;\n",
              "\n",
              "        const docLinkHtml = 'Like what you see? Visit the ' +\n",
              "          '<a target=\"_blank\" href=https://colab.research.google.com/notebooks/data_table.ipynb>data table notebook</a>'\n",
              "          + ' to learn more about interactive tables.';\n",
              "        element.innerHTML = '';\n",
              "        dataTable['output_type'] = 'display_data';\n",
              "        await google.colab.output.renderOutput(dataTable, element);\n",
              "        const docLink = document.createElement('div');\n",
              "        docLink.innerHTML = docLinkHtml;\n",
              "        element.appendChild(docLink);\n",
              "      }\n",
              "    </script>\n",
              "  </div>\n",
              "\n",
              "\n",
              "    <div id=\"df-29bb4bfc-9e05-49b4-ab4c-887120e68e85\">\n",
              "      <button class=\"colab-df-quickchart\" onclick=\"quickchart('df-29bb4bfc-9e05-49b4-ab4c-887120e68e85')\"\n",
              "                title=\"Suggest charts\"\n",
              "                style=\"display:none;\">\n",
              "\n",
              "<svg xmlns=\"http://www.w3.org/2000/svg\" height=\"24px\"viewBox=\"0 0 24 24\"\n",
              "     width=\"24px\">\n",
              "    <g>\n",
              "        <path d=\"M19 3H5c-1.1 0-2 .9-2 2v14c0 1.1.9 2 2 2h14c1.1 0 2-.9 2-2V5c0-1.1-.9-2-2-2zM9 17H7v-7h2v7zm4 0h-2V7h2v10zm4 0h-2v-4h2v4z\"/>\n",
              "    </g>\n",
              "</svg>\n",
              "      </button>\n",
              "\n",
              "<style>\n",
              "  .colab-df-quickchart {\n",
              "      --bg-color: #E8F0FE;\n",
              "      --fill-color: #1967D2;\n",
              "      --hover-bg-color: #E2EBFA;\n",
              "      --hover-fill-color: #174EA6;\n",
              "      --disabled-fill-color: #AAA;\n",
              "      --disabled-bg-color: #DDD;\n",
              "  }\n",
              "\n",
              "  [theme=dark] .colab-df-quickchart {\n",
              "      --bg-color: #3B4455;\n",
              "      --fill-color: #D2E3FC;\n",
              "      --hover-bg-color: #434B5C;\n",
              "      --hover-fill-color: #FFFFFF;\n",
              "      --disabled-bg-color: #3B4455;\n",
              "      --disabled-fill-color: #666;\n",
              "  }\n",
              "\n",
              "  .colab-df-quickchart {\n",
              "    background-color: var(--bg-color);\n",
              "    border: none;\n",
              "    border-radius: 50%;\n",
              "    cursor: pointer;\n",
              "    display: none;\n",
              "    fill: var(--fill-color);\n",
              "    height: 32px;\n",
              "    padding: 0;\n",
              "    width: 32px;\n",
              "  }\n",
              "\n",
              "  .colab-df-quickchart:hover {\n",
              "    background-color: var(--hover-bg-color);\n",
              "    box-shadow: 0 1px 2px rgba(60, 64, 67, 0.3), 0 1px 3px 1px rgba(60, 64, 67, 0.15);\n",
              "    fill: var(--button-hover-fill-color);\n",
              "  }\n",
              "\n",
              "  .colab-df-quickchart-complete:disabled,\n",
              "  .colab-df-quickchart-complete:disabled:hover {\n",
              "    background-color: var(--disabled-bg-color);\n",
              "    fill: var(--disabled-fill-color);\n",
              "    box-shadow: none;\n",
              "  }\n",
              "\n",
              "  .colab-df-spinner {\n",
              "    border: 2px solid var(--fill-color);\n",
              "    border-color: transparent;\n",
              "    border-bottom-color: var(--fill-color);\n",
              "    animation:\n",
              "      spin 1s steps(1) infinite;\n",
              "  }\n",
              "\n",
              "  @keyframes spin {\n",
              "    0% {\n",
              "      border-color: transparent;\n",
              "      border-bottom-color: var(--fill-color);\n",
              "      border-left-color: var(--fill-color);\n",
              "    }\n",
              "    20% {\n",
              "      border-color: transparent;\n",
              "      border-left-color: var(--fill-color);\n",
              "      border-top-color: var(--fill-color);\n",
              "    }\n",
              "    30% {\n",
              "      border-color: transparent;\n",
              "      border-left-color: var(--fill-color);\n",
              "      border-top-color: var(--fill-color);\n",
              "      border-right-color: var(--fill-color);\n",
              "    }\n",
              "    40% {\n",
              "      border-color: transparent;\n",
              "      border-right-color: var(--fill-color);\n",
              "      border-top-color: var(--fill-color);\n",
              "    }\n",
              "    60% {\n",
              "      border-color: transparent;\n",
              "      border-right-color: var(--fill-color);\n",
              "    }\n",
              "    80% {\n",
              "      border-color: transparent;\n",
              "      border-right-color: var(--fill-color);\n",
              "      border-bottom-color: var(--fill-color);\n",
              "    }\n",
              "    90% {\n",
              "      border-color: transparent;\n",
              "      border-bottom-color: var(--fill-color);\n",
              "    }\n",
              "  }\n",
              "</style>\n",
              "\n",
              "      <script>\n",
              "        async function quickchart(key) {\n",
              "          const quickchartButtonEl =\n",
              "            document.querySelector('#' + key + ' button');\n",
              "          quickchartButtonEl.disabled = true;  // To prevent multiple clicks.\n",
              "          quickchartButtonEl.classList.add('colab-df-spinner');\n",
              "          try {\n",
              "            const charts = await google.colab.kernel.invokeFunction(\n",
              "                'suggestCharts', [key], {});\n",
              "          } catch (error) {\n",
              "            console.error('Error during call to suggestCharts:', error);\n",
              "          }\n",
              "          quickchartButtonEl.classList.remove('colab-df-spinner');\n",
              "          quickchartButtonEl.classList.add('colab-df-quickchart-complete');\n",
              "        }\n",
              "        (() => {\n",
              "          let quickchartButtonEl =\n",
              "            document.querySelector('#df-29bb4bfc-9e05-49b4-ab4c-887120e68e85 button');\n",
              "          quickchartButtonEl.style.display =\n",
              "            google.colab.kernel.accessAllowed ? 'block' : 'none';\n",
              "        })();\n",
              "      </script>\n",
              "    </div>\n",
              "\n",
              "    </div>\n",
              "  </div>\n"
            ],
            "application/vnd.google.colaboratory.intrinsic+json": {
              "type": "dataframe",
              "variable_name": "df_iqr_clean",
              "summary": "{\n  \"name\": \"df_iqr_clean\",\n  \"rows\": 15450,\n  \"fields\": [\n    {\n      \"column\": \"InvoiceNo\",\n      \"properties\": {\n        \"dtype\": \"date\",\n        \"min\": 536365,\n        \"max\": 581587,\n        \"num_unique_values\": 15450,\n        \"samples\": [\n          536707,\n          546929,\n          577804\n        ],\n        \"semantic_type\": \"\",\n        \"description\": \"\"\n      }\n    },\n    {\n      \"column\": \"InvoiceDate\",\n      \"properties\": {\n        \"dtype\": \"date\",\n        \"min\": \"2010-12-01 00:00:00\",\n        \"max\": \"2011-12-09 00:00:00\",\n        \"num_unique_values\": 305,\n        \"samples\": [\n          \"2011-07-17 00:00:00\",\n          \"2011-06-16 00:00:00\",\n          \"2011-04-20 00:00:00\"\n        ],\n        \"semantic_type\": \"\",\n        \"description\": \"\"\n      }\n    },\n    {\n      \"column\": \"CustomerID\",\n      \"properties\": {\n        \"dtype\": \"number\",\n        \"std\": 1729,\n        \"min\": 12347,\n        \"max\": 18287,\n        \"num_unique_values\": 4038,\n        \"samples\": [\n          17573,\n          16634,\n          12447\n        ],\n        \"semantic_type\": \"\",\n        \"description\": \"\"\n      }\n    },\n    {\n      \"column\": \"Quantity\",\n      \"properties\": {\n        \"dtype\": \"number\",\n        \"std\": 124,\n        \"min\": 1,\n        \"max\": 616,\n        \"num_unique_values\": 595,\n        \"samples\": [\n          349,\n          270,\n          309\n        ],\n        \"semantic_type\": \"\",\n        \"description\": \"\"\n      }\n    },\n    {\n      \"column\": \"price_total\",\n      \"properties\": {\n        \"dtype\": \"number\",\n        \"std\": 180.20998632152674,\n        \"min\": 0.38,\n        \"max\": 817.89,\n        \"num_unique_values\": 12114,\n        \"samples\": [\n          569.2,\n          116.159999999999,\n          171.04\n        ],\n        \"semantic_type\": \"\",\n        \"description\": \"\"\n      }\n    },\n    {\n      \"column\": \"StockCode\",\n      \"properties\": {\n        \"dtype\": \"number\",\n        \"std\": 12,\n        \"min\": 1,\n        \"max\": 53,\n        \"num_unique_values\": 53,\n        \"samples\": [\n          15,\n          51,\n          30\n        ],\n        \"semantic_type\": \"\",\n        \"description\": \"\"\n      }\n    },\n    {\n      \"column\": \"is_devolver\",\n      \"properties\": {\n        \"dtype\": \"number\",\n        \"std\": 0,\n        \"min\": 0,\n        \"max\": 1,\n        \"num_unique_values\": 2,\n        \"samples\": [\n          0,\n          1\n        ],\n        \"semantic_type\": \"\",\n        \"description\": \"\"\n      }\n    }\n  ]\n}"
            }
          },
          "metadata": {},
          "execution_count": 24
        }
      ]
    },
    {
      "cell_type": "code",
      "source": [
        "# Asegurarse de que cada cliente aparezca solo una vez\n",
        "clientes = df_iqr_clean[['CustomerID', 'is_devolver']].drop_duplicates()\n",
        "\n",
        "# Contar la cantidad de clientes por clase\n",
        "conteo_clases = clientes['is_devolver'].value_counts()\n",
        "\n",
        "# Calcular el porcentaje por clase\n",
        "porcentaje_clases = clientes['is_devolver'].value_counts(normalize=True) * 100\n",
        "\n",
        "# Mostrar resultados\n",
        "print(\"🔎 Conteo de clases:\")\n",
        "print(conteo_clases)\n",
        "\n",
        "print(\"\\n📊 Porcentaje de clases:\")\n",
        "print(porcentaje_clases.round(2))\n"
      ],
      "metadata": {
        "colab": {
          "base_uri": "https://localhost:8080/"
        },
        "id": "Ktr872OLwHyw",
        "outputId": "7a8eb92f-8f8c-4e6a-b3c2-dd037cb50bc2"
      },
      "execution_count": 28,
      "outputs": [
        {
          "output_type": "stream",
          "name": "stdout",
          "text": [
            "🔎 Conteo de clases:\n",
            "is_devolver\n",
            "0    2548\n",
            "1    1490\n",
            "Name: count, dtype: int64\n",
            "\n",
            "📊 Porcentaje de clases:\n",
            "is_devolver\n",
            "0    63.1\n",
            "1    36.9\n",
            "Name: proportion, dtype: float64\n"
          ]
        }
      ]
    },
    {
      "cell_type": "code",
      "source": [
        "import matplotlib.pyplot as plt\n",
        "\n",
        "# Obtener clientes únicos con su clase\n",
        "clientes = df_iqr_clean[['CustomerID', 'is_devolver']].drop_duplicates()\n",
        "\n",
        "# Conteo y porcentaje por clase\n",
        "conteo_clases = clientes['is_devolver'].value_counts()\n",
        "porcentaje_clases = (conteo_clases / conteo_clases.sum()) * 100\n",
        "\n",
        "# Configuración del gráfico\n",
        "colores = ['skyblue', 'salmon']\n",
        "labels = ['No devolvió (0)', 'Sí devolvió (1)']\n",
        "\n",
        "# Crear gráfico de pastel\n",
        "plt.figure(figsize=(6, 6))\n",
        "plt.pie(\n",
        "    conteo_clases,\n",
        "    labels=labels,\n",
        "    autopct='%1.1f%%',\n",
        "    colors=colores,\n",
        "    startangle=140,\n",
        "    explode=(0, 0.05)  # ligera separación en la segunda porción\n",
        ")\n",
        "plt.title('Distribución de Clientes según is_devolver')\n",
        "plt.tight_layout()\n",
        "plt.show()\n",
        "\n",
        "\n"
      ],
      "metadata": {
        "colab": {
          "base_uri": "https://localhost:8080/",
          "height": 607
        },
        "id": "Wn5qQhZFwk8D",
        "outputId": "f1447462-e54d-4dce-c254-99ce1bdb8c03"
      },
      "execution_count": 31,
      "outputs": [
        {
          "output_type": "display_data",
          "data": {
            "text/plain": [
              "<Figure size 600x600 with 1 Axes>"
            ],
            "image/png": "[encoded data removed]"
          },
          "metadata": {}
        }
      ]
    },
    {
      "cell_type": "markdown",
      "source": [
        "el gráfico de pastel que muestra visualmente el desbalance de clases en is_devolver:\n",
        "\n",
        "* 63.1% de los clientes no realizaron devoluciones (is_devolver = 0)\n",
        "\n",
        "* 36.9% de los clientes sí devolvieron productos (is_devolver = 1)\n",
        "\n",
        "Este análisis confirma que, aunque hay un desbalance moderado, ambas clases están lo suficientemente representadas para aplicar modelos de clasificación sin necesidad urgente de balanceo artificial."
      ],
      "metadata": {
        "id": "wMAZBcRrw0_u"
      }
    },
    {
      "cell_type": "markdown",
      "source": [
        "## 📊 Paso 3.7 Análisis de relaciones predictoras ↔ target (gráficos, tablas cruzadas, test de independencia)."
      ],
      "metadata": {
        "id": "dr8wUPgOyNtY"
      }
    },
    {
      "cell_type": "code",
      "source": [
        "import matplotlib.pyplot as plt\n",
        "import seaborn as sns\n",
        "from scipy.stats import mannwhitneyu\n",
        "\n",
        "# Variables numéricas a evaluar\n",
        "variables = ['Quantity', 'price_total', 'StockCode']\n",
        "\n",
        "# 1. Boxplots por clase\n",
        "plt.figure(figsize=(18, 5))\n",
        "for i, var in enumerate(variables):\n",
        "    plt.subplot(1, 3, i + 1)\n",
        "    sns.boxplot(x='is_devolver', y=var, data=df_iqr_clean, palette='pastel')\n",
        "    plt.title(f'{var} por is_devolver')\n",
        "    plt.xlabel('is_devolver')\n",
        "    plt.ylabel(var)\n",
        "    plt.grid(True)\n",
        "plt.tight_layout()\n",
        "plt.show()"
      ],
      "metadata": {
        "colab": {
          "base_uri": "https://localhost:8080/",
          "height": 916
        },
        "id": "vqQLgWfJzW5c",
        "outputId": "503bf3e6-c298-4f05-aa09-67a6fc14ce69"
      },
      "execution_count": 32,
      "outputs": [
        {
          "output_type": "stream",
          "name": "stderr",
          "text": [
            "<ipython-input-32-630281cf2a35>:12: FutureWarning: \n",
            "\n",
            "Passing `palette` without assigning `hue` is deprecated and will be removed in v0.14.0. Assign the `x` variable to `hue` and set `legend=False` for the same effect.\n",
            "\n",
            "  sns.boxplot(x='is_devolver', y=var, data=df_iqr_clean, palette='pastel')\n",
            "<ipython-input-32-630281cf2a35>:12: FutureWarning: \n",
            "\n",
            "Passing `palette` without assigning `hue` is deprecated and will be removed in v0.14.0. Assign the `x` variable to `hue` and set `legend=False` for the same effect.\n",
            "\n",
            "  sns.boxplot(x='is_devolver', y=var, data=df_iqr_clean, palette='pastel')\n",
            "<ipython-input-32-630281cf2a35>:12: FutureWarning: \n",
            "\n",
            "Passing `palette` without assigning `hue` is deprecated and will be removed in v0.14.0. Assign the `x` variable to `hue` and set `legend=False` for the same effect.\n",
            "\n",
            "  sns.boxplot(x='is_devolver', y=var, data=df_iqr_clean, palette='pastel')\n"
          ]
        },
        {
          "output_type": "display_data",
          "data": {
            "text/plain": [
              "<Figure size 1800x500 with 3 Axes>"
            ],
            "image/png": "[encoded data removed]"
          },
          "metadata": {}
        },
        {
          "output_type": "stream",
          "name": "stdout",
          "text": [
            "📊 Medias por clase:\n",
            "             Quantity  price_total  StockCode\n",
            "is_devolver                                  \n",
            "0              146.97       252.14       16.3\n",
            "1              165.98       297.59       15.2\n",
            "\n",
            "📐 Resultados Mann-Whitney U:\n",
            "Quantity: U=25943347.50, p-value=2.19e-18\n",
            "price_total: U=24186787.00, p-value=1.57e-52\n",
            "StockCode: U=29513976.50, p-value=7.40e-06\n"
          ]
        }
      ]
    },
    {
      "cell_type": "code",
      "source": [
        "# 2. Diferencias de medias\n",
        "medias_por_clase = df_iqr_clean.groupby('is_devolver')[variables].mean()\n",
        "print(\"📊 Medias por clase:\")\n",
        "print(medias_por_clase.round(2))"
      ],
      "metadata": {
        "colab": {
          "base_uri": "https://localhost:8080/"
        },
        "id": "1Bd58WCtzeLh",
        "outputId": "20e2ec73-947d-4afd-a625-9dab8642ed1f"
      },
      "execution_count": 33,
      "outputs": [
        {
          "output_type": "stream",
          "name": "stdout",
          "text": [
            "📊 Medias por clase:\n",
            "             Quantity  price_total  StockCode\n",
            "is_devolver                                  \n",
            "0              146.97       252.14       16.3\n",
            "1              165.98       297.59       15.2\n"
          ]
        }
      ]
    },
    {
      "cell_type": "code",
      "source": [
        "# 3. Mann-Whitney U Test para cada variable\n",
        "print(\"\\n📐 Resultados Mann-Whitney U:\")\n",
        "for var in variables:\n",
        "    grupo_0 = df_iqr_clean[df_iqr_clean['is_devolver'] == 0][var]\n",
        "    grupo_1 = df_iqr_clean[df_iqr_clean['is_devolver'] == 1][var]\n",
        "    stat, p_value = mannwhitneyu(grupo_0, grupo_1, alternative='two-sided')\n",
        "    print(f\"{var}: U={stat:.2f}, p-value={p_value:.2e}\")"
      ],
      "metadata": {
        "colab": {
          "base_uri": "https://localhost:8080/"
        },
        "id": "we1sc5xlzk9I",
        "outputId": "c4ef3d29-0d6b-4cd0-aa59-01382341c1c9"
      },
      "execution_count": 34,
      "outputs": [
        {
          "output_type": "stream",
          "name": "stdout",
          "text": [
            "\n",
            "📐 Resultados Mann-Whitney U:\n",
            "Quantity: U=25943347.50, p-value=2.19e-18\n",
            "price_total: U=24186787.00, p-value=1.57e-52\n",
            "StockCode: U=29513976.50, p-value=7.40e-06\n"
          ]
        }
      ]
    },
    {
      "cell_type": "markdown",
      "source": [
        "✅ 4. Conclusión\n",
        "Existe una relación significativa entre las variables Quantity, price_total y StockCode con la variable objetivo is_devolver.\n",
        "\n",
        "Los clientes que devuelven tienden a:\n",
        "\n",
        "* Comprar más productos\n",
        "\n",
        "* Gastar más dinero\n",
        "\n",
        "* Tener una ligera diferencia en la variedad de ítems.\n",
        "\n",
        "Esto valida que estas variables pueden ser usadas como buenos predictores en un modelo de clasificación para anticipar devoluciones."
      ],
      "metadata": {
        "id": "i-nLskaZzqM-"
      }
    },
    {
      "cell_type": "code",
      "source": [
        "import pandas as pd\n",
        "\n",
        "# Asegurar que la columna de fecha esté en formato datetime\n",
        "df_iqr_clean['InvoiceDate'] = pd.to_datetime(df_iqr_clean['InvoiceDate'])\n",
        "\n",
        "# Definir fecha de referencia como la última fecha disponible en los datos\n",
        "fecha_ref = df_iqr_clean['InvoiceDate'].max()\n",
        "\n",
        "# Calcular Recency, Frequency y Monetary por cliente\n",
        "rfm = df_iqr_clean.groupby('CustomerID').agg({\n",
        "    'InvoiceDate': lambda x: (fecha_ref - x.max()).days,  # Recency: días desde la última compra\n",
        "    'InvoiceNo': 'nunique',                               # Frequency: cantidad de compras únicas\n",
        "    'price_total': 'sum'                                  # Monetary: total gastado por cliente\n",
        "}).reset_index()\n",
        "\n",
        "# Renombrar columnas\n",
        "rfm.columns = ['CustomerID', 'Recency', 'Frequency', 'Monetary']\n",
        "\n",
        "# Mostrar primeras filas\n",
        "print(rfm.head())\n"
      ],
      "metadata": {
        "colab": {
          "base_uri": "https://localhost:8080/"
        },
        "id": "2d6R8w1K1MNe",
        "outputId": "28691326-2376-4749-f491-f1b451305b00"
      },
      "execution_count": 35,
      "outputs": [
        {
          "output_type": "stream",
          "name": "stdout",
          "text": [
            "   CustomerID  Recency  Frequency  Monetary\n",
            "0       12347        2          6   3015.68\n",
            "1       12348       75          3    904.44\n",
            "2       12350      310          1    334.40\n",
            "3       12352       36          7   1665.74\n",
            "4       12353      204          1     89.00\n"
          ]
        }
      ]
    },
    {
      "cell_type": "markdown",
      "source": [
        "## 📊 Paso 3.8 Análisis multivariado y reducción exploratoria (PCA, t-SNE si aplica)."
      ],
      "metadata": {
        "id": "wSykdCgjyNjJ"
      }
    },
    {
      "cell_type": "code",
      "source": [
        "from sklearn.preprocessing import StandardScaler\n",
        "from sklearn.decomposition import PCA\n",
        "import matplotlib.pyplot as plt\n",
        "import seaborn as sns\n",
        "\n",
        "# Asegurar que rfm tenga la variable is_devolver desde df_iqr_clean\n",
        "clientes_devolucion = df_iqr_clean[['CustomerID', 'is_devolver']].drop_duplicates()\n",
        "rfm = rfm.merge(clientes_devolucion, on='CustomerID', how='left')\n",
        "\n",
        "# 1. Escalar variables RFM\n",
        "scaler = StandardScaler()\n",
        "rfm_scaled = scaler.fit_transform(rfm[['Recency', 'Frequency', 'Monetary']])\n",
        "\n",
        "# 2. Aplicar PCA con 2 componentes\n",
        "pca = PCA(n_components=2)\n",
        "pca_result = pca.fit_transform(rfm_scaled)\n",
        "\n",
        "# 3. Agregar componentes al DataFrame\n",
        "rfm['PCA1'] = pca_result[:, 0]\n",
        "rfm['PCA2'] = pca_result[:, 1]\n",
        "\n",
        "# 4. Visualizar en 2D\n",
        "plt.figure(figsize=(8, 6))\n",
        "sns.scatterplot(data=rfm, x='PCA1', y='PCA2', hue='is_devolver', palette='Set2')\n",
        "plt.title('Distribución de Clientes en Espacio PCA (RFM)')\n",
        "plt.xlabel('Componente Principal 1')\n",
        "plt.ylabel('Componente Principal 2')\n",
        "plt.grid(True)\n",
        "plt.tight_layout()\n",
        "plt.show()\n",
        "\n",
        "# 5. Mostrar varianza explicada por cada componente\n",
        "pca_varianza = pca.explained_variance_ratio_\n",
        "print(f\"Varianza explicada por PCA1: {pca_varianza[0]:.2%}\")\n",
        "print(f\"Varianza explicada por PCA2: {pca_varianza[1]:.2%}\")\n",
        "print(f\"Varianza total explicada: {pca_varianza.sum():.2%}\")\n"
      ],
      "metadata": {
        "colab": {
          "base_uri": "https://localhost:8080/",
          "height": 659
        },
        "id": "eKTJINOS2Pye",
        "outputId": "065a40d4-53cc-4767-90c9-648e43e17fa4"
      },
      "execution_count": 36,
      "outputs": [
        {
          "output_type": "display_data",
          "data": {
            "text/plain": [
              "<Figure size 800x600 with 1 Axes>"
            ],
            "image/png": "[encoded data removed]"
          },
          "metadata": {}
        },
        {
          "output_type": "stream",
          "name": "stdout",
          "text": [
            "Varianza explicada por PCA1: 67.16%\n",
            "Varianza explicada por PCA2: 28.31%\n",
            "Varianza total explicada: 95.47%\n"
          ]
        }
      ]
    },
    {
      "cell_type": "markdown",
      "source": [
        "✅ Análisis multivariado y reducción exploratoria (PCA)\n",
        "Se aplicó PCA (Análisis de Componentes Principales) sobre las variables RFM estandarizadas para reducir de 3 a 2 dimensiones.\n",
        "\n",
        "📈 Resultados de PCA:\n",
        "Componente 1 (PCA1) explica el 67.2% de la varianza\n",
        "\n",
        "Componente 2 (PCA2) explica el 28.3%\n",
        "➡️ 95.5% de la información total fue retenida en solo dos dimensiones.\n",
        "\n",
        "🔍 Visualización:\n",
        "El gráfico muestra una distribución bastante continua, sin separación clara entre clases is_devolver = 0 y 1.\n",
        "\n",
        "Sin embargo, se aprecian zonas de mayor densidad de clientes no devolvedores, mientras que los devolvedores están más dispersos.\n",
        "\n",
        "🧠 Conclusiones:\n",
        "Las variables RFM capturan bastante información relevante del comportamiento de compra.\n",
        "\n",
        "La separación entre clases en el espacio PCA no es estrictamente lineal, lo que sugiere que:\n",
        "\n",
        "Modelos como árboles de decisión o XGBoost podrían capturar relaciones más complejas.\n",
        "\n",
        "Podrías probar con clustering no supervisado si tu objetivo es segmentar sin usar is_devolver.\n",
        "\n"
      ],
      "metadata": {
        "id": "TuG3ro262ZEb"
      }
    },
    {
      "cell_type": "markdown",
      "source": [
        "### 🧠 Conclusiones interpretativas - 3.3 Identificación de clases desbalanceadas\n",
        "\n",
        "- Aunque no existen clases definidas (ya que es un problema no supervisado), se evaluó la distribución de la **cantidad de boletas por cliente** como una forma de entender la frecuencia de compra.\n",
        "- Se detectó un fuerte desbalance: la mayoría de los clientes tiene pocas compras registradas, mientras que unos pocos clientes concentran una gran cantidad de boletas.\n",
        "- El **50% de los clientes tiene 3 compras o menos**, mientras que el cliente más frecuente posee **248 compras**.\n",
        "- Esta distribución sugiere que existen distintos tipos de comportamiento entre clientes, lo cual **justifica la segmentación** mediante clustering.\n",
        "- Este desbalance deberá ser tenido en cuenta al crear las variables de segmentación (como frecuencia en RFM), para evitar que los clientes con compras excepcionales distorsionen los resultados.\n",
        "\n",
        "**Estadísticas resumen:**\n",
        "\n",
        "| Métrica                     | Valor   |\n",
        "|----------------------------|---------|\n",
        "| Total de clientes únicos   | 4,372   |\n",
        "| Media de compras por cliente | 5.08  |\n",
        "| Mediana (50%)              | 3       |\n",
        "| Mínimo                     | 1       |\n",
        "| Máximo                     | 248     |\n"
      ],
      "metadata": {
        "id": "WXrQUszugarK"
      }
    },
    {
      "cell_type": "markdown",
      "source": [
        "3.4 Detección de outliers y valores atípicos"
      ],
      "metadata": {
        "id": "1kHa4tUlYwZv"
      }
    },
    {
      "cell_type": "code",
      "source": [
        "# Boxplots\n",
        "fig, axes = plt.subplots(1, 2, figsize=(14, 5))\n",
        "\n",
        "sns.boxplot(data=df, y='Quantity', ax=axes[0])\n",
        "axes[0].set_title('Boxplot de Quantity')\n",
        "\n",
        "sns.boxplot(data=df, y='price_total', ax=axes[1])\n",
        "axes[1].set_title('Boxplot de price_total')\n",
        "\n",
        "plt.tight_layout()\n",
        "plt.show()\n",
        "\n",
        "# Detección de outliers con IQR\n",
        "def detectar_outliers(columna):\n",
        "    Q1 = df[columna].quantile(0.25)\n",
        "    Q3 = df[columna].quantile(0.75)\n",
        "    IQR = Q3 - Q1\n",
        "    limite_inferior = Q1 - 1.5 * IQR\n",
        "    limite_superior = Q3 + 1.5 * IQR\n",
        "    outliers = df[(df[columna] < limite_inferior) | (df[columna] > limite_superior)]\n",
        "    return outliers.shape[0], limite_inferior, limite_superior\n",
        "\n",
        "outliers_quantity, li_q, ls_q = detectar_outliers('Quantity')\n",
        "outliers_price, li_p, ls_p = detectar_outliers('price_total')\n",
        "\n",
        "{\n",
        "    \"Quantity\": {\n",
        "        \"Outliers detectados\": outliers_quantity,\n",
        "        \"Límite inferior\": li_q,\n",
        "        \"Límite superior\": ls_q\n",
        "    },\n",
        "    \"price_total\": {\n",
        "        \"Outliers detectados\": outliers_price,\n",
        "        \"Límite inferior\": li_p,\n",
        "        \"Límite superior\": ls_p\n",
        "    }\n",
        "}\n"
      ],
      "metadata": {
        "colab": {
          "base_uri": "https://localhost:8080/",
          "height": 611
        },
        "id": "6LQhLbMlZi1d",
        "outputId": "95f20fe3-f9ef-435d-d7ad-e84dba7b73b5"
      },
      "execution_count": 23,
      "outputs": [
        {
          "output_type": "display_data",
          "data": {
            "text/plain": [
              "<Figure size 1400x500 with 2 Axes>"
            ],
            "image/png": "[encoded data removed]"
          },
          "metadata": {}
        },
        {
          "output_type": "execute_result",
          "data": {
            "text/plain": [
              "{'Quantity': {'Outliers detectados': 1525,\n",
              "  'Límite inferior': np.float64(-306.0),\n",
              "  'Límite superior': np.float64(590.0)},\n",
              " 'price_total': {'Outliers detectados': 1677,\n",
              "  'Límite inferior': np.float64(-407.12750000000005),\n",
              "  'Límite superior': np.float64(913.1125)}}"
            ]
          },
          "metadata": {},
          "execution_count": 23
        }
      ]
    },
    {
      "cell_type": "markdown",
      "source": [
        "### 🧠 Conclusiones interpretativas - 3.4 Detección de outliers y valores atípicos\n",
        "\n",
        "- Se aplicaron boxplots y el método del IQR para detectar valores extremos en las variables `Quantity` y `price_total`.\n",
        "- Ambos indicadores presentan una cantidad significativa de valores atípicos, que podrían alterar el desempeño del algoritmo de clustering si no se tratan.\n",
        "\n",
        "**Resultados:**\n",
        "\n",
        "| Variable     | Outliers detectados | Límite inferior | Límite superior |\n",
        "|--------------|---------------------|------------------|------------------|\n",
        "| Quantity     | 1,525               | -306.0           | 590.0            |\n",
        "| price_total  | 1,677               | -407.13          | 913.11           |\n",
        "\n",
        "- La mayoría de los datos extremos corresponden a cantidades excesivas o montos inusualmente altos/bajos (incluyendo devoluciones negativas).\n",
        "- Se recomienda realizar una limpieza posterior para filtrar o transformar estos valores antes de aplicar clustering.\n"
      ],
      "metadata": {
        "id": "Bv6kZhl-hUSF"
      }
    },
    {
      "cell_type": "markdown",
      "source": [
        "3.5 Análisis de relaciones entre variables predictoras y la clase"
      ],
      "metadata": {
        "id": "ncj8ANCxYwP4"
      }
    },
    {
      "cell_type": "code",
      "source": [],
      "metadata": {
        "id": "a-EsRaxIZjPw"
      },
      "execution_count": 23,
      "outputs": []
    },
    {
      "cell_type": "markdown",
      "source": [
        "# 📌 **FASE 4: Preprocesamiento de Datos**\n",
        "*\t[4.1] Tratamiento de valores faltantes (imputación con media, mediana, k-NN, modelos).\n",
        "*\t[4.2] Conversión de variables categóricas:\n",
        "*\t[4.3] Escalado de variables numéricas (StandardScaler, MinMaxScaler).\n",
        "*\t[4.4] Transformación o eliminación de outliers si es necesario.\n",
        "*\t[4.5] Selección o reducción de variables (Lasso, Árboles, RFE, PCA).\n"
      ],
      "metadata": {
        "id": "3H6gHjEO4z0R"
      }
    },
    {
      "cell_type": "markdown",
      "source": [
        "## 📊 Paso 4.1 Tratamiento de valores faltantes (imputación con media, mediana, k-NN, modelos).."
      ],
      "metadata": {
        "id": "GejwnG3u5HeA"
      }
    },
    {
      "cell_type": "code",
      "source": [
        "# Paso 4.1: Verificación de valores faltantes en RFM\n",
        "faltantes_rfm = rfm.isnull().sum()\n",
        "\n",
        "# Mostrar solo columnas con valores faltantes\n",
        "faltantes_rfm[faltantes_rfm > 0]\n"
      ],
      "metadata": {
        "colab": {
          "base_uri": "https://localhost:8080/",
          "height": 84
        },
        "id": "L_dSQFAI5ucg",
        "outputId": "3617e11a-1130-43a3-ebba-4f9625f7ea44"
      },
      "execution_count": 37,
      "outputs": [
        {
          "output_type": "execute_result",
          "data": {
            "text/plain": [
              "Series([], dtype: int64)"
            ],
            "text/html": [
              "<div>\n",
              "<style scoped>\n",
              "    .dataframe tbody tr th:only-of-type {\n",
              "        vertical-align: middle;\n",
              "    }\n",
              "\n",
              "    .dataframe tbody tr th {\n",
              "        vertical-align: top;\n",
              "    }\n",
              "\n",
              "    .dataframe thead th {\n",
              "        text-align: right;\n",
              "    }\n",
              "</style>\n",
              "<table border=\"1\" class=\"dataframe\">\n",
              "  <thead>\n",
              "    <tr style=\"text-align: right;\">\n",
              "      <th></th>\n",
              "      <th>0</th>\n",
              "    </tr>\n",
              "  </thead>\n",
              "  <tbody>\n",
              "  </tbody>\n",
              "</table>\n",
              "</div><br><label><b>dtype:</b> int64</label>"
            ]
          },
          "metadata": {},
          "execution_count": 37
        }
      ]
    },
    {
      "cell_type": "markdown",
      "source": [
        "✅ Análisis:\n",
        "No se detectan valores faltantes en ninguna de las columnas del DataFrame rfm (incluyendo Recency, Frequency, Monetary, is_devolver, PCA1, PCA2).\n",
        "\n",
        "🧾 Conclusión:\n",
        "No es necesario aplicar imputación (media, mediana, k-NN, etc.) en esta etapa."
      ],
      "metadata": {
        "id": "2-F77Xj35pUH"
      }
    },
    {
      "cell_type": "markdown",
      "source": [
        "## 📊 Paso 4.2 Conversión de variables categóricas."
      ],
      "metadata": {
        "id": "_zoKi3RB5UlQ"
      }
    },
    {
      "cell_type": "code",
      "source": [
        "# Verificar tipos de datos y detectar variables categóricas\n",
        "tipos_datos = rfm.dtypes\n",
        "variables_categoricas = tipos_datos[tipos_datos == 'object'].index.tolist()\n",
        "\n",
        "# Mostrar variables categóricas encontradas\n",
        "print(\"Variables categóricas encontradas:\", variables_categoricas)\n"
      ],
      "metadata": {
        "colab": {
          "base_uri": "https://localhost:8080/"
        },
        "id": "l_xddYr_5tyS",
        "outputId": "7e79716a-4d09-4f11-8261-30910dd4c9ec"
      },
      "execution_count": 39,
      "outputs": [
        {
          "output_type": "stream",
          "name": "stdout",
          "text": [
            "Variables categóricas encontradas: []\n"
          ]
        }
      ]
    },
    {
      "cell_type": "markdown",
      "source": [
        "✅ Análisis:\n",
        "Al ejecutar el código, se confirma que rfm no contiene columnas con tipo de dato object.\n",
        "\n",
        "Todas las variables son numéricas (int, float) o binarias (is_devolver es int con valores 0/1).\n",
        "\n",
        "🧾 Conclusión:\n",
        "No es necesario realizar codificación de variables categóricas.\n",
        "\n",
        "Este paso no aplica para el DataFrame rfm."
      ],
      "metadata": {
        "id": "BGHkKJYn5pyM"
      }
    },
    {
      "cell_type": "markdown",
      "source": [
        "## 📊 Paso 4.3 Escalado de variables numéricas (StandardScaler, MinMaxScaler)."
      ],
      "metadata": {
        "id": "p8HR4AZ35Uu7"
      }
    },
    {
      "cell_type": "code",
      "source": [
        "from sklearn.preprocessing import StandardScaler, MinMaxScaler\n",
        "\n",
        "variables_numericas = ['Recency', 'Frequency', 'Monetary']\n",
        "\n",
        "# StandardScaler\n",
        "scaler_standard = StandardScaler()\n",
        "rfm_scaled_standard = scaler_standard.fit_transform(rfm[variables_numericas])\n",
        "\n",
        "# MinMaxScaler\n",
        "scaler_minmax = MinMaxScaler()\n",
        "rfm_scaled_minmax = scaler_minmax.fit_transform(rfm[variables_numericas])\n",
        "\n",
        "# Convertir a DataFrames\n",
        "rfm_standard_df = pd.DataFrame(rfm_scaled_standard, columns=[f'{col}_std' for col in variables_numericas])\n",
        "rfm_minmax_df = pd.DataFrame(rfm_scaled_minmax, columns=[f'{col}_minmax' for col in variables_numericas])\n",
        "\n",
        "# Concatenar todo en un solo DataFrame\n",
        "rfm_scaled_full = pd.concat([rfm, rfm_standard_df, rfm_minmax_df], axis=1)\n"
      ],
      "metadata": {
        "id": "1wRQ3ImG5tMX"
      },
      "execution_count": 40,
      "outputs": []
    },
    {
      "cell_type": "markdown",
      "source": [
        "✅ Análisis:\n",
        "Se generaron dos versiones de escalado para las variables Recency, Frequency, y Monetary:\n",
        "\n",
        "_std con StandardScaler (media 0, desviación estándar 1).\n",
        "\n",
        "_minmax con MinMaxScaler (rango 0 a 1).\n",
        "\n",
        "Ambos escalados son útiles para algoritmos de machine learning sensibles a escala:\n",
        "\n",
        "K-Means, SVM, redes neuronales requieren datos normalizados o estandarizados.\n",
        "\n",
        "🧾 Conclusión:\n",
        "Escalado completado exitosamente con ambas técnicas.\n",
        "\n",
        "Guardamos ambos sets para flexibilidad futura en clustering o clasificación.\n",
        "\n",
        "El DataFrame resultante es rfm_scaled_full."
      ],
      "metadata": {
        "id": "mkwSn1AY5qUx"
      }
    },
    {
      "cell_type": "markdown",
      "source": [
        "## 📊 Paso 4.4 Transformación o eliminación de outliers si es necesario."
      ],
      "metadata": {
        "id": "fU4HfyOI5U48"
      }
    },
    {
      "cell_type": "code",
      "source": [
        "def detectar_outliers_iqr(df, columna):\n",
        "    Q1 = df[columna].quantile(0.25)\n",
        "    Q3 = df[columna].quantile(0.75)\n",
        "    IQR = Q3 - Q1\n",
        "    outliers = df[(df[columna] < Q1 - 1.5 * IQR) | (df[columna] > Q3 + 1.5 * IQR)]\n",
        "    return outliers\n",
        "\n",
        "# Aplicado a variables RFM\n",
        "outliers_rfm = {var: detectar_outliers_iqr(rfm, var).shape[0] for var in ['Recency', 'Frequency', 'Monetary']}"
      ],
      "metadata": {
        "id": "sEkH9uLZ5sy4"
      },
      "execution_count": 42,
      "outputs": []
    },
    {
      "cell_type": "markdown",
      "source": [
        "✅ Análisis:\n",
        "Variable\tRegistros con outliers\n",
        "Recency\t0\n",
        "Frequency\t371\n",
        "Monetary\t375\n",
        "\n",
        "Recency no presenta valores atípicos según el criterio IQR.\n",
        "\n",
        "Frequency y Monetary sí presentan distribuciones sesgadas hacia arriba, es decir: clientes con compras muy frecuentes o montos excepcionalmente altos.\n",
        "\n",
        "🧾 Conclusión:\n",
        "No se recomienda eliminar estos outliers todavía, ya que:\n",
        "\n",
        "Pueden representar clientes valiosos (top compradores).\n",
        "\n",
        "En segmentación RFM, son precisamente estos outliers los que definen segmentos \"premium\".\n",
        "\n",
        "Se conservarán los valores, y en vez de eliminarlos, se sugiere usar escalado robusto o log-transformaciones si es necesario más adelante."
      ],
      "metadata": {
        "id": "KUnmtS2Q5q6g"
      }
    },
    {
      "cell_type": "markdown",
      "source": [
        "## 📊 Paso 4.5 Selección o reducción de variables (Lasso, Árboles, RFE, PCA)."
      ],
      "metadata": {
        "id": "ZKXzMzSJ5U_C"
      }
    },
    {
      "cell_type": "code",
      "source": [
        "from sklearn.feature_selection import SelectFromModel, RFE\n",
        "from sklearn.linear_model import LogisticRegression\n",
        "from sklearn.ensemble import RandomForestClassifier\n",
        "\n",
        "# Definir variables predictoras y objetivo\n",
        "X = rfm_scaled_full[['Recency', 'Frequency', 'Monetary']]\n",
        "y = rfm_scaled_full['is_devolver']\n",
        "\n",
        "# A. Lasso (Regresión logística con penalización L1)\n",
        "lasso_selector = SelectFromModel(estimator=LogisticRegression(penalty='l1', solver='liblinear'))\n",
        "lasso_selector.fit(X, y)\n",
        "lasso_result = dict(zip(X.columns, lasso_selector.get_support()))\n",
        "\n",
        "# B. Random Forest (importancia de características)\n",
        "rf_model = RandomForestClassifier(random_state=42)\n",
        "rf_model.fit(X, y)\n",
        "rf_importancias = dict(zip(X.columns, rf_model.feature_importances_))\n",
        "\n",
        "# C. RFE (Eliminación recursiva de características)\n",
        "rfe_selector = RFE(estimator=LogisticRegression(solver='liblinear'), n_features_to_select=2)\n",
        "rfe_selector.fit(X, y)\n",
        "rfe_result = dict(zip(X.columns, rfe_selector.support_))\n",
        "\n",
        "# Consolidar resultados\n",
        "seleccion_variables = {\n",
        "    \"Lasso (L1)\": lasso_result,\n",
        "    \"Random Forest (Importancia)\": rf_importancias,\n",
        "    \"RFE (Selección)\": rfe_result\n",
        "}\n",
        "\n",
        "# Mostrar resultados\n",
        "for metodo, resultado in seleccion_variables.items():\n",
        "    print(f\"\\n🔹 {metodo}\")\n",
        "    for variable, valor in resultado.items():\n",
        "        print(f\"{variable}: {valor}\")\n"
      ],
      "metadata": {
        "colab": {
          "base_uri": "https://localhost:8080/"
        },
        "id": "81vi19eC5saG",
        "outputId": "271ace83-dba7-44bb-95f1-cfdc69563e21"
      },
      "execution_count": 43,
      "outputs": [
        {
          "output_type": "stream",
          "name": "stdout",
          "text": [
            "\n",
            "🔹 Lasso (L1)\n",
            "Recency: True\n",
            "Frequency: True\n",
            "Monetary: True\n",
            "\n",
            "🔹 Random Forest (Importancia)\n",
            "Recency: 0.310802109107526\n",
            "Frequency: 0.14818077384429004\n",
            "Monetary: 0.5410171170481839\n",
            "\n",
            "🔹 RFE (Selección)\n",
            "Recency: False\n",
            "Frequency: True\n",
            "Monetary: True\n"
          ]
        }
      ]
    },
    {
      "cell_type": "markdown",
      "source": [
        "Paso [4.5] Selección o reducción de variables\n",
        "📌 Código utilizado:\n",
        "Se aplicaron tres técnicas de selección:\n",
        "\n",
        "Lasso (Regresión Logística con L1)\n",
        "\n",
        "Random Forest (Importancia de características)\n",
        "\n",
        "RFE (Eliminación recursiva de variables)\n",
        "\n",
        "✅ Resultados:\n",
        "Variable\tLasso (L1)\tRF Importancia (%)\tRFE Seleccionada\n",
        "Recency\t✅\t31.1%\t❌\n",
        "Frequency\t✅\t14.8%\t✅\n",
        "Monetary\t✅\t54.1%\t✅\n",
        "\n",
        "🧠 Conclusión:\n",
        "Las tres variables son relevantes según Lasso (ninguna descartada).\n",
        "\n",
        "Monetary tiene la mayor importancia según Random Forest.\n",
        "\n",
        "RFE descartó Recency, priorizando Frequency y Monetary.\n",
        "\n",
        "➡️ Recomendación:\n",
        "\n",
        "Conservar las tres variables para modelado general.\n",
        "\n",
        "Si se desea simplificar el modelo: usar Frequency y Monetary como principales predictores."
      ],
      "metadata": {
        "id": "CK45GwDB5rVw"
      }
    },
    {
      "cell_type": "markdown",
      "source": [
        "# 📌 **FASE 5: Preparación del Dataset**\n",
        "\n",
        "*\t[5.1] División en conjuntos:\n",
        "*\t[5.2] Validación estratificada si hay desbalanceo.\n",
        "*\t[5.3] Balanceo de clases:\n",
        "*\t[5.4] Ingeniería de características (creación de nuevas variables derivadas).\n",
        "\n"
      ],
      "metadata": {
        "id": "cfb6EIJQkApC"
      }
    },
    {
      "cell_type": "markdown",
      "source": [
        "## 📊 Paso 5.1 ."
      ],
      "metadata": {
        "id": "jBExozdeAUTd"
      }
    },
    {
      "cell_type": "markdown",
      "source": [],
      "metadata": {
        "id": "bNpzjpAaAdMR"
      }
    },
    {
      "cell_type": "code",
      "source": [],
      "metadata": {
        "id": "e8uw0SPeAc7h"
      },
      "execution_count": null,
      "outputs": []
    },
    {
      "cell_type": "markdown",
      "source": [
        "## 📊 Paso 5.2 ."
      ],
      "metadata": {
        "id": "wxgiRLKuAfmW"
      }
    },
    {
      "cell_type": "markdown",
      "source": [],
      "metadata": {
        "id": "tR7ec7YPAfmW"
      }
    },
    {
      "cell_type": "code",
      "source": [],
      "metadata": {
        "id": "hEaBWZafAfmX"
      },
      "execution_count": null,
      "outputs": []
    },
    {
      "cell_type": "markdown",
      "source": [
        "## 📊 Paso 5.3 ."
      ],
      "metadata": {
        "id": "ETCrOSFlAfz7"
      }
    },
    {
      "cell_type": "markdown",
      "source": [],
      "metadata": {
        "id": "h4_TO6PzAfz7"
      }
    },
    {
      "cell_type": "code",
      "source": [],
      "metadata": {
        "id": "tcSRh_FBAfz8"
      },
      "execution_count": null,
      "outputs": []
    },
    {
      "cell_type": "markdown",
      "source": [
        "## 📊 Paso 5.4 ."
      ],
      "metadata": {
        "id": "3t4PwidiAgA1"
      }
    },
    {
      "cell_type": "markdown",
      "source": [],
      "metadata": {
        "id": "LHglOVwRAgA2"
      }
    },
    {
      "cell_type": "code",
      "source": [],
      "metadata": {
        "id": "NrZ2ThTEAgA2"
      },
      "execution_count": null,
      "outputs": []
    },
    {
      "cell_type": "markdown",
      "source": [
        "# 📌 **FASE 6: Construcción del Modelo.**\n",
        "\n",
        "*\t[6.1] Selección de algoritmos adecuados según el problema:\n",
        "*\t[6.2] Entrenamiento inicial del modelo base.\n",
        "*\t[6.3] Validación cruzada (cross_val_score, StratifiedKFold, GridSearchCV).\n",
        "\n"
      ],
      "metadata": {
        "id": "Mzx8Ez-fkN4v"
      }
    },
    {
      "cell_type": "markdown",
      "source": [
        "## 📊 Paso 6.1 ."
      ],
      "metadata": {
        "id": "kDEoKtjhAkid"
      }
    },
    {
      "cell_type": "code",
      "source": [],
      "metadata": {
        "id": "2oafMsyyAhTL"
      },
      "execution_count": null,
      "outputs": []
    },
    {
      "cell_type": "markdown",
      "source": [],
      "metadata": {
        "id": "0oBGrSuHAzEK"
      }
    },
    {
      "cell_type": "markdown",
      "source": [
        "## 📊 Paso 6.2 ."
      ],
      "metadata": {
        "id": "OX_U9l35BCNK"
      }
    },
    {
      "cell_type": "code",
      "source": [],
      "metadata": {
        "id": "4svZPo3gBCNK"
      },
      "execution_count": null,
      "outputs": []
    },
    {
      "cell_type": "markdown",
      "source": [],
      "metadata": {
        "id": "vSecDEYbBCNL"
      }
    },
    {
      "cell_type": "markdown",
      "source": [
        "## 📊 Paso 6.3 ."
      ],
      "metadata": {
        "id": "uXzuGwBTBCZI"
      }
    },
    {
      "cell_type": "code",
      "source": [],
      "metadata": {
        "id": "Zj9F3sxABCZJ"
      },
      "execution_count": null,
      "outputs": []
    },
    {
      "cell_type": "markdown",
      "source": [],
      "metadata": {
        "id": "EOaKcjz3BCZJ"
      }
    },
    {
      "cell_type": "markdown",
      "source": [
        "# 📌 **FASE 7: Evaluación del Modelo**\n",
        "\n",
        "*\t[7.1] Realizar predicciones sobre el conjunto de prueba.\n",
        "*\t[7.2] Matriz de confusión.\n",
        "*\t[7.3] Cálculo de métricas:\n",
        "*\t[7.4] Análisis de errores tipo I (falsos positivos) y tipo II (falsos negativos).\n",
        "*\t[7.5] Curvas ROC, Precision-Recall y Lift si aplica."
      ],
      "metadata": {
        "id": "K2OZXxzikOAd"
      }
    },
    {
      "cell_type": "markdown",
      "source": [
        "## 📊 Paso 7.1 ."
      ],
      "metadata": {
        "id": "jeiooPPZA-MH"
      }
    },
    {
      "cell_type": "code",
      "source": [],
      "metadata": {
        "id": "nwTREoAgBNXr"
      },
      "execution_count": null,
      "outputs": []
    },
    {
      "cell_type": "markdown",
      "source": [],
      "metadata": {
        "id": "ZM2BnE7yBN6F"
      }
    },
    {
      "cell_type": "markdown",
      "source": [
        "## 📊 Paso 7.2 ."
      ],
      "metadata": {
        "id": "Fy6QhcVsBRS1"
      }
    },
    {
      "cell_type": "code",
      "source": [],
      "metadata": {
        "id": "pcY9lZCUBRS2"
      },
      "execution_count": null,
      "outputs": []
    },
    {
      "cell_type": "markdown",
      "source": [],
      "metadata": {
        "id": "a1xfdB-NBRS3"
      }
    },
    {
      "cell_type": "markdown",
      "source": [
        "## 📊 Paso 7.3 ."
      ],
      "metadata": {
        "id": "nFo7mcyrBRid"
      }
    },
    {
      "cell_type": "code",
      "source": [],
      "metadata": {
        "id": "rhcLOh4nBRid"
      },
      "execution_count": null,
      "outputs": []
    },
    {
      "cell_type": "markdown",
      "source": [],
      "metadata": {
        "id": "f-QUv0-hBRie"
      }
    },
    {
      "cell_type": "markdown",
      "source": [
        "## 📊 Paso 7.4 ."
      ],
      "metadata": {
        "id": "sNhxd6lpBRx-"
      }
    },
    {
      "cell_type": "code",
      "source": [],
      "metadata": {
        "id": "fvvzSF1LBRx_"
      },
      "execution_count": null,
      "outputs": []
    },
    {
      "cell_type": "markdown",
      "source": [],
      "metadata": {
        "id": "Ns7bqKMRBRx_"
      }
    },
    {
      "cell_type": "code",
      "source": [],
      "metadata": {
        "id": "OBp74GHhBR-f"
      },
      "execution_count": null,
      "outputs": []
    },
    {
      "cell_type": "markdown",
      "source": [],
      "metadata": {
        "id": "iE7XvWq8BR-f"
      }
    },
    {
      "cell_type": "markdown",
      "source": [
        "## 📊 Paso 7.5 ."
      ],
      "metadata": {
        "id": "RDLr7f4rBSMb"
      }
    },
    {
      "cell_type": "code",
      "source": [],
      "metadata": {
        "id": "Aov_XC8mBSMc"
      },
      "execution_count": null,
      "outputs": []
    },
    {
      "cell_type": "markdown",
      "source": [],
      "metadata": {
        "id": "WcohwwuyBSMd"
      }
    },
    {
      "cell_type": "markdown",
      "source": [
        "# FASE 8:\n",
        "\n",
        "27.\t[8.1] Tuning de hiperparámetros (GridSearchCV, RandomizedSearchCV)\n",
        "28.\t[8.2] Comparación entre distintos modelos\n",
        "29.\t[8.3] Evaluación del modelo final con mejores parámetros"
      ],
      "metadata": {
        "id": "YKFYyRIfkOJx"
      }
    },
    {
      "cell_type": "markdown",
      "source": [
        "# FASE 9:\n",
        "\n",
        "30.\t[9.1] Interpretar la importancia de las variables\n",
        "31.\t[9.2] Visualizar resultados con gráficos (curvas ROC, bar plots, SHAP)\n",
        "32.\t[9.3] Preparar informe o dashboard para stakeholders\n"
      ],
      "metadata": {
        "id": "QNwWZx5HkOQF"
      }
    },
    {
      "cell_type": "markdown",
      "source": [
        "# FASE 10: Implementación y Mantenimiento"
      ],
      "metadata": {
        "id": "QVysqtttkAhM"
      }
    },
    {
      "cell_type": "markdown",
      "source": [
        "33.\t[10.1] Exportar el modelo (pickle, joblib, PMML, etc.)\n",
        "34.\t[10.2] Desplegar en producción (API, app web, integración)\n",
        "35.\t[10.3] Monitorear rendimiento (drift, nuevas predicciones)\n",
        "36.\t[10.4] Reentrenar periódicamente con nuevos datos\n"
      ],
      "metadata": {
        "id": "2mxc1LdCkAaJ"
      }
    }
  ]
}