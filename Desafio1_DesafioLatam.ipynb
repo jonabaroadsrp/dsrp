{
  "nbformat": 4,
  "nbformat_minor": 0,
  "metadata": {
    "colab": {
      "provenance": [],
      "collapsed_sections": [
        "W_q-hKqmJHnj",
        "1Se9MohyKQM_",
        "eK_8yhlaKWkF",
        "zmSp6baoKW09",
        "ko__vdstKyY9",
        "KFfpZBE8KLIL",
        "WeNO4GmWKbZH",
        "jvotnBmhKg6b",
        "WoNXR2PvKgxF",
        "blcivhWoS2am",
        "1dYGwQ1-1Xe3",
        "df1B8nvETY2m",
        "Mnp9RDis8nc-",
        "ZxEuCMc89PJi",
        "GyJVVovY0Rzi"
      ],
      "authorship_tag": "ABX9TyO7iP4SLcuaO6X7R5Qd9EmV",
      "include_colab_link": true
    },
    "kernelspec": {
      "name": "python3",
      "display_name": "Python 3"
    },
    "language_info": {
      "name": "python"
    }
  },
  "cells": [
    {
      "cell_type": "markdown",
      "metadata": {
        "id": "view-in-github",
        "colab_type": "text"
      },
      "source": [
        "<a href=\"https://colab.research.google.com/github/jonabaroadsrp/dsrp/blob/Desafio1_DesafioLatam_1/Desafio1_DesafioLatam.ipynb\" target=\"_parent\"><img src=\"https://colab.research.google.com/assets/colab-badge.svg\" alt=\"Open In Colab\"/></a>"
      ]
    },
    {
      "cell_type": "markdown",
      "source": [
        "# 🧠 Desafío Nº1 - Análisis de Datos Inmobiliarios"
      ],
      "metadata": {
        "id": "QMzgpGIYwgLs"
      }
    },
    {
      "cell_type": "markdown",
      "source": [
        "## 📌 **1º Seccion: Preguntas conceptuales**"
      ],
      "metadata": {
        "id": "W_q-hKqmJHnj"
      }
    },
    {
      "cell_type": "markdown",
      "source": [
        "### **1. ¿Cuál es la diferencia entre el aprendizaje supervisado y el aprendizaje  no supervisado?**"
      ],
      "metadata": {
        "id": "1Se9MohyKQM_"
      }
    },
    {
      "cell_type": "markdown",
      "source": [
        "R. Aprendizaje supervisado, usa datos etiquetados, y el aprendizaje no supervisado, usa datos sin etiquetar."
      ],
      "metadata": {
        "id": "EiiuPGxdLE5Y"
      }
    },
    {
      "cell_type": "markdown",
      "source": [
        "### **2.** En la industria de la salud, a menudo se utiliza el machine learning ara predecir la probabilidad de enfermedades o condiciones médicas en función de diferentes variables de entrada, como síntomas, antecedentes médicos y factores de estilo de vida. Imagina que tienes un conjunto de datos que contiene información de pacientes y su diagnóstico (enfermo/no enfermo). **¿Qué tipo de aprendizaje utilizarías para construir un modelo predictivo?**"
      ],
      "metadata": {
        "id": "eK_8yhlaKWkF"
      }
    },
    {
      "cell_type": "markdown",
      "source": [
        "R. Utilizaría aprendizaje supervisado (clasificación), ya que contamos con datos de entrada (síntomas, estilo de vida, etc.) y etiquetas de salida (diagnóstico: enfermo/no enfermo)."
      ],
      "metadata": {
        "id": "6xz-OlEGLJh2"
      }
    },
    {
      "cell_type": "markdown",
      "source": [
        "**3. ¿Por qué razón es necesario dividir el set de datos en 2 set de datos al momento de realizar algún modelamiento supervisado? ¿Cuáles son los 2 set de datos y cúal es la función de cada uno?**"
      ],
      "metadata": {
        "id": "w77bpQxJKWsp"
      }
    },
    {
      "cell_type": "markdown",
      "source": [
        "R. Se divide para evaluar el desempeño del modelo con datos no vistos previamente, y evitar el sobreajuste.\n",
        "\n",
        "* Training set: Se usa para entrenar el modelo.\n",
        "* Test set: Se usa para evaluar qué tan bien generaliza el modelo a nuevos datos."
      ],
      "metadata": {
        "id": "Fu46bvFILKLr"
      }
    },
    {
      "cell_type": "markdown",
      "source": [
        "### **4. ¿Cuál es la principal diferencia en el modelamiento de la regresión lineal para un enfoque estadístico y un enfoque de aprendizaje de máquinas?**"
      ],
      "metadata": {
        "id": "zmSp6baoKW09"
      }
    },
    {
      "cell_type": "markdown",
      "source": [
        "* Enfoque estadístico: busca interpretar la relación entre variables, evalúa significancia estadística, supuestos clásicos.\n",
        "\n",
        "* Machine Learning: prioriza la precisión predictiva, no necesariamente la interpretación; puede ignorar algunos supuestos si mejora la predicción."
      ],
      "metadata": {
        "id": "f9LzwvXLLKq3"
      }
    },
    {
      "cell_type": "markdown",
      "source": [
        "### **5. Escoge una industria de acuerdo a su área de interés, rubro de trabajo o área de estudios. Menciona al menos 1 aplicación en esa industria de:**\n",
        "*   a. Aprendizaje Supervisado (Clasificación)\n",
        "*   b. Aprendizaje Supervisado (Regresión)\n",
        "*   c. Aprendizaje No Supervisado (Clustering)\n",
        "*   d. Aprendizaje No Supervisado (Reducción de dimensionalidad)"
      ],
      "metadata": {
        "id": "ko__vdstKyY9"
      }
    },
    {
      "cell_type": "markdown",
      "source": [
        "R. Aplicaciones según industria, \"Retail\"\n",
        "\n",
        "* a. Clasificación: Identificar si un cliente comprará o no según su historial.\n",
        "* b. Regresión: Predecir ventas de un producto según la época del año.\n",
        "* c. Clustering: Agrupar clientes con patrones de compra similares.\n",
        "* d. Reducción de dimensionalidad: Visualizar productos según comportamiento de compra en menos dimensiones."
      ],
      "metadata": {
        "id": "rLThc5ulLLlF"
      }
    },
    {
      "cell_type": "markdown",
      "source": [
        "## 📌 **2º Seccion: Implementación de modelo, regresión lineal.**"
      ],
      "metadata": {
        "id": "GQr3GvatJjel"
      }
    },
    {
      "cell_type": "markdown",
      "source": [
        "### 📊Fase 1: Comprensión del problema"
      ],
      "metadata": {
        "id": "4zJXYvDxPFnT"
      }
    },
    {
      "cell_type": "markdown",
      "source": [
        "Este notebook desarrolla un modelo de regresión lineal para predecir el precio de viviendas a partir de características estructurales usando un enfoque de ciencia de datos paso a paso."
      ],
      "metadata": {
        "id": "1O6D6ATsPLQG"
      }
    },
    {
      "cell_type": "markdown",
      "source": [
        "### 📊 Fase 2: Recolección y carga de datos.\n",
        "\n",
        "*\t✅ 2.1 Cargar librerías necesarias.\n",
        "*\t✅ 2.2 Cargar los datos desde archivo Excel."
      ],
      "metadata": {
        "id": "KFfpZBE8KLIL"
      }
    },
    {
      "cell_type": "markdown",
      "source": [
        "#### Paso 2.1 Cargar librerías necesarias."
      ],
      "metadata": {
        "id": "CnTG6CBsH5Ql"
      }
    },
    {
      "cell_type": "code",
      "source": [
        "# Importamos las librerías necesarias para análisis y visualización\n",
        "import pandas as pd\n",
        "import numpy as np\n",
        "import seaborn as sns\n",
        "import matplotlib.pyplot as plt\n",
        "import warnings\n",
        "from scipy.stats import zscore\n",
        "from scipy.stats.mstats import winsorize\n",
        "from sklearn.model_selection import train_test_split, GridSearchCV, cross_val_score\n",
        "from sklearn.preprocessing import StandardScaler\n",
        "from sklearn.linear_model import LinearRegression, Ridge, Lasso\n",
        "from sklearn.metrics import mean_absolute_error, mean_squared_error, r2_score\n",
        "\n",
        "warnings.filterwarnings(\"ignore\")  # Ocultar warnings para limpieza visual"
      ],
      "metadata": {
        "id": "a7d_PwTILj6b"
      },
      "execution_count": 1,
      "outputs": []
    },
    {
      "cell_type": "markdown",
      "source": [
        "#### Paso 2.2 Cargar los datos desde archivo Excel"
      ],
      "metadata": {
        "id": "ReyHL5kuKYOo"
      }
    },
    {
      "cell_type": "code",
      "source": [
        "# Se importa el rchivo desde el equipo al colab\n",
        "from google.colab import files\n",
        "uploaded = files.upload()\n",
        "\n",
        "# Se verifica que el archivo se haya subido correctamente\n",
        "for name in uploaded:\n",
        "    print(f\"Archivo cargado: {name}\")"
      ],
      "metadata": {
        "id": "XKy4v6H_mQiA",
        "colab": {
          "base_uri": "https://localhost:8080/",
          "height": 88
        },
        "outputId": "490ec1ff-37a2-423b-af43-8f8b924bfc0d"
      },
      "execution_count": 2,
      "outputs": [
        {
          "output_type": "display_data",
          "data": {
            "text/plain": [
              "<IPython.core.display.HTML object>"
            ],
            "text/html": [
              "\n",
              "     <input type=\"file\" id=\"files-36d7cd28-e603-4eef-b96d-9ef3206861ef\" name=\"files[]\" multiple disabled\n",
              "        style=\"border:none\" />\n",
              "     <output id=\"result-36d7cd28-e603-4eef-b96d-9ef3206861ef\">\n",
              "      Upload widget is only available when the cell has been executed in the\n",
              "      current browser session. Please rerun this cell to enable.\n",
              "      </output>\n",
              "      <script>// Copyright 2017 Google LLC\n",
              "//\n",
              "// Licensed under the Apache License, Version 2.0 (the \"License\");\n",
              "// you may not use this file except in compliance with the License.\n",
              "// You may obtain a copy of the License at\n",
              "//\n",
              "//      http://www.apache.org/licenses/LICENSE-2.0\n",
              "//\n",
              "// Unless required by applicable law or agreed to in writing, software\n",
              "// distributed under the License is distributed on an \"AS IS\" BASIS,\n",
              "// WITHOUT WARRANTIES OR CONDITIONS OF ANY KIND, either express or implied.\n",
              "// See the License for the specific language governing permissions and\n",
              "// limitations under the License.\n",
              "\n",
              "/**\n",
              " * @fileoverview Helpers for google.colab Python module.\n",
              " */\n",
              "(function(scope) {\n",
              "function span(text, styleAttributes = {}) {\n",
              "  const element = document.createElement('span');\n",
              "  element.textContent = text;\n",
              "  for (const key of Object.keys(styleAttributes)) {\n",
              "    element.style[key] = styleAttributes[key];\n",
              "  }\n",
              "  return element;\n",
              "}\n",
              "\n",
              "// Max number of bytes which will be uploaded at a time.\n",
              "const MAX_PAYLOAD_SIZE = 100 * 1024;\n",
              "\n",
              "function _uploadFiles(inputId, outputId) {\n",
              "  const steps = uploadFilesStep(inputId, outputId);\n",
              "  const outputElement = document.getElementById(outputId);\n",
              "  // Cache steps on the outputElement to make it available for the next call\n",
              "  // to uploadFilesContinue from Python.\n",
              "  outputElement.steps = steps;\n",
              "\n",
              "  return _uploadFilesContinue(outputId);\n",
              "}\n",
              "\n",
              "// This is roughly an async generator (not supported in the browser yet),\n",
              "// where there are multiple asynchronous steps and the Python side is going\n",
              "// to poll for completion of each step.\n",
              "// This uses a Promise to block the python side on completion of each step,\n",
              "// then passes the result of the previous step as the input to the next step.\n",
              "function _uploadFilesContinue(outputId) {\n",
              "  const outputElement = document.getElementById(outputId);\n",
              "  const steps = outputElement.steps;\n",
              "\n",
              "  const next = steps.next(outputElement.lastPromiseValue);\n",
              "  return Promise.resolve(next.value.promise).then((value) => {\n",
              "    // Cache the last promise value to make it available to the next\n",
              "    // step of the generator.\n",
              "    outputElement.lastPromiseValue = value;\n",
              "    return next.value.response;\n",
              "  });\n",
              "}\n",
              "\n",
              "/**\n",
              " * Generator function which is called between each async step of the upload\n",
              " * process.\n",
              " * @param {string} inputId Element ID of the input file picker element.\n",
              " * @param {string} outputId Element ID of the output display.\n",
              " * @return {!Iterable<!Object>} Iterable of next steps.\n",
              " */\n",
              "function* uploadFilesStep(inputId, outputId) {\n",
              "  const inputElement = document.getElementById(inputId);\n",
              "  inputElement.disabled = false;\n",
              "\n",
              "  const outputElement = document.getElementById(outputId);\n",
              "  outputElement.innerHTML = '';\n",
              "\n",
              "  const pickedPromise = new Promise((resolve) => {\n",
              "    inputElement.addEventListener('change', (e) => {\n",
              "      resolve(e.target.files);\n",
              "    });\n",
              "  });\n",
              "\n",
              "  const cancel = document.createElement('button');\n",
              "  inputElement.parentElement.appendChild(cancel);\n",
              "  cancel.textContent = 'Cancel upload';\n",
              "  const cancelPromise = new Promise((resolve) => {\n",
              "    cancel.onclick = () => {\n",
              "      resolve(null);\n",
              "    };\n",
              "  });\n",
              "\n",
              "  // Wait for the user to pick the files.\n",
              "  const files = yield {\n",
              "    promise: Promise.race([pickedPromise, cancelPromise]),\n",
              "    response: {\n",
              "      action: 'starting',\n",
              "    }\n",
              "  };\n",
              "\n",
              "  cancel.remove();\n",
              "\n",
              "  // Disable the input element since further picks are not allowed.\n",
              "  inputElement.disabled = true;\n",
              "\n",
              "  if (!files) {\n",
              "    return {\n",
              "      response: {\n",
              "        action: 'complete',\n",
              "      }\n",
              "    };\n",
              "  }\n",
              "\n",
              "  for (const file of files) {\n",
              "    const li = document.createElement('li');\n",
              "    li.append(span(file.name, {fontWeight: 'bold'}));\n",
              "    li.append(span(\n",
              "        `(${file.type || 'n/a'}) - ${file.size} bytes, ` +\n",
              "        `last modified: ${\n",
              "            file.lastModifiedDate ? file.lastModifiedDate.toLocaleDateString() :\n",
              "                                    'n/a'} - `));\n",
              "    const percent = span('0% done');\n",
              "    li.appendChild(percent);\n",
              "\n",
              "    outputElement.appendChild(li);\n",
              "\n",
              "    const fileDataPromise = new Promise((resolve) => {\n",
              "      const reader = new FileReader();\n",
              "      reader.onload = (e) => {\n",
              "        resolve(e.target.result);\n",
              "      };\n",
              "      reader.readAsArrayBuffer(file);\n",
              "    });\n",
              "    // Wait for the data to be ready.\n",
              "    let fileData = yield {\n",
              "      promise: fileDataPromise,\n",
              "      response: {\n",
              "        action: 'continue',\n",
              "      }\n",
              "    };\n",
              "\n",
              "    // Use a chunked sending to avoid message size limits. See b/62115660.\n",
              "    let position = 0;\n",
              "    do {\n",
              "      const length = Math.min(fileData.byteLength - position, MAX_PAYLOAD_SIZE);\n",
              "      const chunk = new Uint8Array(fileData, position, length);\n",
              "      position += length;\n",
              "\n",
              "      const base64 = btoa(String.fromCharCode.apply(null, chunk));\n",
              "      yield {\n",
              "        response: {\n",
              "          action: 'append',\n",
              "          file: file.name,\n",
              "          data: base64,\n",
              "        },\n",
              "      };\n",
              "\n",
              "      let percentDone = fileData.byteLength === 0 ?\n",
              "          100 :\n",
              "          Math.round((position / fileData.byteLength) * 100);\n",
              "      percent.textContent = `${percentDone}% done`;\n",
              "\n",
              "    } while (position < fileData.byteLength);\n",
              "  }\n",
              "\n",
              "  // All done.\n",
              "  yield {\n",
              "    response: {\n",
              "      action: 'complete',\n",
              "    }\n",
              "  };\n",
              "}\n",
              "\n",
              "scope.google = scope.google || {};\n",
              "scope.google.colab = scope.google.colab || {};\n",
              "scope.google.colab._files = {\n",
              "  _uploadFiles,\n",
              "  _uploadFilesContinue,\n",
              "};\n",
              "})(self);\n",
              "</script> "
            ]
          },
          "metadata": {}
        },
        {
          "output_type": "stream",
          "name": "stdout",
          "text": [
            "Saving data-housing.xlsx to data-housing.xlsx\n",
            "Archivo cargado: data-housing.xlsx\n"
          ]
        }
      ]
    },
    {
      "cell_type": "code",
      "source": [
        "# Se carga el archivo Excel en un DataFrame\n",
        "df = pd.read_excel('data-housing.xlsx')\n",
        "df.head()"
      ],
      "metadata": {
        "colab": {
          "base_uri": "https://localhost:8080/",
          "height": 206
        },
        "id": "RrUyvTYLxHZj",
        "outputId": "fcbae733-7d45-44af-df4d-94dcda25cc8b"
      },
      "execution_count": 3,
      "outputs": [
        {
          "output_type": "execute_result",
          "data": {
            "text/plain": [
              "      price  area  bedrooms  bathrooms  stories guestroom hotwaterheating  \\\n",
              "0  13300000  7420         4          2        3        no              no   \n",
              "1  12250000  8960         4          4        4        no              no   \n",
              "2  12250000  9960         3          2        2        no              no   \n",
              "3  12215000  7500         4          2        2        no              no   \n",
              "4  11410000  7420         4          1        2       yes              no   \n",
              "\n",
              "  airconditioning  parking  \n",
              "0             yes        2  \n",
              "1             yes        3  \n",
              "2              no        2  \n",
              "3             yes        3  \n",
              "4             yes        2  "
            ],
            "text/html": [
              "\n",
              "  <div id=\"df-4ec21a98-3541-423e-8c7b-c75d11f5ad72\" class=\"colab-df-container\">\n",
              "    <div>\n",
              "<style scoped>\n",
              "    .dataframe tbody tr th:only-of-type {\n",
              "        vertical-align: middle;\n",
              "    }\n",
              "\n",
              "    .dataframe tbody tr th {\n",
              "        vertical-align: top;\n",
              "    }\n",
              "\n",
              "    .dataframe thead th {\n",
              "        text-align: right;\n",
              "    }\n",
              "</style>\n",
              "<table border=\"1\" class=\"dataframe\">\n",
              "  <thead>\n",
              "    <tr style=\"text-align: right;\">\n",
              "      <th></th>\n",
              "      <th>price</th>\n",
              "      <th>area</th>\n",
              "      <th>bedrooms</th>\n",
              "      <th>bathrooms</th>\n",
              "      <th>stories</th>\n",
              "      <th>guestroom</th>\n",
              "      <th>hotwaterheating</th>\n",
              "      <th>airconditioning</th>\n",
              "      <th>parking</th>\n",
              "    </tr>\n",
              "  </thead>\n",
              "  <tbody>\n",
              "    <tr>\n",
              "      <th>0</th>\n",
              "      <td>13300000</td>\n",
              "      <td>7420</td>\n",
              "      <td>4</td>\n",
              "      <td>2</td>\n",
              "      <td>3</td>\n",
              "      <td>no</td>\n",
              "      <td>no</td>\n",
              "      <td>yes</td>\n",
              "      <td>2</td>\n",
              "    </tr>\n",
              "    <tr>\n",
              "      <th>1</th>\n",
              "      <td>12250000</td>\n",
              "      <td>8960</td>\n",
              "      <td>4</td>\n",
              "      <td>4</td>\n",
              "      <td>4</td>\n",
              "      <td>no</td>\n",
              "      <td>no</td>\n",
              "      <td>yes</td>\n",
              "      <td>3</td>\n",
              "    </tr>\n",
              "    <tr>\n",
              "      <th>2</th>\n",
              "      <td>12250000</td>\n",
              "      <td>9960</td>\n",
              "      <td>3</td>\n",
              "      <td>2</td>\n",
              "      <td>2</td>\n",
              "      <td>no</td>\n",
              "      <td>no</td>\n",
              "      <td>no</td>\n",
              "      <td>2</td>\n",
              "    </tr>\n",
              "    <tr>\n",
              "      <th>3</th>\n",
              "      <td>12215000</td>\n",
              "      <td>7500</td>\n",
              "      <td>4</td>\n",
              "      <td>2</td>\n",
              "      <td>2</td>\n",
              "      <td>no</td>\n",
              "      <td>no</td>\n",
              "      <td>yes</td>\n",
              "      <td>3</td>\n",
              "    </tr>\n",
              "    <tr>\n",
              "      <th>4</th>\n",
              "      <td>11410000</td>\n",
              "      <td>7420</td>\n",
              "      <td>4</td>\n",
              "      <td>1</td>\n",
              "      <td>2</td>\n",
              "      <td>yes</td>\n",
              "      <td>no</td>\n",
              "      <td>yes</td>\n",
              "      <td>2</td>\n",
              "    </tr>\n",
              "  </tbody>\n",
              "</table>\n",
              "</div>\n",
              "    <div class=\"colab-df-buttons\">\n",
              "\n",
              "  <div class=\"colab-df-container\">\n",
              "    <button class=\"colab-df-convert\" onclick=\"convertToInteractive('df-4ec21a98-3541-423e-8c7b-c75d11f5ad72')\"\n",
              "            title=\"Convert this dataframe to an interactive table.\"\n",
              "            style=\"display:none;\">\n",
              "\n",
              "  <svg xmlns=\"http://www.w3.org/2000/svg\" height=\"24px\" viewBox=\"0 -960 960 960\">\n",
              "    <path d=\"M120-120v-720h720v720H120Zm60-500h600v-160H180v160Zm220 220h160v-160H400v160Zm0 220h160v-160H400v160ZM180-400h160v-160H180v160Zm440 0h160v-160H620v160ZM180-180h160v-160H180v160Zm440 0h160v-160H620v160Z\"/>\n",
              "  </svg>\n",
              "    </button>\n",
              "\n",
              "  <style>\n",
              "    .colab-df-container {\n",
              "      display:flex;\n",
              "      gap: 12px;\n",
              "    }\n",
              "\n",
              "    .colab-df-convert {\n",
              "      background-color: #E8F0FE;\n",
              "      border: none;\n",
              "      border-radius: 50%;\n",
              "      cursor: pointer;\n",
              "      display: none;\n",
              "      fill: #1967D2;\n",
              "      height: 32px;\n",
              "      padding: 0 0 0 0;\n",
              "      width: 32px;\n",
              "    }\n",
              "\n",
              "    .colab-df-convert:hover {\n",
              "      background-color: #E2EBFA;\n",
              "      box-shadow: 0px 1px 2px rgba(60, 64, 67, 0.3), 0px 1px 3px 1px rgba(60, 64, 67, 0.15);\n",
              "      fill: #174EA6;\n",
              "    }\n",
              "\n",
              "    .colab-df-buttons div {\n",
              "      margin-bottom: 4px;\n",
              "    }\n",
              "\n",
              "    [theme=dark] .colab-df-convert {\n",
              "      background-color: #3B4455;\n",
              "      fill: #D2E3FC;\n",
              "    }\n",
              "\n",
              "    [theme=dark] .colab-df-convert:hover {\n",
              "      background-color: #434B5C;\n",
              "      box-shadow: 0px 1px 3px 1px rgba(0, 0, 0, 0.15);\n",
              "      filter: drop-shadow(0px 1px 2px rgba(0, 0, 0, 0.3));\n",
              "      fill: #FFFFFF;\n",
              "    }\n",
              "  </style>\n",
              "\n",
              "    <script>\n",
              "      const buttonEl =\n",
              "        document.querySelector('#df-4ec21a98-3541-423e-8c7b-c75d11f5ad72 button.colab-df-convert');\n",
              "      buttonEl.style.display =\n",
              "        google.colab.kernel.accessAllowed ? 'block' : 'none';\n",
              "\n",
              "      async function convertToInteractive(key) {\n",
              "        const element = document.querySelector('#df-4ec21a98-3541-423e-8c7b-c75d11f5ad72');\n",
              "        const dataTable =\n",
              "          await google.colab.kernel.invokeFunction('convertToInteractive',\n",
              "                                                    [key], {});\n",
              "        if (!dataTable) return;\n",
              "\n",
              "        const docLinkHtml = 'Like what you see? Visit the ' +\n",
              "          '<a target=\"_blank\" href=https://colab.research.google.com/notebooks/data_table.ipynb>data table notebook</a>'\n",
              "          + ' to learn more about interactive tables.';\n",
              "        element.innerHTML = '';\n",
              "        dataTable['output_type'] = 'display_data';\n",
              "        await google.colab.output.renderOutput(dataTable, element);\n",
              "        const docLink = document.createElement('div');\n",
              "        docLink.innerHTML = docLinkHtml;\n",
              "        element.appendChild(docLink);\n",
              "      }\n",
              "    </script>\n",
              "  </div>\n",
              "\n",
              "\n",
              "    <div id=\"df-cf59ffd4-c256-4454-b78b-69a7f4f68fca\">\n",
              "      <button class=\"colab-df-quickchart\" onclick=\"quickchart('df-cf59ffd4-c256-4454-b78b-69a7f4f68fca')\"\n",
              "                title=\"Suggest charts\"\n",
              "                style=\"display:none;\">\n",
              "\n",
              "<svg xmlns=\"http://www.w3.org/2000/svg\" height=\"24px\"viewBox=\"0 0 24 24\"\n",
              "     width=\"24px\">\n",
              "    <g>\n",
              "        <path d=\"M19 3H5c-1.1 0-2 .9-2 2v14c0 1.1.9 2 2 2h14c1.1 0 2-.9 2-2V5c0-1.1-.9-2-2-2zM9 17H7v-7h2v7zm4 0h-2V7h2v10zm4 0h-2v-4h2v4z\"/>\n",
              "    </g>\n",
              "</svg>\n",
              "      </button>\n",
              "\n",
              "<style>\n",
              "  .colab-df-quickchart {\n",
              "      --bg-color: #E8F0FE;\n",
              "      --fill-color: #1967D2;\n",
              "      --hover-bg-color: #E2EBFA;\n",
              "      --hover-fill-color: #174EA6;\n",
              "      --disabled-fill-color: #AAA;\n",
              "      --disabled-bg-color: #DDD;\n",
              "  }\n",
              "\n",
              "  [theme=dark] .colab-df-quickchart {\n",
              "      --bg-color: #3B4455;\n",
              "      --fill-color: #D2E3FC;\n",
              "      --hover-bg-color: #434B5C;\n",
              "      --hover-fill-color: #FFFFFF;\n",
              "      --disabled-bg-color: #3B4455;\n",
              "      --disabled-fill-color: #666;\n",
              "  }\n",
              "\n",
              "  .colab-df-quickchart {\n",
              "    background-color: var(--bg-color);\n",
              "    border: none;\n",
              "    border-radius: 50%;\n",
              "    cursor: pointer;\n",
              "    display: none;\n",
              "    fill: var(--fill-color);\n",
              "    height: 32px;\n",
              "    padding: 0;\n",
              "    width: 32px;\n",
              "  }\n",
              "\n",
              "  .colab-df-quickchart:hover {\n",
              "    background-color: var(--hover-bg-color);\n",
              "    box-shadow: 0 1px 2px rgba(60, 64, 67, 0.3), 0 1px 3px 1px rgba(60, 64, 67, 0.15);\n",
              "    fill: var(--button-hover-fill-color);\n",
              "  }\n",
              "\n",
              "  .colab-df-quickchart-complete:disabled,\n",
              "  .colab-df-quickchart-complete:disabled:hover {\n",
              "    background-color: var(--disabled-bg-color);\n",
              "    fill: var(--disabled-fill-color);\n",
              "    box-shadow: none;\n",
              "  }\n",
              "\n",
              "  .colab-df-spinner {\n",
              "    border: 2px solid var(--fill-color);\n",
              "    border-color: transparent;\n",
              "    border-bottom-color: var(--fill-color);\n",
              "    animation:\n",
              "      spin 1s steps(1) infinite;\n",
              "  }\n",
              "\n",
              "  @keyframes spin {\n",
              "    0% {\n",
              "      border-color: transparent;\n",
              "      border-bottom-color: var(--fill-color);\n",
              "      border-left-color: var(--fill-color);\n",
              "    }\n",
              "    20% {\n",
              "      border-color: transparent;\n",
              "      border-left-color: var(--fill-color);\n",
              "      border-top-color: var(--fill-color);\n",
              "    }\n",
              "    30% {\n",
              "      border-color: transparent;\n",
              "      border-left-color: var(--fill-color);\n",
              "      border-top-color: var(--fill-color);\n",
              "      border-right-color: var(--fill-color);\n",
              "    }\n",
              "    40% {\n",
              "      border-color: transparent;\n",
              "      border-right-color: var(--fill-color);\n",
              "      border-top-color: var(--fill-color);\n",
              "    }\n",
              "    60% {\n",
              "      border-color: transparent;\n",
              "      border-right-color: var(--fill-color);\n",
              "    }\n",
              "    80% {\n",
              "      border-color: transparent;\n",
              "      border-right-color: var(--fill-color);\n",
              "      border-bottom-color: var(--fill-color);\n",
              "    }\n",
              "    90% {\n",
              "      border-color: transparent;\n",
              "      border-bottom-color: var(--fill-color);\n",
              "    }\n",
              "  }\n",
              "</style>\n",
              "\n",
              "      <script>\n",
              "        async function quickchart(key) {\n",
              "          const quickchartButtonEl =\n",
              "            document.querySelector('#' + key + ' button');\n",
              "          quickchartButtonEl.disabled = true;  // To prevent multiple clicks.\n",
              "          quickchartButtonEl.classList.add('colab-df-spinner');\n",
              "          try {\n",
              "            const charts = await google.colab.kernel.invokeFunction(\n",
              "                'suggestCharts', [key], {});\n",
              "          } catch (error) {\n",
              "            console.error('Error during call to suggestCharts:', error);\n",
              "          }\n",
              "          quickchartButtonEl.classList.remove('colab-df-spinner');\n",
              "          quickchartButtonEl.classList.add('colab-df-quickchart-complete');\n",
              "        }\n",
              "        (() => {\n",
              "          let quickchartButtonEl =\n",
              "            document.querySelector('#df-cf59ffd4-c256-4454-b78b-69a7f4f68fca button');\n",
              "          quickchartButtonEl.style.display =\n",
              "            google.colab.kernel.accessAllowed ? 'block' : 'none';\n",
              "        })();\n",
              "      </script>\n",
              "    </div>\n",
              "\n",
              "    </div>\n",
              "  </div>\n"
            ],
            "application/vnd.google.colaboratory.intrinsic+json": {
              "type": "dataframe",
              "variable_name": "df",
              "summary": "{\n  \"name\": \"df\",\n  \"rows\": 545,\n  \"fields\": [\n    {\n      \"column\": \"price\",\n      \"properties\": {\n        \"dtype\": \"number\",\n        \"std\": 1870439,\n        \"min\": 1750000,\n        \"max\": 13300000,\n        \"num_unique_values\": 219,\n        \"samples\": [\n          3773000,\n          5285000,\n          1820000\n        ],\n        \"semantic_type\": \"\",\n        \"description\": \"\"\n      }\n    },\n    {\n      \"column\": \"area\",\n      \"properties\": {\n        \"dtype\": \"number\",\n        \"std\": 2170,\n        \"min\": 1650,\n        \"max\": 16200,\n        \"num_unique_values\": 284,\n        \"samples\": [\n          6000,\n          2684,\n          5360\n        ],\n        \"semantic_type\": \"\",\n        \"description\": \"\"\n      }\n    },\n    {\n      \"column\": \"bedrooms\",\n      \"properties\": {\n        \"dtype\": \"number\",\n        \"std\": 0,\n        \"min\": 1,\n        \"max\": 6,\n        \"num_unique_values\": 6,\n        \"samples\": [\n          4,\n          3,\n          1\n        ],\n        \"semantic_type\": \"\",\n        \"description\": \"\"\n      }\n    },\n    {\n      \"column\": \"bathrooms\",\n      \"properties\": {\n        \"dtype\": \"number\",\n        \"std\": 0,\n        \"min\": 1,\n        \"max\": 4,\n        \"num_unique_values\": 4,\n        \"samples\": [\n          4,\n          3,\n          2\n        ],\n        \"semantic_type\": \"\",\n        \"description\": \"\"\n      }\n    },\n    {\n      \"column\": \"stories\",\n      \"properties\": {\n        \"dtype\": \"number\",\n        \"std\": 0,\n        \"min\": 1,\n        \"max\": 4,\n        \"num_unique_values\": 4,\n        \"samples\": [\n          4,\n          1,\n          3\n        ],\n        \"semantic_type\": \"\",\n        \"description\": \"\"\n      }\n    },\n    {\n      \"column\": \"guestroom\",\n      \"properties\": {\n        \"dtype\": \"category\",\n        \"num_unique_values\": 2,\n        \"samples\": [\n          \"yes\",\n          \"no\"\n        ],\n        \"semantic_type\": \"\",\n        \"description\": \"\"\n      }\n    },\n    {\n      \"column\": \"hotwaterheating\",\n      \"properties\": {\n        \"dtype\": \"category\",\n        \"num_unique_values\": 2,\n        \"samples\": [\n          \"yes\",\n          \"no\"\n        ],\n        \"semantic_type\": \"\",\n        \"description\": \"\"\n      }\n    },\n    {\n      \"column\": \"airconditioning\",\n      \"properties\": {\n        \"dtype\": \"category\",\n        \"num_unique_values\": 2,\n        \"samples\": [\n          \"no\",\n          \"yes\"\n        ],\n        \"semantic_type\": \"\",\n        \"description\": \"\"\n      }\n    },\n    {\n      \"column\": \"parking\",\n      \"properties\": {\n        \"dtype\": \"number\",\n        \"std\": 0,\n        \"min\": 0,\n        \"max\": 3,\n        \"num_unique_values\": 4,\n        \"samples\": [\n          3,\n          1\n        ],\n        \"semantic_type\": \"\",\n        \"description\": \"\"\n      }\n    }\n  ]\n}"
            }
          },
          "metadata": {},
          "execution_count": 3
        }
      ]
    },
    {
      "cell_type": "markdown",
      "source": [
        "### 📊 Fase 3: Exploración de datos (EDA).\n",
        "\n",
        "*\t✅ 3.1 Verificar y revisar la estructura del dataset / (Data exploration).\n",
        "*\t✅ 3.2 Detectar valores nulos y tipos de datos.\n",
        "*\t✅ 3.3 Visualizar correlaciones.\n"
      ],
      "metadata": {
        "id": "WeNO4GmWKbZH"
      }
    },
    {
      "cell_type": "markdown",
      "source": [
        "#### Paso 3.1 Verificar y revisar la estructura del dataset / (Data exploration)."
      ],
      "metadata": {
        "id": "WsLbiO2AKc5-"
      }
    },
    {
      "cell_type": "code",
      "source": [
        "# Se visualizan las primeras filas del DataFrame con sus deimensiones.\n",
        "display(df.head())"
      ],
      "metadata": {
        "colab": {
          "base_uri": "https://localhost:8080/",
          "height": 206
        },
        "id": "lEeo5zVKKb7U",
        "outputId": "9f9c9fe3-5ef2-4f85-a477-c23a96caa0aa"
      },
      "execution_count": 4,
      "outputs": [
        {
          "output_type": "display_data",
          "data": {
            "text/plain": [
              "      price  area  bedrooms  bathrooms  stories guestroom hotwaterheating  \\\n",
              "0  13300000  7420         4          2        3        no              no   \n",
              "1  12250000  8960         4          4        4        no              no   \n",
              "2  12250000  9960         3          2        2        no              no   \n",
              "3  12215000  7500         4          2        2        no              no   \n",
              "4  11410000  7420         4          1        2       yes              no   \n",
              "\n",
              "  airconditioning  parking  \n",
              "0             yes        2  \n",
              "1             yes        3  \n",
              "2              no        2  \n",
              "3             yes        3  \n",
              "4             yes        2  "
            ],
            "text/html": [
              "\n",
              "  <div id=\"df-3860ac77-86e6-4cc5-9734-e8070182eb1c\" class=\"colab-df-container\">\n",
              "    <div>\n",
              "<style scoped>\n",
              "    .dataframe tbody tr th:only-of-type {\n",
              "        vertical-align: middle;\n",
              "    }\n",
              "\n",
              "    .dataframe tbody tr th {\n",
              "        vertical-align: top;\n",
              "    }\n",
              "\n",
              "    .dataframe thead th {\n",
              "        text-align: right;\n",
              "    }\n",
              "</style>\n",
              "<table border=\"1\" class=\"dataframe\">\n",
              "  <thead>\n",
              "    <tr style=\"text-align: right;\">\n",
              "      <th></th>\n",
              "      <th>price</th>\n",
              "      <th>area</th>\n",
              "      <th>bedrooms</th>\n",
              "      <th>bathrooms</th>\n",
              "      <th>stories</th>\n",
              "      <th>guestroom</th>\n",
              "      <th>hotwaterheating</th>\n",
              "      <th>airconditioning</th>\n",
              "      <th>parking</th>\n",
              "    </tr>\n",
              "  </thead>\n",
              "  <tbody>\n",
              "    <tr>\n",
              "      <th>0</th>\n",
              "      <td>13300000</td>\n",
              "      <td>7420</td>\n",
              "      <td>4</td>\n",
              "      <td>2</td>\n",
              "      <td>3</td>\n",
              "      <td>no</td>\n",
              "      <td>no</td>\n",
              "      <td>yes</td>\n",
              "      <td>2</td>\n",
              "    </tr>\n",
              "    <tr>\n",
              "      <th>1</th>\n",
              "      <td>12250000</td>\n",
              "      <td>8960</td>\n",
              "      <td>4</td>\n",
              "      <td>4</td>\n",
              "      <td>4</td>\n",
              "      <td>no</td>\n",
              "      <td>no</td>\n",
              "      <td>yes</td>\n",
              "      <td>3</td>\n",
              "    </tr>\n",
              "    <tr>\n",
              "      <th>2</th>\n",
              "      <td>12250000</td>\n",
              "      <td>9960</td>\n",
              "      <td>3</td>\n",
              "      <td>2</td>\n",
              "      <td>2</td>\n",
              "      <td>no</td>\n",
              "      <td>no</td>\n",
              "      <td>no</td>\n",
              "      <td>2</td>\n",
              "    </tr>\n",
              "    <tr>\n",
              "      <th>3</th>\n",
              "      <td>12215000</td>\n",
              "      <td>7500</td>\n",
              "      <td>4</td>\n",
              "      <td>2</td>\n",
              "      <td>2</td>\n",
              "      <td>no</td>\n",
              "      <td>no</td>\n",
              "      <td>yes</td>\n",
              "      <td>3</td>\n",
              "    </tr>\n",
              "    <tr>\n",
              "      <th>4</th>\n",
              "      <td>11410000</td>\n",
              "      <td>7420</td>\n",
              "      <td>4</td>\n",
              "      <td>1</td>\n",
              "      <td>2</td>\n",
              "      <td>yes</td>\n",
              "      <td>no</td>\n",
              "      <td>yes</td>\n",
              "      <td>2</td>\n",
              "    </tr>\n",
              "  </tbody>\n",
              "</table>\n",
              "</div>\n",
              "    <div class=\"colab-df-buttons\">\n",
              "\n",
              "  <div class=\"colab-df-container\">\n",
              "    <button class=\"colab-df-convert\" onclick=\"convertToInteractive('df-3860ac77-86e6-4cc5-9734-e8070182eb1c')\"\n",
              "            title=\"Convert this dataframe to an interactive table.\"\n",
              "            style=\"display:none;\">\n",
              "\n",
              "  <svg xmlns=\"http://www.w3.org/2000/svg\" height=\"24px\" viewBox=\"0 -960 960 960\">\n",
              "    <path d=\"M120-120v-720h720v720H120Zm60-500h600v-160H180v160Zm220 220h160v-160H400v160Zm0 220h160v-160H400v160ZM180-400h160v-160H180v160Zm440 0h160v-160H620v160ZM180-180h160v-160H180v160Zm440 0h160v-160H620v160Z\"/>\n",
              "  </svg>\n",
              "    </button>\n",
              "\n",
              "  <style>\n",
              "    .colab-df-container {\n",
              "      display:flex;\n",
              "      gap: 12px;\n",
              "    }\n",
              "\n",
              "    .colab-df-convert {\n",
              "      background-color: #E8F0FE;\n",
              "      border: none;\n",
              "      border-radius: 50%;\n",
              "      cursor: pointer;\n",
              "      display: none;\n",
              "      fill: #1967D2;\n",
              "      height: 32px;\n",
              "      padding: 0 0 0 0;\n",
              "      width: 32px;\n",
              "    }\n",
              "\n",
              "    .colab-df-convert:hover {\n",
              "      background-color: #E2EBFA;\n",
              "      box-shadow: 0px 1px 2px rgba(60, 64, 67, 0.3), 0px 1px 3px 1px rgba(60, 64, 67, 0.15);\n",
              "      fill: #174EA6;\n",
              "    }\n",
              "\n",
              "    .colab-df-buttons div {\n",
              "      margin-bottom: 4px;\n",
              "    }\n",
              "\n",
              "    [theme=dark] .colab-df-convert {\n",
              "      background-color: #3B4455;\n",
              "      fill: #D2E3FC;\n",
              "    }\n",
              "\n",
              "    [theme=dark] .colab-df-convert:hover {\n",
              "      background-color: #434B5C;\n",
              "      box-shadow: 0px 1px 3px 1px rgba(0, 0, 0, 0.15);\n",
              "      filter: drop-shadow(0px 1px 2px rgba(0, 0, 0, 0.3));\n",
              "      fill: #FFFFFF;\n",
              "    }\n",
              "  </style>\n",
              "\n",
              "    <script>\n",
              "      const buttonEl =\n",
              "        document.querySelector('#df-3860ac77-86e6-4cc5-9734-e8070182eb1c button.colab-df-convert');\n",
              "      buttonEl.style.display =\n",
              "        google.colab.kernel.accessAllowed ? 'block' : 'none';\n",
              "\n",
              "      async function convertToInteractive(key) {\n",
              "        const element = document.querySelector('#df-3860ac77-86e6-4cc5-9734-e8070182eb1c');\n",
              "        const dataTable =\n",
              "          await google.colab.kernel.invokeFunction('convertToInteractive',\n",
              "                                                    [key], {});\n",
              "        if (!dataTable) return;\n",
              "\n",
              "        const docLinkHtml = 'Like what you see? Visit the ' +\n",
              "          '<a target=\"_blank\" href=https://colab.research.google.com/notebooks/data_table.ipynb>data table notebook</a>'\n",
              "          + ' to learn more about interactive tables.';\n",
              "        element.innerHTML = '';\n",
              "        dataTable['output_type'] = 'display_data';\n",
              "        await google.colab.output.renderOutput(dataTable, element);\n",
              "        const docLink = document.createElement('div');\n",
              "        docLink.innerHTML = docLinkHtml;\n",
              "        element.appendChild(docLink);\n",
              "      }\n",
              "    </script>\n",
              "  </div>\n",
              "\n",
              "\n",
              "    <div id=\"df-45549134-6597-409a-ba4a-1aa79d959ba0\">\n",
              "      <button class=\"colab-df-quickchart\" onclick=\"quickchart('df-45549134-6597-409a-ba4a-1aa79d959ba0')\"\n",
              "                title=\"Suggest charts\"\n",
              "                style=\"display:none;\">\n",
              "\n",
              "<svg xmlns=\"http://www.w3.org/2000/svg\" height=\"24px\"viewBox=\"0 0 24 24\"\n",
              "     width=\"24px\">\n",
              "    <g>\n",
              "        <path d=\"M19 3H5c-1.1 0-2 .9-2 2v14c0 1.1.9 2 2 2h14c1.1 0 2-.9 2-2V5c0-1.1-.9-2-2-2zM9 17H7v-7h2v7zm4 0h-2V7h2v10zm4 0h-2v-4h2v4z\"/>\n",
              "    </g>\n",
              "</svg>\n",
              "      </button>\n",
              "\n",
              "<style>\n",
              "  .colab-df-quickchart {\n",
              "      --bg-color: #E8F0FE;\n",
              "      --fill-color: #1967D2;\n",
              "      --hover-bg-color: #E2EBFA;\n",
              "      --hover-fill-color: #174EA6;\n",
              "      --disabled-fill-color: #AAA;\n",
              "      --disabled-bg-color: #DDD;\n",
              "  }\n",
              "\n",
              "  [theme=dark] .colab-df-quickchart {\n",
              "      --bg-color: #3B4455;\n",
              "      --fill-color: #D2E3FC;\n",
              "      --hover-bg-color: #434B5C;\n",
              "      --hover-fill-color: #FFFFFF;\n",
              "      --disabled-bg-color: #3B4455;\n",
              "      --disabled-fill-color: #666;\n",
              "  }\n",
              "\n",
              "  .colab-df-quickchart {\n",
              "    background-color: var(--bg-color);\n",
              "    border: none;\n",
              "    border-radius: 50%;\n",
              "    cursor: pointer;\n",
              "    display: none;\n",
              "    fill: var(--fill-color);\n",
              "    height: 32px;\n",
              "    padding: 0;\n",
              "    width: 32px;\n",
              "  }\n",
              "\n",
              "  .colab-df-quickchart:hover {\n",
              "    background-color: var(--hover-bg-color);\n",
              "    box-shadow: 0 1px 2px rgba(60, 64, 67, 0.3), 0 1px 3px 1px rgba(60, 64, 67, 0.15);\n",
              "    fill: var(--button-hover-fill-color);\n",
              "  }\n",
              "\n",
              "  .colab-df-quickchart-complete:disabled,\n",
              "  .colab-df-quickchart-complete:disabled:hover {\n",
              "    background-color: var(--disabled-bg-color);\n",
              "    fill: var(--disabled-fill-color);\n",
              "    box-shadow: none;\n",
              "  }\n",
              "\n",
              "  .colab-df-spinner {\n",
              "    border: 2px solid var(--fill-color);\n",
              "    border-color: transparent;\n",
              "    border-bottom-color: var(--fill-color);\n",
              "    animation:\n",
              "      spin 1s steps(1) infinite;\n",
              "  }\n",
              "\n",
              "  @keyframes spin {\n",
              "    0% {\n",
              "      border-color: transparent;\n",
              "      border-bottom-color: var(--fill-color);\n",
              "      border-left-color: var(--fill-color);\n",
              "    }\n",
              "    20% {\n",
              "      border-color: transparent;\n",
              "      border-left-color: var(--fill-color);\n",
              "      border-top-color: var(--fill-color);\n",
              "    }\n",
              "    30% {\n",
              "      border-color: transparent;\n",
              "      border-left-color: var(--fill-color);\n",
              "      border-top-color: var(--fill-color);\n",
              "      border-right-color: var(--fill-color);\n",
              "    }\n",
              "    40% {\n",
              "      border-color: transparent;\n",
              "      border-right-color: var(--fill-color);\n",
              "      border-top-color: var(--fill-color);\n",
              "    }\n",
              "    60% {\n",
              "      border-color: transparent;\n",
              "      border-right-color: var(--fill-color);\n",
              "    }\n",
              "    80% {\n",
              "      border-color: transparent;\n",
              "      border-right-color: var(--fill-color);\n",
              "      border-bottom-color: var(--fill-color);\n",
              "    }\n",
              "    90% {\n",
              "      border-color: transparent;\n",
              "      border-bottom-color: var(--fill-color);\n",
              "    }\n",
              "  }\n",
              "</style>\n",
              "\n",
              "      <script>\n",
              "        async function quickchart(key) {\n",
              "          const quickchartButtonEl =\n",
              "            document.querySelector('#' + key + ' button');\n",
              "          quickchartButtonEl.disabled = true;  // To prevent multiple clicks.\n",
              "          quickchartButtonEl.classList.add('colab-df-spinner');\n",
              "          try {\n",
              "            const charts = await google.colab.kernel.invokeFunction(\n",
              "                'suggestCharts', [key], {});\n",
              "          } catch (error) {\n",
              "            console.error('Error during call to suggestCharts:', error);\n",
              "          }\n",
              "          quickchartButtonEl.classList.remove('colab-df-spinner');\n",
              "          quickchartButtonEl.classList.add('colab-df-quickchart-complete');\n",
              "        }\n",
              "        (() => {\n",
              "          let quickchartButtonEl =\n",
              "            document.querySelector('#df-45549134-6597-409a-ba4a-1aa79d959ba0 button');\n",
              "          quickchartButtonEl.style.display =\n",
              "            google.colab.kernel.accessAllowed ? 'block' : 'none';\n",
              "        })();\n",
              "      </script>\n",
              "    </div>\n",
              "\n",
              "    </div>\n",
              "  </div>\n"
            ],
            "application/vnd.google.colaboratory.intrinsic+json": {
              "type": "dataframe",
              "summary": "{\n  \"name\": \"display(df\",\n  \"rows\": 5,\n  \"fields\": [\n    {\n      \"column\": \"price\",\n      \"properties\": {\n        \"dtype\": \"number\",\n        \"std\": 671416,\n        \"min\": 11410000,\n        \"max\": 13300000,\n        \"num_unique_values\": 4,\n        \"samples\": [\n          12250000,\n          11410000,\n          13300000\n        ],\n        \"semantic_type\": \"\",\n        \"description\": \"\"\n      }\n    },\n    {\n      \"column\": \"area\",\n      \"properties\": {\n        \"dtype\": \"number\",\n        \"std\": 1158,\n        \"min\": 7420,\n        \"max\": 9960,\n        \"num_unique_values\": 4,\n        \"samples\": [\n          8960,\n          7500,\n          7420\n        ],\n        \"semantic_type\": \"\",\n        \"description\": \"\"\n      }\n    },\n    {\n      \"column\": \"bedrooms\",\n      \"properties\": {\n        \"dtype\": \"number\",\n        \"std\": 0,\n        \"min\": 3,\n        \"max\": 4,\n        \"num_unique_values\": 2,\n        \"samples\": [\n          3,\n          4\n        ],\n        \"semantic_type\": \"\",\n        \"description\": \"\"\n      }\n    },\n    {\n      \"column\": \"bathrooms\",\n      \"properties\": {\n        \"dtype\": \"number\",\n        \"std\": 1,\n        \"min\": 1,\n        \"max\": 4,\n        \"num_unique_values\": 3,\n        \"samples\": [\n          2,\n          4\n        ],\n        \"semantic_type\": \"\",\n        \"description\": \"\"\n      }\n    },\n    {\n      \"column\": \"stories\",\n      \"properties\": {\n        \"dtype\": \"number\",\n        \"std\": 0,\n        \"min\": 2,\n        \"max\": 4,\n        \"num_unique_values\": 3,\n        \"samples\": [\n          3,\n          4\n        ],\n        \"semantic_type\": \"\",\n        \"description\": \"\"\n      }\n    },\n    {\n      \"column\": \"guestroom\",\n      \"properties\": {\n        \"dtype\": \"category\",\n        \"num_unique_values\": 2,\n        \"samples\": [\n          \"yes\",\n          \"no\"\n        ],\n        \"semantic_type\": \"\",\n        \"description\": \"\"\n      }\n    },\n    {\n      \"column\": \"hotwaterheating\",\n      \"properties\": {\n        \"dtype\": \"category\",\n        \"num_unique_values\": 1,\n        \"samples\": [\n          \"no\"\n        ],\n        \"semantic_type\": \"\",\n        \"description\": \"\"\n      }\n    },\n    {\n      \"column\": \"airconditioning\",\n      \"properties\": {\n        \"dtype\": \"category\",\n        \"num_unique_values\": 2,\n        \"samples\": [\n          \"no\"\n        ],\n        \"semantic_type\": \"\",\n        \"description\": \"\"\n      }\n    },\n    {\n      \"column\": \"parking\",\n      \"properties\": {\n        \"dtype\": \"number\",\n        \"std\": 0,\n        \"min\": 2,\n        \"max\": 3,\n        \"num_unique_values\": 2,\n        \"samples\": [\n          3\n        ],\n        \"semantic_type\": \"\",\n        \"description\": \"\"\n      }\n    }\n  ]\n}"
            }
          },
          "metadata": {}
        }
      ]
    },
    {
      "cell_type": "code",
      "source": [
        "# Se exponen las estadististicas descriptivas del dataset.\n",
        "\n",
        "df.describe().applymap(lambda x: f'{x:.3f}')"
      ],
      "metadata": {
        "colab": {
          "base_uri": "https://localhost:8080/",
          "height": 301
        },
        "id": "ykd-MLF8Y_cN",
        "outputId": "6435c747-42e6-462c-a8ca-f2884bc86b21"
      },
      "execution_count": 5,
      "outputs": [
        {
          "output_type": "execute_result",
          "data": {
            "text/plain": [
              "              price       area bedrooms bathrooms  stories  parking\n",
              "count       545.000    545.000  545.000   545.000  545.000  545.000\n",
              "mean    4766729.248   5150.541    2.965     1.286    1.806    0.694\n",
              "std     1870439.616   2170.141    0.738     0.502    0.867    0.862\n",
              "min     1750000.000   1650.000    1.000     1.000    1.000    0.000\n",
              "25%     3430000.000   3600.000    2.000     1.000    1.000    0.000\n",
              "50%     4340000.000   4600.000    3.000     1.000    2.000    0.000\n",
              "75%     5740000.000   6360.000    3.000     2.000    2.000    1.000\n",
              "max    13300000.000  16200.000    6.000     4.000    4.000    3.000"
            ],
            "text/html": [
              "\n",
              "  <div id=\"df-4eeb3614-0729-4937-8a4c-a5f2bf28c1f6\" class=\"colab-df-container\">\n",
              "    <div>\n",
              "<style scoped>\n",
              "    .dataframe tbody tr th:only-of-type {\n",
              "        vertical-align: middle;\n",
              "    }\n",
              "\n",
              "    .dataframe tbody tr th {\n",
              "        vertical-align: top;\n",
              "    }\n",
              "\n",
              "    .dataframe thead th {\n",
              "        text-align: right;\n",
              "    }\n",
              "</style>\n",
              "<table border=\"1\" class=\"dataframe\">\n",
              "  <thead>\n",
              "    <tr style=\"text-align: right;\">\n",
              "      <th></th>\n",
              "      <th>price</th>\n",
              "      <th>area</th>\n",
              "      <th>bedrooms</th>\n",
              "      <th>bathrooms</th>\n",
              "      <th>stories</th>\n",
              "      <th>parking</th>\n",
              "    </tr>\n",
              "  </thead>\n",
              "  <tbody>\n",
              "    <tr>\n",
              "      <th>count</th>\n",
              "      <td>545.000</td>\n",
              "      <td>545.000</td>\n",
              "      <td>545.000</td>\n",
              "      <td>545.000</td>\n",
              "      <td>545.000</td>\n",
              "      <td>545.000</td>\n",
              "    </tr>\n",
              "    <tr>\n",
              "      <th>mean</th>\n",
              "      <td>4766729.248</td>\n",
              "      <td>5150.541</td>\n",
              "      <td>2.965</td>\n",
              "      <td>1.286</td>\n",
              "      <td>1.806</td>\n",
              "      <td>0.694</td>\n",
              "    </tr>\n",
              "    <tr>\n",
              "      <th>std</th>\n",
              "      <td>1870439.616</td>\n",
              "      <td>2170.141</td>\n",
              "      <td>0.738</td>\n",
              "      <td>0.502</td>\n",
              "      <td>0.867</td>\n",
              "      <td>0.862</td>\n",
              "    </tr>\n",
              "    <tr>\n",
              "      <th>min</th>\n",
              "      <td>1750000.000</td>\n",
              "      <td>1650.000</td>\n",
              "      <td>1.000</td>\n",
              "      <td>1.000</td>\n",
              "      <td>1.000</td>\n",
              "      <td>0.000</td>\n",
              "    </tr>\n",
              "    <tr>\n",
              "      <th>25%</th>\n",
              "      <td>3430000.000</td>\n",
              "      <td>3600.000</td>\n",
              "      <td>2.000</td>\n",
              "      <td>1.000</td>\n",
              "      <td>1.000</td>\n",
              "      <td>0.000</td>\n",
              "    </tr>\n",
              "    <tr>\n",
              "      <th>50%</th>\n",
              "      <td>4340000.000</td>\n",
              "      <td>4600.000</td>\n",
              "      <td>3.000</td>\n",
              "      <td>1.000</td>\n",
              "      <td>2.000</td>\n",
              "      <td>0.000</td>\n",
              "    </tr>\n",
              "    <tr>\n",
              "      <th>75%</th>\n",
              "      <td>5740000.000</td>\n",
              "      <td>6360.000</td>\n",
              "      <td>3.000</td>\n",
              "      <td>2.000</td>\n",
              "      <td>2.000</td>\n",
              "      <td>1.000</td>\n",
              "    </tr>\n",
              "    <tr>\n",
              "      <th>max</th>\n",
              "      <td>13300000.000</td>\n",
              "      <td>16200.000</td>\n",
              "      <td>6.000</td>\n",
              "      <td>4.000</td>\n",
              "      <td>4.000</td>\n",
              "      <td>3.000</td>\n",
              "    </tr>\n",
              "  </tbody>\n",
              "</table>\n",
              "</div>\n",
              "    <div class=\"colab-df-buttons\">\n",
              "\n",
              "  <div class=\"colab-df-container\">\n",
              "    <button class=\"colab-df-convert\" onclick=\"convertToInteractive('df-4eeb3614-0729-4937-8a4c-a5f2bf28c1f6')\"\n",
              "            title=\"Convert this dataframe to an interactive table.\"\n",
              "            style=\"display:none;\">\n",
              "\n",
              "  <svg xmlns=\"http://www.w3.org/2000/svg\" height=\"24px\" viewBox=\"0 -960 960 960\">\n",
              "    <path d=\"M120-120v-720h720v720H120Zm60-500h600v-160H180v160Zm220 220h160v-160H400v160Zm0 220h160v-160H400v160ZM180-400h160v-160H180v160Zm440 0h160v-160H620v160ZM180-180h160v-160H180v160Zm440 0h160v-160H620v160Z\"/>\n",
              "  </svg>\n",
              "    </button>\n",
              "\n",
              "  <style>\n",
              "    .colab-df-container {\n",
              "      display:flex;\n",
              "      gap: 12px;\n",
              "    }\n",
              "\n",
              "    .colab-df-convert {\n",
              "      background-color: #E8F0FE;\n",
              "      border: none;\n",
              "      border-radius: 50%;\n",
              "      cursor: pointer;\n",
              "      display: none;\n",
              "      fill: #1967D2;\n",
              "      height: 32px;\n",
              "      padding: 0 0 0 0;\n",
              "      width: 32px;\n",
              "    }\n",
              "\n",
              "    .colab-df-convert:hover {\n",
              "      background-color: #E2EBFA;\n",
              "      box-shadow: 0px 1px 2px rgba(60, 64, 67, 0.3), 0px 1px 3px 1px rgba(60, 64, 67, 0.15);\n",
              "      fill: #174EA6;\n",
              "    }\n",
              "\n",
              "    .colab-df-buttons div {\n",
              "      margin-bottom: 4px;\n",
              "    }\n",
              "\n",
              "    [theme=dark] .colab-df-convert {\n",
              "      background-color: #3B4455;\n",
              "      fill: #D2E3FC;\n",
              "    }\n",
              "\n",
              "    [theme=dark] .colab-df-convert:hover {\n",
              "      background-color: #434B5C;\n",
              "      box-shadow: 0px 1px 3px 1px rgba(0, 0, 0, 0.15);\n",
              "      filter: drop-shadow(0px 1px 2px rgba(0, 0, 0, 0.3));\n",
              "      fill: #FFFFFF;\n",
              "    }\n",
              "  </style>\n",
              "\n",
              "    <script>\n",
              "      const buttonEl =\n",
              "        document.querySelector('#df-4eeb3614-0729-4937-8a4c-a5f2bf28c1f6 button.colab-df-convert');\n",
              "      buttonEl.style.display =\n",
              "        google.colab.kernel.accessAllowed ? 'block' : 'none';\n",
              "\n",
              "      async function convertToInteractive(key) {\n",
              "        const element = document.querySelector('#df-4eeb3614-0729-4937-8a4c-a5f2bf28c1f6');\n",
              "        const dataTable =\n",
              "          await google.colab.kernel.invokeFunction('convertToInteractive',\n",
              "                                                    [key], {});\n",
              "        if (!dataTable) return;\n",
              "\n",
              "        const docLinkHtml = 'Like what you see? Visit the ' +\n",
              "          '<a target=\"_blank\" href=https://colab.research.google.com/notebooks/data_table.ipynb>data table notebook</a>'\n",
              "          + ' to learn more about interactive tables.';\n",
              "        element.innerHTML = '';\n",
              "        dataTable['output_type'] = 'display_data';\n",
              "        await google.colab.output.renderOutput(dataTable, element);\n",
              "        const docLink = document.createElement('div');\n",
              "        docLink.innerHTML = docLinkHtml;\n",
              "        element.appendChild(docLink);\n",
              "      }\n",
              "    </script>\n",
              "  </div>\n",
              "\n",
              "\n",
              "    <div id=\"df-8d77b12a-72f5-4c15-846a-c957a9649dea\">\n",
              "      <button class=\"colab-df-quickchart\" onclick=\"quickchart('df-8d77b12a-72f5-4c15-846a-c957a9649dea')\"\n",
              "                title=\"Suggest charts\"\n",
              "                style=\"display:none;\">\n",
              "\n",
              "<svg xmlns=\"http://www.w3.org/2000/svg\" height=\"24px\"viewBox=\"0 0 24 24\"\n",
              "     width=\"24px\">\n",
              "    <g>\n",
              "        <path d=\"M19 3H5c-1.1 0-2 .9-2 2v14c0 1.1.9 2 2 2h14c1.1 0 2-.9 2-2V5c0-1.1-.9-2-2-2zM9 17H7v-7h2v7zm4 0h-2V7h2v10zm4 0h-2v-4h2v4z\"/>\n",
              "    </g>\n",
              "</svg>\n",
              "      </button>\n",
              "\n",
              "<style>\n",
              "  .colab-df-quickchart {\n",
              "      --bg-color: #E8F0FE;\n",
              "      --fill-color: #1967D2;\n",
              "      --hover-bg-color: #E2EBFA;\n",
              "      --hover-fill-color: #174EA6;\n",
              "      --disabled-fill-color: #AAA;\n",
              "      --disabled-bg-color: #DDD;\n",
              "  }\n",
              "\n",
              "  [theme=dark] .colab-df-quickchart {\n",
              "      --bg-color: #3B4455;\n",
              "      --fill-color: #D2E3FC;\n",
              "      --hover-bg-color: #434B5C;\n",
              "      --hover-fill-color: #FFFFFF;\n",
              "      --disabled-bg-color: #3B4455;\n",
              "      --disabled-fill-color: #666;\n",
              "  }\n",
              "\n",
              "  .colab-df-quickchart {\n",
              "    background-color: var(--bg-color);\n",
              "    border: none;\n",
              "    border-radius: 50%;\n",
              "    cursor: pointer;\n",
              "    display: none;\n",
              "    fill: var(--fill-color);\n",
              "    height: 32px;\n",
              "    padding: 0;\n",
              "    width: 32px;\n",
              "  }\n",
              "\n",
              "  .colab-df-quickchart:hover {\n",
              "    background-color: var(--hover-bg-color);\n",
              "    box-shadow: 0 1px 2px rgba(60, 64, 67, 0.3), 0 1px 3px 1px rgba(60, 64, 67, 0.15);\n",
              "    fill: var(--button-hover-fill-color);\n",
              "  }\n",
              "\n",
              "  .colab-df-quickchart-complete:disabled,\n",
              "  .colab-df-quickchart-complete:disabled:hover {\n",
              "    background-color: var(--disabled-bg-color);\n",
              "    fill: var(--disabled-fill-color);\n",
              "    box-shadow: none;\n",
              "  }\n",
              "\n",
              "  .colab-df-spinner {\n",
              "    border: 2px solid var(--fill-color);\n",
              "    border-color: transparent;\n",
              "    border-bottom-color: var(--fill-color);\n",
              "    animation:\n",
              "      spin 1s steps(1) infinite;\n",
              "  }\n",
              "\n",
              "  @keyframes spin {\n",
              "    0% {\n",
              "      border-color: transparent;\n",
              "      border-bottom-color: var(--fill-color);\n",
              "      border-left-color: var(--fill-color);\n",
              "    }\n",
              "    20% {\n",
              "      border-color: transparent;\n",
              "      border-left-color: var(--fill-color);\n",
              "      border-top-color: var(--fill-color);\n",
              "    }\n",
              "    30% {\n",
              "      border-color: transparent;\n",
              "      border-left-color: var(--fill-color);\n",
              "      border-top-color: var(--fill-color);\n",
              "      border-right-color: var(--fill-color);\n",
              "    }\n",
              "    40% {\n",
              "      border-color: transparent;\n",
              "      border-right-color: var(--fill-color);\n",
              "      border-top-color: var(--fill-color);\n",
              "    }\n",
              "    60% {\n",
              "      border-color: transparent;\n",
              "      border-right-color: var(--fill-color);\n",
              "    }\n",
              "    80% {\n",
              "      border-color: transparent;\n",
              "      border-right-color: var(--fill-color);\n",
              "      border-bottom-color: var(--fill-color);\n",
              "    }\n",
              "    90% {\n",
              "      border-color: transparent;\n",
              "      border-bottom-color: var(--fill-color);\n",
              "    }\n",
              "  }\n",
              "</style>\n",
              "\n",
              "      <script>\n",
              "        async function quickchart(key) {\n",
              "          const quickchartButtonEl =\n",
              "            document.querySelector('#' + key + ' button');\n",
              "          quickchartButtonEl.disabled = true;  // To prevent multiple clicks.\n",
              "          quickchartButtonEl.classList.add('colab-df-spinner');\n",
              "          try {\n",
              "            const charts = await google.colab.kernel.invokeFunction(\n",
              "                'suggestCharts', [key], {});\n",
              "          } catch (error) {\n",
              "            console.error('Error during call to suggestCharts:', error);\n",
              "          }\n",
              "          quickchartButtonEl.classList.remove('colab-df-spinner');\n",
              "          quickchartButtonEl.classList.add('colab-df-quickchart-complete');\n",
              "        }\n",
              "        (() => {\n",
              "          let quickchartButtonEl =\n",
              "            document.querySelector('#df-8d77b12a-72f5-4c15-846a-c957a9649dea button');\n",
              "          quickchartButtonEl.style.display =\n",
              "            google.colab.kernel.accessAllowed ? 'block' : 'none';\n",
              "        })();\n",
              "      </script>\n",
              "    </div>\n",
              "\n",
              "    </div>\n",
              "  </div>\n"
            ],
            "application/vnd.google.colaboratory.intrinsic+json": {
              "type": "dataframe",
              "summary": "{\n  \"name\": \"df\",\n  \"rows\": 8,\n  \"fields\": [\n    {\n      \"column\": \"price\",\n      \"properties\": {\n        \"dtype\": \"string\",\n        \"num_unique_values\": 8,\n        \"samples\": [\n          \"4766729.248\",\n          \"4340000.000\",\n          \"545.000\"\n        ],\n        \"semantic_type\": \"\",\n        \"description\": \"\"\n      }\n    },\n    {\n      \"column\": \"area\",\n      \"properties\": {\n        \"dtype\": \"string\",\n        \"num_unique_values\": 8,\n        \"samples\": [\n          \"5150.541\",\n          \"4600.000\",\n          \"545.000\"\n        ],\n        \"semantic_type\": \"\",\n        \"description\": \"\"\n      }\n    },\n    {\n      \"column\": \"bedrooms\",\n      \"properties\": {\n        \"dtype\": \"string\",\n        \"num_unique_values\": 7,\n        \"samples\": [\n          \"545.000\",\n          \"2.965\",\n          \"3.000\"\n        ],\n        \"semantic_type\": \"\",\n        \"description\": \"\"\n      }\n    },\n    {\n      \"column\": \"bathrooms\",\n      \"properties\": {\n        \"dtype\": \"string\",\n        \"num_unique_values\": 6,\n        \"samples\": [\n          \"545.000\",\n          \"1.286\",\n          \"4.000\"\n        ],\n        \"semantic_type\": \"\",\n        \"description\": \"\"\n      }\n    },\n    {\n      \"column\": \"stories\",\n      \"properties\": {\n        \"dtype\": \"string\",\n        \"num_unique_values\": 6,\n        \"samples\": [\n          \"545.000\",\n          \"1.806\",\n          \"4.000\"\n        ],\n        \"semantic_type\": \"\",\n        \"description\": \"\"\n      }\n    },\n    {\n      \"column\": \"parking\",\n      \"properties\": {\n        \"dtype\": \"string\",\n        \"num_unique_values\": 6,\n        \"samples\": [\n          \"545.000\",\n          \"0.694\",\n          \"3.000\"\n        ],\n        \"semantic_type\": \"\",\n        \"description\": \"\"\n      }\n    }\n  ]\n}"
            }
          },
          "metadata": {},
          "execution_count": 5
        }
      ]
    },
    {
      "cell_type": "markdown",
      "source": [
        "####\tPaso 3.2 Detectar valores nulos y tipos de datos.\n"
      ],
      "metadata": {
        "id": "jvotnBmhKg6b"
      }
    },
    {
      "cell_type": "code",
      "source": [
        "# Se revisa la cantidad de valores nulos.\n",
        "print(\"\\nMissing values:\\n\", df.isnull().sum())"
      ],
      "metadata": {
        "colab": {
          "base_uri": "https://localhost:8080/"
        },
        "id": "d-TpRP59oBJJ",
        "outputId": "dce812b4-16c9-4b4f-ca3d-81319b8b9466"
      },
      "execution_count": 6,
      "outputs": [
        {
          "output_type": "stream",
          "name": "stdout",
          "text": [
            "\n",
            "Missing values:\n",
            " price              0\n",
            "area               0\n",
            "bedrooms           0\n",
            "bathrooms          0\n",
            "stories            0\n",
            "guestroom          0\n",
            "hotwaterheating    0\n",
            "airconditioning    0\n",
            "parking            0\n",
            "dtype: int64\n"
          ]
        }
      ]
    },
    {
      "cell_type": "code",
      "source": [
        "# Se revisa la cantidad de eventos y el tipo de variable.\n",
        "df.info()"
      ],
      "metadata": {
        "colab": {
          "base_uri": "https://localhost:8080/"
        },
        "id": "Lrijb74GI-mK",
        "outputId": "9e66b76b-ca6f-4087-a32f-9f18e00d2126"
      },
      "execution_count": 7,
      "outputs": [
        {
          "output_type": "stream",
          "name": "stdout",
          "text": [
            "<class 'pandas.core.frame.DataFrame'>\n",
            "RangeIndex: 545 entries, 0 to 544\n",
            "Data columns (total 9 columns):\n",
            " #   Column           Non-Null Count  Dtype \n",
            "---  ------           --------------  ----- \n",
            " 0   price            545 non-null    int64 \n",
            " 1   area             545 non-null    int64 \n",
            " 2   bedrooms         545 non-null    int64 \n",
            " 3   bathrooms        545 non-null    int64 \n",
            " 4   stories          545 non-null    int64 \n",
            " 5   guestroom        545 non-null    object\n",
            " 6   hotwaterheating  545 non-null    object\n",
            " 7   airconditioning  545 non-null    object\n",
            " 8   parking          545 non-null    int64 \n",
            "dtypes: int64(6), object(3)\n",
            "memory usage: 38.4+ KB\n"
          ]
        }
      ]
    },
    {
      "cell_type": "markdown",
      "source": [
        "####\tPaso 3.3 Visualizar correlaciones."
      ],
      "metadata": {
        "id": "WoNXR2PvKgxF"
      }
    },
    {
      "cell_type": "code",
      "source": [
        "# Se analisa las correlaciones entre las variables (solo las numericas)\n",
        "numerical_df = df.select_dtypes(include=['number'])\n",
        "print(\"\\nCorrelation matrix (numerical features):\\n\", numerical_df.corr())"
      ],
      "metadata": {
        "colab": {
          "base_uri": "https://localhost:8080/"
        },
        "id": "-Nh1RJL_pDai",
        "outputId": "7c171918-9f63-4488-8f21-da67bee44845"
      },
      "execution_count": 8,
      "outputs": [
        {
          "output_type": "stream",
          "name": "stdout",
          "text": [
            "\n",
            "Correlation matrix (numerical features):\n",
            "               price      area  bedrooms  bathrooms   stories   parking\n",
            "price      1.000000  0.535997  0.366494   0.517545  0.420712  0.384394\n",
            "area       0.535997  1.000000  0.151858   0.193820  0.083996  0.352980\n",
            "bedrooms   0.366494  0.151858  1.000000   0.373930  0.408564  0.139270\n",
            "bathrooms  0.517545  0.193820  0.373930   1.000000  0.326165  0.177496\n",
            "stories    0.420712  0.083996  0.408564   0.326165  1.000000  0.045547\n",
            "parking    0.384394  0.352980  0.139270   0.177496  0.045547  1.000000\n"
          ]
        }
      ]
    },
    {
      "cell_type": "code",
      "source": [
        "# Se imprime grafico de la matriz de correlación.\n",
        "plt.figure(figsize=(10, 8))\n",
        "sns.heatmap(numerical_df.corr(), annot=True, cmap='coolwarm')\n",
        "plt.title(\"🔗 Matriz de correlación\")\n",
        "plt.show()"
      ],
      "metadata": {
        "colab": {
          "base_uri": "https://localhost:8080/",
          "height": 0
        },
        "id": "xb-8v0G3t6GX",
        "outputId": "a76a5097-e6dd-4b5a-bb43-10ab241b35ee"
      },
      "execution_count": 9,
      "outputs": [
        {
          "output_type": "display_data",
          "data": {
            "text/plain": [
              "<Figure size 1000x800 with 2 Axes>"
            ],
            "image/png": "[encoded data removed]"
          },
          "metadata": {}
        }
      ]
    },
    {
      "cell_type": "markdown",
      "source": [
        "🔍Variable objetivo (price) Alta correlación positiva con:\n",
        "\n",
        "* area (0.54): A mayor área, mayor precio.\n",
        "* bathrooms (0.52): Las casas con más baños tienden a ser más caras.\n",
        "* stories (0.42): Más pisos suelen aumentar el precio.\n",
        "* bedrooms (0.37): Influencia moderada.\n",
        "* parking (0.38): También influye, aunque no fuertemente."
      ],
      "metadata": {
        "id": "lxJdNc5oxFAK"
      }
    },
    {
      "cell_type": "markdown",
      "source": [
        "### 📊 Fase 4: Tratamiento de Datos.\n",
        "\n",
        "* ✅ 4.1 Limpieza: Eliminar duplicados, Completar/eliminar valores nulos,\tCorregir tipos de datos.\n",
        "\n",
        "* ✅ 4.3 Codificación de variables categóricas: One-Hot Encoding (para ML), Label Encoding (para variables ordinales).\n",
        "\n",
        "* ✅ 4.2 Outliers: Detectar con boxplot, IQR, Z-score; winsorizar, eliminar o mantener si son válidos.\n",
        "\n",
        "* ✅ 4.4 Escalamiento (si es necesario): StandardScaler o RobustScaler (si hay regularización o modelos sensibles)."
      ],
      "metadata": {
        "id": "YJm3pP1aLcK9"
      }
    },
    {
      "cell_type": "markdown",
      "source": [
        "#### Paso 4.1 Limpieza.\n",
        "\n"
      ],
      "metadata": {
        "id": "blcivhWoS2am"
      }
    },
    {
      "cell_type": "code",
      "source": [
        "# Se revisa anlisis de valores nulos, \"los cuales en este caso no existen\"\n",
        "# En relacion a los valores duplicados, en este caso no se realiza debido a las caracteristicas del datasets.\n",
        "df.info()"
      ],
      "metadata": {
        "colab": {
          "base_uri": "https://localhost:8080/"
        },
        "id": "-9rTLcrZ1aIZ",
        "outputId": "0044ea3b-bdf2-4a59-eff9-b0d8cd467d5b"
      },
      "execution_count": 10,
      "outputs": [
        {
          "output_type": "stream",
          "name": "stdout",
          "text": [
            "<class 'pandas.core.frame.DataFrame'>\n",
            "RangeIndex: 545 entries, 0 to 544\n",
            "Data columns (total 9 columns):\n",
            " #   Column           Non-Null Count  Dtype \n",
            "---  ------           --------------  ----- \n",
            " 0   price            545 non-null    int64 \n",
            " 1   area             545 non-null    int64 \n",
            " 2   bedrooms         545 non-null    int64 \n",
            " 3   bathrooms        545 non-null    int64 \n",
            " 4   stories          545 non-null    int64 \n",
            " 5   guestroom        545 non-null    object\n",
            " 6   hotwaterheating  545 non-null    object\n",
            " 7   airconditioning  545 non-null    object\n",
            " 8   parking          545 non-null    int64 \n",
            "dtypes: int64(6), object(3)\n",
            "memory usage: 38.4+ KB\n"
          ]
        }
      ]
    },
    {
      "cell_type": "markdown",
      "source": [
        "#### Paso 4.2 Codificación de variables categóricas:"
      ],
      "metadata": {
        "id": "1dYGwQ1-1Xe3"
      }
    },
    {
      "cell_type": "code",
      "source": [
        "# Conversión de variables Object en variables categoricas. \"reduce uso de memoria y permite análisis más eficientes\".\n",
        "\n",
        "categorical_cols = ['guestroom', 'hotwaterheating', 'airconditioning']\n",
        "\n",
        "for col in categorical_cols:\n",
        "    df[col] = pd.Categorical(df[col])"
      ],
      "metadata": {
        "id": "JwNZvE2Py-co"
      },
      "execution_count": 11,
      "outputs": []
    },
    {
      "cell_type": "markdown",
      "source": [
        "#### Paso 4.3 Detección y tratamiento de outliers.\n",
        "\n",
        "* 4.3.1 Identificación de OUTLIERS por Z-score.\n",
        "* 4.3.2 Identificación visual.\n",
        "* 4.3.3 Identificación por IQR.\n",
        "* 4.3.4 Aplicación de técnicas de eliminación o winsorización.\n",
        "* 4.3.5 Utilidad de variables categoricas."
      ],
      "metadata": {
        "id": "Co1E8xvSbuWy"
      }
    },
    {
      "cell_type": "markdown",
      "source": [
        "##### 4.3.1 Identificación de OUTLIERS por Z-score."
      ],
      "metadata": {
        "id": "df1B8nvETY2m"
      }
    },
    {
      "cell_type": "code",
      "source": [
        "from scipy.stats import zscore\n",
        "import pandas as pd\n",
        "import numpy as np\n",
        "\n",
        "# Seleccionar columnas numéricas\n",
        "num_cols = df.select_dtypes(include=['int64', 'float64']).columns\n",
        "\n",
        "# Calcular Z-score para todas las variables numéricas\n",
        "z_scores = df[num_cols].apply(zscore)\n",
        "\n",
        "# Identificar outliers por columna\n",
        "outliers_dict = {}\n",
        "\n",
        "for col in num_cols:\n",
        "    outliers = z_scores[np.abs(z_scores[col]) > 3]\n",
        "    outliers_dict[col] = outliers.shape[0]\n",
        "    print(f\"🔹 {col}: {outliers.shape[0]} outliers (|Z| > 3)\")\n"
      ],
      "metadata": {
        "colab": {
          "base_uri": "https://localhost:8080/"
        },
        "id": "nDalXCkp79M9",
        "outputId": "ecafac0b-1779-43eb-e705-d8eec935c264"
      },
      "execution_count": 12,
      "outputs": [
        {
          "output_type": "stream",
          "name": "stdout",
          "text": [
            "🔹 price: 6 outliers (|Z| > 3)\n",
            "🔹 area: 7 outliers (|Z| > 3)\n",
            "🔹 bedrooms: 2 outliers (|Z| > 3)\n",
            "🔹 bathrooms: 11 outliers (|Z| > 3)\n",
            "🔹 stories: 0 outliers (|Z| > 3)\n",
            "🔹 parking: 0 outliers (|Z| > 3)\n"
          ]
        }
      ]
    },
    {
      "cell_type": "markdown",
      "source": [
        "##### 4.3.2 Identificación visual."
      ],
      "metadata": {
        "id": "Mnp9RDis8nc-"
      }
    },
    {
      "cell_type": "code",
      "source": [
        "# Identificación visual y por IQR de OUTLIERS.\n",
        "import matplotlib.pyplot as plt\n",
        "plt.figure(figsize=(15, 10))\n",
        "\n",
        "for i, col in enumerate(df.select_dtypes(include=['number']).columns):\n",
        "    plt.subplot(3, 3, i + 1)\n",
        "    plt.boxplot(df[col])\n",
        "    plt.title(col)\n",
        "\n",
        "plt.tight_layout()\n",
        "plt.show()"
      ],
      "metadata": {
        "colab": {
          "base_uri": "https://localhost:8080/",
          "height": 0
        },
        "id": "wHbgEUf65LmX",
        "outputId": "4d94650c-7328-4eac-dfd6-ab1493957e01"
      },
      "execution_count": 13,
      "outputs": [
        {
          "output_type": "display_data",
          "data": {
            "text/plain": [
              "<Figure size 1500x1000 with 6 Axes>"
            ],
            "image/png": "[encoded data removed]"
          },
          "metadata": {}
        }
      ]
    },
    {
      "cell_type": "markdown",
      "source": [
        "##### 4.3.3 Identificación por IQR de OUTLIERS."
      ],
      "metadata": {
        "id": "ZxEuCMc89PJi"
      }
    },
    {
      "cell_type": "code",
      "source": [
        "# Deteccion de Outliers utilizando el metodo de rango intercuartil (IQR).\n",
        "\n",
        "def detect_outliers_iqr(data):\n",
        "\n",
        "  if pd.api.types.is_numeric_dtype(data):\n",
        "    q1 = data.quantile(0.25)\n",
        "    q3 = data.quantile(0.75)\n",
        "    iqr = q3 - q1\n",
        "    lower_bound = q1 - 1.5 * iqr\n",
        "    upper_bound = q3 + 1.5 * iqr\n",
        "    outliers = data[(data < lower_bound) | (data > upper_bound)]\n",
        "    return outliers.tolist()\n",
        "  else:\n",
        "    return []\n",
        "\n",
        "\n",
        "for col in df.columns:\n",
        "  outliers = detect_outliers_iqr(df[col])\n",
        "  if outliers:\n",
        "    print(f\"Potential outliers in '{col}': {outliers}\")"
      ],
      "metadata": {
        "colab": {
          "base_uri": "https://localhost:8080/"
        },
        "id": "3nEFAKa_-jXI",
        "outputId": "f2839868-4e09-4ccd-e926-d66da79bb4fa"
      },
      "execution_count": 14,
      "outputs": [
        {
          "output_type": "stream",
          "name": "stdout",
          "text": [
            "Potential outliers in 'price': [13300000, 12250000, 12250000, 12215000, 11410000, 10850000, 10150000, 10150000, 9870000, 9800000, 9800000, 9681000, 9310000, 9240000, 9240000]\n",
            "Potential outliers in 'area': [16200, 13200, 11440, 11175, 13200, 12090, 15600, 11460, 11410, 10700, 12900, 12944]\n",
            "Potential outliers in 'bedrooms': [5, 5, 5, 5, 6, 5, 5, 5, 5, 5, 6, 5]\n",
            "Potential outliers in 'bathrooms': [4]\n",
            "Potential outliers in 'stories': [4, 4, 4, 4, 4, 4, 4, 4, 4, 4, 4, 4, 4, 4, 4, 4, 4, 4, 4, 4, 4, 4, 4, 4, 4, 4, 4, 4, 4, 4, 4, 4, 4, 4, 4, 4, 4, 4, 4, 4, 4]\n",
            "Potential outliers in 'parking': [3, 3, 3, 3, 3, 3, 3, 3, 3, 3, 3, 3]\n"
          ]
        }
      ]
    },
    {
      "cell_type": "code",
      "source": [
        "df.describe().applymap(lambda x: f'{x:.3f}')"
      ],
      "metadata": {
        "colab": {
          "base_uri": "https://localhost:8080/",
          "height": 0
        },
        "id": "a3EJsSrnA6Uh",
        "outputId": "978fc292-004f-4b22-f5f2-cf7f00f031d3"
      },
      "execution_count": 15,
      "outputs": [
        {
          "output_type": "execute_result",
          "data": {
            "text/plain": [
              "              price       area bedrooms bathrooms  stories  parking\n",
              "count       545.000    545.000  545.000   545.000  545.000  545.000\n",
              "mean    4766729.248   5150.541    2.965     1.286    1.806    0.694\n",
              "std     1870439.616   2170.141    0.738     0.502    0.867    0.862\n",
              "min     1750000.000   1650.000    1.000     1.000    1.000    0.000\n",
              "25%     3430000.000   3600.000    2.000     1.000    1.000    0.000\n",
              "50%     4340000.000   4600.000    3.000     1.000    2.000    0.000\n",
              "75%     5740000.000   6360.000    3.000     2.000    2.000    1.000\n",
              "max    13300000.000  16200.000    6.000     4.000    4.000    3.000"
            ],
            "text/html": [
              "\n",
              "  <div id=\"df-ed36b0f9-b0fd-4503-a60b-8a536c76e05b\" class=\"colab-df-container\">\n",
              "    <div>\n",
              "<style scoped>\n",
              "    .dataframe tbody tr th:only-of-type {\n",
              "        vertical-align: middle;\n",
              "    }\n",
              "\n",
              "    .dataframe tbody tr th {\n",
              "        vertical-align: top;\n",
              "    }\n",
              "\n",
              "    .dataframe thead th {\n",
              "        text-align: right;\n",
              "    }\n",
              "</style>\n",
              "<table border=\"1\" class=\"dataframe\">\n",
              "  <thead>\n",
              "    <tr style=\"text-align: right;\">\n",
              "      <th></th>\n",
              "      <th>price</th>\n",
              "      <th>area</th>\n",
              "      <th>bedrooms</th>\n",
              "      <th>bathrooms</th>\n",
              "      <th>stories</th>\n",
              "      <th>parking</th>\n",
              "    </tr>\n",
              "  </thead>\n",
              "  <tbody>\n",
              "    <tr>\n",
              "      <th>count</th>\n",
              "      <td>545.000</td>\n",
              "      <td>545.000</td>\n",
              "      <td>545.000</td>\n",
              "      <td>545.000</td>\n",
              "      <td>545.000</td>\n",
              "      <td>545.000</td>\n",
              "    </tr>\n",
              "    <tr>\n",
              "      <th>mean</th>\n",
              "      <td>4766729.248</td>\n",
              "      <td>5150.541</td>\n",
              "      <td>2.965</td>\n",
              "      <td>1.286</td>\n",
              "      <td>1.806</td>\n",
              "      <td>0.694</td>\n",
              "    </tr>\n",
              "    <tr>\n",
              "      <th>std</th>\n",
              "      <td>1870439.616</td>\n",
              "      <td>2170.141</td>\n",
              "      <td>0.738</td>\n",
              "      <td>0.502</td>\n",
              "      <td>0.867</td>\n",
              "      <td>0.862</td>\n",
              "    </tr>\n",
              "    <tr>\n",
              "      <th>min</th>\n",
              "      <td>1750000.000</td>\n",
              "      <td>1650.000</td>\n",
              "      <td>1.000</td>\n",
              "      <td>1.000</td>\n",
              "      <td>1.000</td>\n",
              "      <td>0.000</td>\n",
              "    </tr>\n",
              "    <tr>\n",
              "      <th>25%</th>\n",
              "      <td>3430000.000</td>\n",
              "      <td>3600.000</td>\n",
              "      <td>2.000</td>\n",
              "      <td>1.000</td>\n",
              "      <td>1.000</td>\n",
              "      <td>0.000</td>\n",
              "    </tr>\n",
              "    <tr>\n",
              "      <th>50%</th>\n",
              "      <td>4340000.000</td>\n",
              "      <td>4600.000</td>\n",
              "      <td>3.000</td>\n",
              "      <td>1.000</td>\n",
              "      <td>2.000</td>\n",
              "      <td>0.000</td>\n",
              "    </tr>\n",
              "    <tr>\n",
              "      <th>75%</th>\n",
              "      <td>5740000.000</td>\n",
              "      <td>6360.000</td>\n",
              "      <td>3.000</td>\n",
              "      <td>2.000</td>\n",
              "      <td>2.000</td>\n",
              "      <td>1.000</td>\n",
              "    </tr>\n",
              "    <tr>\n",
              "      <th>max</th>\n",
              "      <td>13300000.000</td>\n",
              "      <td>16200.000</td>\n",
              "      <td>6.000</td>\n",
              "      <td>4.000</td>\n",
              "      <td>4.000</td>\n",
              "      <td>3.000</td>\n",
              "    </tr>\n",
              "  </tbody>\n",
              "</table>\n",
              "</div>\n",
              "    <div class=\"colab-df-buttons\">\n",
              "\n",
              "  <div class=\"colab-df-container\">\n",
              "    <button class=\"colab-df-convert\" onclick=\"convertToInteractive('df-ed36b0f9-b0fd-4503-a60b-8a536c76e05b')\"\n",
              "            title=\"Convert this dataframe to an interactive table.\"\n",
              "            style=\"display:none;\">\n",
              "\n",
              "  <svg xmlns=\"http://www.w3.org/2000/svg\" height=\"24px\" viewBox=\"0 -960 960 960\">\n",
              "    <path d=\"M120-120v-720h720v720H120Zm60-500h600v-160H180v160Zm220 220h160v-160H400v160Zm0 220h160v-160H400v160ZM180-400h160v-160H180v160Zm440 0h160v-160H620v160ZM180-180h160v-160H180v160Zm440 0h160v-160H620v160Z\"/>\n",
              "  </svg>\n",
              "    </button>\n",
              "\n",
              "  <style>\n",
              "    .colab-df-container {\n",
              "      display:flex;\n",
              "      gap: 12px;\n",
              "    }\n",
              "\n",
              "    .colab-df-convert {\n",
              "      background-color: #E8F0FE;\n",
              "      border: none;\n",
              "      border-radius: 50%;\n",
              "      cursor: pointer;\n",
              "      display: none;\n",
              "      fill: #1967D2;\n",
              "      height: 32px;\n",
              "      padding: 0 0 0 0;\n",
              "      width: 32px;\n",
              "    }\n",
              "\n",
              "    .colab-df-convert:hover {\n",
              "      background-color: #E2EBFA;\n",
              "      box-shadow: 0px 1px 2px rgba(60, 64, 67, 0.3), 0px 1px 3px 1px rgba(60, 64, 67, 0.15);\n",
              "      fill: #174EA6;\n",
              "    }\n",
              "\n",
              "    .colab-df-buttons div {\n",
              "      margin-bottom: 4px;\n",
              "    }\n",
              "\n",
              "    [theme=dark] .colab-df-convert {\n",
              "      background-color: #3B4455;\n",
              "      fill: #D2E3FC;\n",
              "    }\n",
              "\n",
              "    [theme=dark] .colab-df-convert:hover {\n",
              "      background-color: #434B5C;\n",
              "      box-shadow: 0px 1px 3px 1px rgba(0, 0, 0, 0.15);\n",
              "      filter: drop-shadow(0px 1px 2px rgba(0, 0, 0, 0.3));\n",
              "      fill: #FFFFFF;\n",
              "    }\n",
              "  </style>\n",
              "\n",
              "    <script>\n",
              "      const buttonEl =\n",
              "        document.querySelector('#df-ed36b0f9-b0fd-4503-a60b-8a536c76e05b button.colab-df-convert');\n",
              "      buttonEl.style.display =\n",
              "        google.colab.kernel.accessAllowed ? 'block' : 'none';\n",
              "\n",
              "      async function convertToInteractive(key) {\n",
              "        const element = document.querySelector('#df-ed36b0f9-b0fd-4503-a60b-8a536c76e05b');\n",
              "        const dataTable =\n",
              "          await google.colab.kernel.invokeFunction('convertToInteractive',\n",
              "                                                    [key], {});\n",
              "        if (!dataTable) return;\n",
              "\n",
              "        const docLinkHtml = 'Like what you see? Visit the ' +\n",
              "          '<a target=\"_blank\" href=https://colab.research.google.com/notebooks/data_table.ipynb>data table notebook</a>'\n",
              "          + ' to learn more about interactive tables.';\n",
              "        element.innerHTML = '';\n",
              "        dataTable['output_type'] = 'display_data';\n",
              "        await google.colab.output.renderOutput(dataTable, element);\n",
              "        const docLink = document.createElement('div');\n",
              "        docLink.innerHTML = docLinkHtml;\n",
              "        element.appendChild(docLink);\n",
              "      }\n",
              "    </script>\n",
              "  </div>\n",
              "\n",
              "\n",
              "    <div id=\"df-6d4c8de0-f70f-41fa-b00f-c193d01023c4\">\n",
              "      <button class=\"colab-df-quickchart\" onclick=\"quickchart('df-6d4c8de0-f70f-41fa-b00f-c193d01023c4')\"\n",
              "                title=\"Suggest charts\"\n",
              "                style=\"display:none;\">\n",
              "\n",
              "<svg xmlns=\"http://www.w3.org/2000/svg\" height=\"24px\"viewBox=\"0 0 24 24\"\n",
              "     width=\"24px\">\n",
              "    <g>\n",
              "        <path d=\"M19 3H5c-1.1 0-2 .9-2 2v14c0 1.1.9 2 2 2h14c1.1 0 2-.9 2-2V5c0-1.1-.9-2-2-2zM9 17H7v-7h2v7zm4 0h-2V7h2v10zm4 0h-2v-4h2v4z\"/>\n",
              "    </g>\n",
              "</svg>\n",
              "      </button>\n",
              "\n",
              "<style>\n",
              "  .colab-df-quickchart {\n",
              "      --bg-color: #E8F0FE;\n",
              "      --fill-color: #1967D2;\n",
              "      --hover-bg-color: #E2EBFA;\n",
              "      --hover-fill-color: #174EA6;\n",
              "      --disabled-fill-color: #AAA;\n",
              "      --disabled-bg-color: #DDD;\n",
              "  }\n",
              "\n",
              "  [theme=dark] .colab-df-quickchart {\n",
              "      --bg-color: #3B4455;\n",
              "      --fill-color: #D2E3FC;\n",
              "      --hover-bg-color: #434B5C;\n",
              "      --hover-fill-color: #FFFFFF;\n",
              "      --disabled-bg-color: #3B4455;\n",
              "      --disabled-fill-color: #666;\n",
              "  }\n",
              "\n",
              "  .colab-df-quickchart {\n",
              "    background-color: var(--bg-color);\n",
              "    border: none;\n",
              "    border-radius: 50%;\n",
              "    cursor: pointer;\n",
              "    display: none;\n",
              "    fill: var(--fill-color);\n",
              "    height: 32px;\n",
              "    padding: 0;\n",
              "    width: 32px;\n",
              "  }\n",
              "\n",
              "  .colab-df-quickchart:hover {\n",
              "    background-color: var(--hover-bg-color);\n",
              "    box-shadow: 0 1px 2px rgba(60, 64, 67, 0.3), 0 1px 3px 1px rgba(60, 64, 67, 0.15);\n",
              "    fill: var(--button-hover-fill-color);\n",
              "  }\n",
              "\n",
              "  .colab-df-quickchart-complete:disabled,\n",
              "  .colab-df-quickchart-complete:disabled:hover {\n",
              "    background-color: var(--disabled-bg-color);\n",
              "    fill: var(--disabled-fill-color);\n",
              "    box-shadow: none;\n",
              "  }\n",
              "\n",
              "  .colab-df-spinner {\n",
              "    border: 2px solid var(--fill-color);\n",
              "    border-color: transparent;\n",
              "    border-bottom-color: var(--fill-color);\n",
              "    animation:\n",
              "      spin 1s steps(1) infinite;\n",
              "  }\n",
              "\n",
              "  @keyframes spin {\n",
              "    0% {\n",
              "      border-color: transparent;\n",
              "      border-bottom-color: var(--fill-color);\n",
              "      border-left-color: var(--fill-color);\n",
              "    }\n",
              "    20% {\n",
              "      border-color: transparent;\n",
              "      border-left-color: var(--fill-color);\n",
              "      border-top-color: var(--fill-color);\n",
              "    }\n",
              "    30% {\n",
              "      border-color: transparent;\n",
              "      border-left-color: var(--fill-color);\n",
              "      border-top-color: var(--fill-color);\n",
              "      border-right-color: var(--fill-color);\n",
              "    }\n",
              "    40% {\n",
              "      border-color: transparent;\n",
              "      border-right-color: var(--fill-color);\n",
              "      border-top-color: var(--fill-color);\n",
              "    }\n",
              "    60% {\n",
              "      border-color: transparent;\n",
              "      border-right-color: var(--fill-color);\n",
              "    }\n",
              "    80% {\n",
              "      border-color: transparent;\n",
              "      border-right-color: var(--fill-color);\n",
              "      border-bottom-color: var(--fill-color);\n",
              "    }\n",
              "    90% {\n",
              "      border-color: transparent;\n",
              "      border-bottom-color: var(--fill-color);\n",
              "    }\n",
              "  }\n",
              "</style>\n",
              "\n",
              "      <script>\n",
              "        async function quickchart(key) {\n",
              "          const quickchartButtonEl =\n",
              "            document.querySelector('#' + key + ' button');\n",
              "          quickchartButtonEl.disabled = true;  // To prevent multiple clicks.\n",
              "          quickchartButtonEl.classList.add('colab-df-spinner');\n",
              "          try {\n",
              "            const charts = await google.colab.kernel.invokeFunction(\n",
              "                'suggestCharts', [key], {});\n",
              "          } catch (error) {\n",
              "            console.error('Error during call to suggestCharts:', error);\n",
              "          }\n",
              "          quickchartButtonEl.classList.remove('colab-df-spinner');\n",
              "          quickchartButtonEl.classList.add('colab-df-quickchart-complete');\n",
              "        }\n",
              "        (() => {\n",
              "          let quickchartButtonEl =\n",
              "            document.querySelector('#df-6d4c8de0-f70f-41fa-b00f-c193d01023c4 button');\n",
              "          quickchartButtonEl.style.display =\n",
              "            google.colab.kernel.accessAllowed ? 'block' : 'none';\n",
              "        })();\n",
              "      </script>\n",
              "    </div>\n",
              "\n",
              "    </div>\n",
              "  </div>\n"
            ],
            "application/vnd.google.colaboratory.intrinsic+json": {
              "type": "dataframe",
              "summary": "{\n  \"name\": \"df\",\n  \"rows\": 8,\n  \"fields\": [\n    {\n      \"column\": \"price\",\n      \"properties\": {\n        \"dtype\": \"string\",\n        \"num_unique_values\": 8,\n        \"samples\": [\n          \"4766729.248\",\n          \"4340000.000\",\n          \"545.000\"\n        ],\n        \"semantic_type\": \"\",\n        \"description\": \"\"\n      }\n    },\n    {\n      \"column\": \"area\",\n      \"properties\": {\n        \"dtype\": \"string\",\n        \"num_unique_values\": 8,\n        \"samples\": [\n          \"5150.541\",\n          \"4600.000\",\n          \"545.000\"\n        ],\n        \"semantic_type\": \"\",\n        \"description\": \"\"\n      }\n    },\n    {\n      \"column\": \"bedrooms\",\n      \"properties\": {\n        \"dtype\": \"string\",\n        \"num_unique_values\": 7,\n        \"samples\": [\n          \"545.000\",\n          \"2.965\",\n          \"3.000\"\n        ],\n        \"semantic_type\": \"\",\n        \"description\": \"\"\n      }\n    },\n    {\n      \"column\": \"bathrooms\",\n      \"properties\": {\n        \"dtype\": \"string\",\n        \"num_unique_values\": 6,\n        \"samples\": [\n          \"545.000\",\n          \"1.286\",\n          \"4.000\"\n        ],\n        \"semantic_type\": \"\",\n        \"description\": \"\"\n      }\n    },\n    {\n      \"column\": \"stories\",\n      \"properties\": {\n        \"dtype\": \"string\",\n        \"num_unique_values\": 6,\n        \"samples\": [\n          \"545.000\",\n          \"1.806\",\n          \"4.000\"\n        ],\n        \"semantic_type\": \"\",\n        \"description\": \"\"\n      }\n    },\n    {\n      \"column\": \"parking\",\n      \"properties\": {\n        \"dtype\": \"string\",\n        \"num_unique_values\": 6,\n        \"samples\": [\n          \"545.000\",\n          \"0.694\",\n          \"3.000\"\n        ],\n        \"semantic_type\": \"\",\n        \"description\": \"\"\n      }\n    }\n  ]\n}"
            }
          },
          "metadata": {},
          "execution_count": 15
        }
      ]
    },
    {
      "cell_type": "markdown",
      "source": [
        "Analisis de OUTLIERS.\n",
        "\n",
        "Existen discrepancia entre los outliers detectados por Z-score y IQR se debe a las diferencias fundamentales entre ambos métodos.\n",
        "\n",
        "🔍 Z-score (basado en media y desviación estándar)\n",
        "\n",
        "* Se asume que los datos tienen una distribución normal o aproximadamente simétrica.\n",
        "\n",
        "* Detecta outliers cuando un valor está muy lejos de la media (más de 3 desviaciones estándar).\n",
        "\n",
        "* Problema: si la distribución está sesgada (no simétrica) o tiene valores extremos que inflan la desviación estándar, el Z-score pierde sensibilidad.\n",
        "\n",
        "📦 IQR (basado en percentiles, robusto a distribución)\n",
        "No asume ninguna forma de distribución.\n",
        "\n",
        "* Se basa en el rango entre el 1er cuartil (Q1) y el 3er cuartil (Q3).\n",
        "\n",
        "* Detecta como outliers los valores que están fuera del rango intercuartílico: fuera de [Q1−1.5×IQR,Q3+1.5×IQR]\n",
        "\n",
        "* Es más robusto a la presencia de valores extremos, ya que no se ve afectado por media ni desviación."
      ],
      "metadata": {
        "id": "oNysdgOT52eQ"
      }
    },
    {
      "cell_type": "code",
      "source": [
        "import matplotlib.pyplot as plt\n",
        "import seaborn as sns\n",
        "\n",
        "# Seleccionar solo columnas numéricas\n",
        "numeric_df = df.select_dtypes(include='number')\n",
        "\n",
        "# Crear figura con subplots (2 filas x 3 columnas)\n",
        "fig, axes = plt.subplots(nrows=2, ncols=3, figsize=(15, 8))\n",
        "axes = axes.flatten()  # Aplanar para iterar fácilmente\n",
        "\n",
        "# Graficar cada variable numérica\n",
        "for i, column in enumerate(numeric_df.columns):\n",
        "    sns.histplot(numeric_df[column], kde=True, bins=30, ax=axes[i],\n",
        "                 color='skyblue', edgecolor='black')\n",
        "    axes[i].set_title(f'Distribución de {column}')\n",
        "    axes[i].set_xlabel(column)\n",
        "    axes[i].set_ylabel('Frecuencia')\n",
        "    axes[i].grid(True)\n",
        "\n",
        "# Ajustar los espacios\n",
        "plt.tight_layout()\n",
        "plt.show()\n"
      ],
      "metadata": {
        "colab": {
          "base_uri": "https://localhost:8080/",
          "height": 0
        },
        "id": "L6I7ocwgHkof",
        "outputId": "16781a7b-f5ff-4b39-8365-a8f373397ca9"
      },
      "execution_count": 16,
      "outputs": [
        {
          "output_type": "display_data",
          "data": {
            "text/plain": [
              "<Figure size 1500x800 with 6 Axes>"
            ],
            "image/png": "[encoded data removed]"
          },
          "metadata": {}
        }
      ]
    },
    {
      "cell_type": "code",
      "source": [
        "from scipy.stats import shapiro\n",
        "\n",
        "# Aplicar test de Shapiro-Wilk a cada variable numérica\n",
        "print(\"📌 Resultados del test de normalidad (Shapiro-Wilk):\\n\")\n",
        "for column in numeric_df.columns:\n",
        "    stat, p = shapiro(numeric_df[column])\n",
        "    print(f\"{column}: W = {stat:.4f}, p-value = {p:.4f} --> {'Normal' if p > 0.05 else 'No normal'}\")\n"
      ],
      "metadata": {
        "colab": {
          "base_uri": "https://localhost:8080/"
        },
        "id": "LUjWT7JTHKkR",
        "outputId": "09ed4515-24f2-426f-af72-486c58cb2a0d"
      },
      "execution_count": 17,
      "outputs": [
        {
          "output_type": "stream",
          "name": "stdout",
          "text": [
            "📌 Resultados del test de normalidad (Shapiro-Wilk):\n",
            "\n",
            "price: W = 0.9216, p-value = 0.0000 --> No normal\n",
            "area: W = 0.9113, p-value = 0.0000 --> No normal\n",
            "bedrooms: W = 0.8292, p-value = 0.0000 --> No normal\n",
            "bathrooms: W = 0.5786, p-value = 0.0000 --> No normal\n",
            "stories: W = 0.7725, p-value = 0.0000 --> No normal\n",
            "parking: W = 0.7484, p-value = 0.0000 --> No normal\n"
          ]
        }
      ]
    },
    {
      "cell_type": "markdown",
      "source": [
        "📌 Conclusión:\n",
        "\n",
        "📊 Distribuciones observadas (histogramas + KDE)\n",
        "\n",
        "* Todas las variables muestran asimetrías (skewness) o formas no normales:\n",
        "\n",
        "  * price y area: asimetría positiva (colas largas a la derecha).\n",
        "\n",
        "  * bedrooms, bathrooms, stories, parking: distribución discreta y sesgada.\n",
        "\n",
        "En relacion a los resultados del test de normalidad de shapiro-wilk;  Todas las variables violan el supuesto de normalidad (p < 0.05). 👉 Esto valida que el método IQR es más adecuado que Z-score para detectar outliers en este caso."
      ],
      "metadata": {
        "id": "mp7Ms9kt7KsM"
      }
    },
    {
      "cell_type": "markdown",
      "source": [
        "##### 4.3.4 Aplicación de técnica de eliminación o winsorización."
      ],
      "metadata": {
        "id": "GyJVVovY0Rzi"
      }
    },
    {
      "cell_type": "code",
      "source": [
        "from scipy.stats.mstats import winsorize\n",
        "\n",
        "# Crear una copia del DataFrame original\n",
        "df_winsorized = df.copy()\n",
        "\n",
        "# Definir los límites de winsorización: 1% y 99%\n",
        "limits = (0.01, 0.01)\n",
        "\n",
        "# Aplicar winsorización a cada variable numérica\n",
        "for col in df.select_dtypes(include='number').columns:\n",
        "    df_winsorized[col] = winsorize(df[col], limits=limits)\n",
        "\n",
        "# Verificación rápida\n",
        "df_winsorized.describe()\n"
      ],
      "metadata": {
        "colab": {
          "base_uri": "https://localhost:8080/",
          "height": 0
        },
        "id": "u_eUuqirMGco",
        "outputId": "78443006-1355-4b6f-da1b-2d9e2cf8d688"
      },
      "execution_count": 18,
      "outputs": [
        {
          "output_type": "execute_result",
          "data": {
            "text/plain": [
              "              price          area    bedrooms   bathrooms     stories  \\\n",
              "count  5.450000e+02    545.000000  545.000000  545.000000  545.000000   \n",
              "mean   4.754368e+06   5139.651376    2.965138    1.284404    1.805505   \n",
              "std    1.819592e+06   2116.057002    0.717862    0.494301    0.867492   \n",
              "min    1.855000e+06   1950.000000    2.000000    1.000000    1.000000   \n",
              "25%    3.430000e+06   3600.000000    2.000000    1.000000    1.000000   \n",
              "50%    4.340000e+06   4600.000000    3.000000    1.000000    2.000000   \n",
              "75%    5.740000e+06   6360.000000    3.000000    2.000000    2.000000   \n",
              "max    1.085000e+07  12900.000000    5.000000    3.000000    4.000000   \n",
              "\n",
              "          parking  \n",
              "count  545.000000  \n",
              "mean     0.693578  \n",
              "std      0.861586  \n",
              "min      0.000000  \n",
              "25%      0.000000  \n",
              "50%      0.000000  \n",
              "75%      1.000000  \n",
              "max      3.000000  "
            ],
            "text/html": [
              "\n",
              "  <div id=\"df-04e4b008-73d4-43dd-a536-3cad27990afe\" class=\"colab-df-container\">\n",
              "    <div>\n",
              "<style scoped>\n",
              "    .dataframe tbody tr th:only-of-type {\n",
              "        vertical-align: middle;\n",
              "    }\n",
              "\n",
              "    .dataframe tbody tr th {\n",
              "        vertical-align: top;\n",
              "    }\n",
              "\n",
              "    .dataframe thead th {\n",
              "        text-align: right;\n",
              "    }\n",
              "</style>\n",
              "<table border=\"1\" class=\"dataframe\">\n",
              "  <thead>\n",
              "    <tr style=\"text-align: right;\">\n",
              "      <th></th>\n",
              "      <th>price</th>\n",
              "      <th>area</th>\n",
              "      <th>bedrooms</th>\n",
              "      <th>bathrooms</th>\n",
              "      <th>stories</th>\n",
              "      <th>parking</th>\n",
              "    </tr>\n",
              "  </thead>\n",
              "  <tbody>\n",
              "    <tr>\n",
              "      <th>count</th>\n",
              "      <td>5.450000e+02</td>\n",
              "      <td>545.000000</td>\n",
              "      <td>545.000000</td>\n",
              "      <td>545.000000</td>\n",
              "      <td>545.000000</td>\n",
              "      <td>545.000000</td>\n",
              "    </tr>\n",
              "    <tr>\n",
              "      <th>mean</th>\n",
              "      <td>4.754368e+06</td>\n",
              "      <td>5139.651376</td>\n",
              "      <td>2.965138</td>\n",
              "      <td>1.284404</td>\n",
              "      <td>1.805505</td>\n",
              "      <td>0.693578</td>\n",
              "    </tr>\n",
              "    <tr>\n",
              "      <th>std</th>\n",
              "      <td>1.819592e+06</td>\n",
              "      <td>2116.057002</td>\n",
              "      <td>0.717862</td>\n",
              "      <td>0.494301</td>\n",
              "      <td>0.867492</td>\n",
              "      <td>0.861586</td>\n",
              "    </tr>\n",
              "    <tr>\n",
              "      <th>min</th>\n",
              "      <td>1.855000e+06</td>\n",
              "      <td>1950.000000</td>\n",
              "      <td>2.000000</td>\n",
              "      <td>1.000000</td>\n",
              "      <td>1.000000</td>\n",
              "      <td>0.000000</td>\n",
              "    </tr>\n",
              "    <tr>\n",
              "      <th>25%</th>\n",
              "      <td>3.430000e+06</td>\n",
              "      <td>3600.000000</td>\n",
              "      <td>2.000000</td>\n",
              "      <td>1.000000</td>\n",
              "      <td>1.000000</td>\n",
              "      <td>0.000000</td>\n",
              "    </tr>\n",
              "    <tr>\n",
              "      <th>50%</th>\n",
              "      <td>4.340000e+06</td>\n",
              "      <td>4600.000000</td>\n",
              "      <td>3.000000</td>\n",
              "      <td>1.000000</td>\n",
              "      <td>2.000000</td>\n",
              "      <td>0.000000</td>\n",
              "    </tr>\n",
              "    <tr>\n",
              "      <th>75%</th>\n",
              "      <td>5.740000e+06</td>\n",
              "      <td>6360.000000</td>\n",
              "      <td>3.000000</td>\n",
              "      <td>2.000000</td>\n",
              "      <td>2.000000</td>\n",
              "      <td>1.000000</td>\n",
              "    </tr>\n",
              "    <tr>\n",
              "      <th>max</th>\n",
              "      <td>1.085000e+07</td>\n",
              "      <td>12900.000000</td>\n",
              "      <td>5.000000</td>\n",
              "      <td>3.000000</td>\n",
              "      <td>4.000000</td>\n",
              "      <td>3.000000</td>\n",
              "    </tr>\n",
              "  </tbody>\n",
              "</table>\n",
              "</div>\n",
              "    <div class=\"colab-df-buttons\">\n",
              "\n",
              "  <div class=\"colab-df-container\">\n",
              "    <button class=\"colab-df-convert\" onclick=\"convertToInteractive('df-04e4b008-73d4-43dd-a536-3cad27990afe')\"\n",
              "            title=\"Convert this dataframe to an interactive table.\"\n",
              "            style=\"display:none;\">\n",
              "\n",
              "  <svg xmlns=\"http://www.w3.org/2000/svg\" height=\"24px\" viewBox=\"0 -960 960 960\">\n",
              "    <path d=\"M120-120v-720h720v720H120Zm60-500h600v-160H180v160Zm220 220h160v-160H400v160Zm0 220h160v-160H400v160ZM180-400h160v-160H180v160Zm440 0h160v-160H620v160ZM180-180h160v-160H180v160Zm440 0h160v-160H620v160Z\"/>\n",
              "  </svg>\n",
              "    </button>\n",
              "\n",
              "  <style>\n",
              "    .colab-df-container {\n",
              "      display:flex;\n",
              "      gap: 12px;\n",
              "    }\n",
              "\n",
              "    .colab-df-convert {\n",
              "      background-color: #E8F0FE;\n",
              "      border: none;\n",
              "      border-radius: 50%;\n",
              "      cursor: pointer;\n",
              "      display: none;\n",
              "      fill: #1967D2;\n",
              "      height: 32px;\n",
              "      padding: 0 0 0 0;\n",
              "      width: 32px;\n",
              "    }\n",
              "\n",
              "    .colab-df-convert:hover {\n",
              "      background-color: #E2EBFA;\n",
              "      box-shadow: 0px 1px 2px rgba(60, 64, 67, 0.3), 0px 1px 3px 1px rgba(60, 64, 67, 0.15);\n",
              "      fill: #174EA6;\n",
              "    }\n",
              "\n",
              "    .colab-df-buttons div {\n",
              "      margin-bottom: 4px;\n",
              "    }\n",
              "\n",
              "    [theme=dark] .colab-df-convert {\n",
              "      background-color: #3B4455;\n",
              "      fill: #D2E3FC;\n",
              "    }\n",
              "\n",
              "    [theme=dark] .colab-df-convert:hover {\n",
              "      background-color: #434B5C;\n",
              "      box-shadow: 0px 1px 3px 1px rgba(0, 0, 0, 0.15);\n",
              "      filter: drop-shadow(0px 1px 2px rgba(0, 0, 0, 0.3));\n",
              "      fill: #FFFFFF;\n",
              "    }\n",
              "  </style>\n",
              "\n",
              "    <script>\n",
              "      const buttonEl =\n",
              "        document.querySelector('#df-04e4b008-73d4-43dd-a536-3cad27990afe button.colab-df-convert');\n",
              "      buttonEl.style.display =\n",
              "        google.colab.kernel.accessAllowed ? 'block' : 'none';\n",
              "\n",
              "      async function convertToInteractive(key) {\n",
              "        const element = document.querySelector('#df-04e4b008-73d4-43dd-a536-3cad27990afe');\n",
              "        const dataTable =\n",
              "          await google.colab.kernel.invokeFunction('convertToInteractive',\n",
              "                                                    [key], {});\n",
              "        if (!dataTable) return;\n",
              "\n",
              "        const docLinkHtml = 'Like what you see? Visit the ' +\n",
              "          '<a target=\"_blank\" href=https://colab.research.google.com/notebooks/data_table.ipynb>data table notebook</a>'\n",
              "          + ' to learn more about interactive tables.';\n",
              "        element.innerHTML = '';\n",
              "        dataTable['output_type'] = 'display_data';\n",
              "        await google.colab.output.renderOutput(dataTable, element);\n",
              "        const docLink = document.createElement('div');\n",
              "        docLink.innerHTML = docLinkHtml;\n",
              "        element.appendChild(docLink);\n",
              "      }\n",
              "    </script>\n",
              "  </div>\n",
              "\n",
              "\n",
              "    <div id=\"df-80d32ae4-7521-4fff-b0d7-9d6e83359ef4\">\n",
              "      <button class=\"colab-df-quickchart\" onclick=\"quickchart('df-80d32ae4-7521-4fff-b0d7-9d6e83359ef4')\"\n",
              "                title=\"Suggest charts\"\n",
              "                style=\"display:none;\">\n",
              "\n",
              "<svg xmlns=\"http://www.w3.org/2000/svg\" height=\"24px\"viewBox=\"0 0 24 24\"\n",
              "     width=\"24px\">\n",
              "    <g>\n",
              "        <path d=\"M19 3H5c-1.1 0-2 .9-2 2v14c0 1.1.9 2 2 2h14c1.1 0 2-.9 2-2V5c0-1.1-.9-2-2-2zM9 17H7v-7h2v7zm4 0h-2V7h2v10zm4 0h-2v-4h2v4z\"/>\n",
              "    </g>\n",
              "</svg>\n",
              "      </button>\n",
              "\n",
              "<style>\n",
              "  .colab-df-quickchart {\n",
              "      --bg-color: #E8F0FE;\n",
              "      --fill-color: #1967D2;\n",
              "      --hover-bg-color: #E2EBFA;\n",
              "      --hover-fill-color: #174EA6;\n",
              "      --disabled-fill-color: #AAA;\n",
              "      --disabled-bg-color: #DDD;\n",
              "  }\n",
              "\n",
              "  [theme=dark] .colab-df-quickchart {\n",
              "      --bg-color: #3B4455;\n",
              "      --fill-color: #D2E3FC;\n",
              "      --hover-bg-color: #434B5C;\n",
              "      --hover-fill-color: #FFFFFF;\n",
              "      --disabled-bg-color: #3B4455;\n",
              "      --disabled-fill-color: #666;\n",
              "  }\n",
              "\n",
              "  .colab-df-quickchart {\n",
              "    background-color: var(--bg-color);\n",
              "    border: none;\n",
              "    border-radius: 50%;\n",
              "    cursor: pointer;\n",
              "    display: none;\n",
              "    fill: var(--fill-color);\n",
              "    height: 32px;\n",
              "    padding: 0;\n",
              "    width: 32px;\n",
              "  }\n",
              "\n",
              "  .colab-df-quickchart:hover {\n",
              "    background-color: var(--hover-bg-color);\n",
              "    box-shadow: 0 1px 2px rgba(60, 64, 67, 0.3), 0 1px 3px 1px rgba(60, 64, 67, 0.15);\n",
              "    fill: var(--button-hover-fill-color);\n",
              "  }\n",
              "\n",
              "  .colab-df-quickchart-complete:disabled,\n",
              "  .colab-df-quickchart-complete:disabled:hover {\n",
              "    background-color: var(--disabled-bg-color);\n",
              "    fill: var(--disabled-fill-color);\n",
              "    box-shadow: none;\n",
              "  }\n",
              "\n",
              "  .colab-df-spinner {\n",
              "    border: 2px solid var(--fill-color);\n",
              "    border-color: transparent;\n",
              "    border-bottom-color: var(--fill-color);\n",
              "    animation:\n",
              "      spin 1s steps(1) infinite;\n",
              "  }\n",
              "\n",
              "  @keyframes spin {\n",
              "    0% {\n",
              "      border-color: transparent;\n",
              "      border-bottom-color: var(--fill-color);\n",
              "      border-left-color: var(--fill-color);\n",
              "    }\n",
              "    20% {\n",
              "      border-color: transparent;\n",
              "      border-left-color: var(--fill-color);\n",
              "      border-top-color: var(--fill-color);\n",
              "    }\n",
              "    30% {\n",
              "      border-color: transparent;\n",
              "      border-left-color: var(--fill-color);\n",
              "      border-top-color: var(--fill-color);\n",
              "      border-right-color: var(--fill-color);\n",
              "    }\n",
              "    40% {\n",
              "      border-color: transparent;\n",
              "      border-right-color: var(--fill-color);\n",
              "      border-top-color: var(--fill-color);\n",
              "    }\n",
              "    60% {\n",
              "      border-color: transparent;\n",
              "      border-right-color: var(--fill-color);\n",
              "    }\n",
              "    80% {\n",
              "      border-color: transparent;\n",
              "      border-right-color: var(--fill-color);\n",
              "      border-bottom-color: var(--fill-color);\n",
              "    }\n",
              "    90% {\n",
              "      border-color: transparent;\n",
              "      border-bottom-color: var(--fill-color);\n",
              "    }\n",
              "  }\n",
              "</style>\n",
              "\n",
              "      <script>\n",
              "        async function quickchart(key) {\n",
              "          const quickchartButtonEl =\n",
              "            document.querySelector('#' + key + ' button');\n",
              "          quickchartButtonEl.disabled = true;  // To prevent multiple clicks.\n",
              "          quickchartButtonEl.classList.add('colab-df-spinner');\n",
              "          try {\n",
              "            const charts = await google.colab.kernel.invokeFunction(\n",
              "                'suggestCharts', [key], {});\n",
              "          } catch (error) {\n",
              "            console.error('Error during call to suggestCharts:', error);\n",
              "          }\n",
              "          quickchartButtonEl.classList.remove('colab-df-spinner');\n",
              "          quickchartButtonEl.classList.add('colab-df-quickchart-complete');\n",
              "        }\n",
              "        (() => {\n",
              "          let quickchartButtonEl =\n",
              "            document.querySelector('#df-80d32ae4-7521-4fff-b0d7-9d6e83359ef4 button');\n",
              "          quickchartButtonEl.style.display =\n",
              "            google.colab.kernel.accessAllowed ? 'block' : 'none';\n",
              "        })();\n",
              "      </script>\n",
              "    </div>\n",
              "\n",
              "    </div>\n",
              "  </div>\n"
            ],
            "application/vnd.google.colaboratory.intrinsic+json": {
              "type": "dataframe",
              "summary": "{\n  \"name\": \"df_winsorized\",\n  \"rows\": 8,\n  \"fields\": [\n    {\n      \"column\": \"price\",\n      \"properties\": {\n        \"dtype\": \"number\",\n        \"std\": 3300056.2277410496,\n        \"min\": 545.0,\n        \"max\": 10850000.0,\n        \"num_unique_values\": 8,\n        \"samples\": [\n          4754367.504587156,\n          4340000.0,\n          545.0\n        ],\n        \"semantic_type\": \"\",\n        \"description\": \"\"\n      }\n    },\n    {\n      \"column\": \"area\",\n      \"properties\": {\n        \"dtype\": \"number\",\n        \"std\": 3833.9318917609676,\n        \"min\": 545.0,\n        \"max\": 12900.0,\n        \"num_unique_values\": 8,\n        \"samples\": [\n          5139.651376146789,\n          4600.0,\n          545.0\n        ],\n        \"semantic_type\": \"\",\n        \"description\": \"\"\n      }\n    },\n    {\n      \"column\": \"bedrooms\",\n      \"properties\": {\n        \"dtype\": \"number\",\n        \"std\": 191.7468538752099,\n        \"min\": 0.7178624503144782,\n        \"max\": 545.0,\n        \"num_unique_values\": 6,\n        \"samples\": [\n          545.0,\n          2.9651376146788992,\n          5.0\n        ],\n        \"semantic_type\": \"\",\n        \"description\": \"\"\n      }\n    },\n    {\n      \"column\": \"bathrooms\",\n      \"properties\": {\n        \"dtype\": \"number\",\n        \"std\": 192.19427211141846,\n        \"min\": 0.4943010350199579,\n        \"max\": 545.0,\n        \"num_unique_values\": 6,\n        \"samples\": [\n          545.0,\n          1.2844036697247707,\n          3.0\n        ],\n        \"semantic_type\": \"\",\n        \"description\": \"\"\n      }\n    },\n    {\n      \"column\": \"stories\",\n      \"properties\": {\n        \"dtype\": \"number\",\n        \"std\": 192.04914398408363,\n        \"min\": 0.8674924629255298,\n        \"max\": 545.0,\n        \"num_unique_values\": 6,\n        \"samples\": [\n          545.0,\n          1.8055045871559634,\n          4.0\n        ],\n        \"semantic_type\": \"\",\n        \"description\": \"\"\n      }\n    },\n    {\n      \"column\": \"parking\",\n      \"properties\": {\n        \"dtype\": \"number\",\n        \"std\": 192.40854964721382,\n        \"min\": 0.0,\n        \"max\": 545.0,\n        \"num_unique_values\": 6,\n        \"samples\": [\n          545.0,\n          0.6935779816513762,\n          3.0\n        ],\n        \"semantic_type\": \"\",\n        \"description\": \"\"\n      }\n    }\n  ]\n}"
            }
          },
          "metadata": {},
          "execution_count": 18
        }
      ]
    },
    {
      "cell_type": "code",
      "source": [
        "import pandas as pd\n",
        "from scipy.stats.mstats import winsorize\n",
        "\n",
        "# Crear copia del DataFrame original\n",
        "df_winsorized = df.copy()\n",
        "\n",
        "# Definir límites: 1% inferior y 1% superior\n",
        "limits = (0.01, 0.01)\n",
        "\n",
        "# Aplicar winsorización a todas las columnas numéricas\n",
        "for col in df.select_dtypes(include='number').columns:\n",
        "    df_winsorized[col] = winsorize(df[col], limits=limits)\n",
        "\n",
        "# Calcular estadísticas descriptivas antes y después\n",
        "desc_before = df.describe().round(2)\n",
        "desc_after = df_winsorized.describe().round(2)\n",
        "\n",
        "# Combinar tablas en un solo DataFrame\n",
        "comparacion = pd.concat([desc_before, desc_after], axis=1, keys=[\"Antes\", \"Después\"])\n",
        "\n",
        "# Mostrar resultados\n",
        "print(\"📊 Comparación estadística descriptiva (Antes vs Después de Winsorización):\")\n",
        "display(comparacion)\n"
      ],
      "metadata": {
        "colab": {
          "base_uri": "https://localhost:8080/",
          "height": 0
        },
        "id": "SQZP0FwfM4pc",
        "outputId": "cf1d5534-aebe-4438-eb11-0a642c01e3f8"
      },
      "execution_count": 19,
      "outputs": [
        {
          "output_type": "stream",
          "name": "stdout",
          "text": [
            "📊 Comparación estadística descriptiva (Antes vs Después de Winsorización):\n"
          ]
        },
        {
          "output_type": "display_data",
          "data": {
            "text/plain": [
              "             Antes                                                  Después  \\\n",
              "             price      area bedrooms bathrooms stories parking       price   \n",
              "count       545.00    545.00   545.00    545.00  545.00  545.00       545.0   \n",
              "mean    4766729.25   5150.54     2.97      1.29    1.81    0.69   4754367.5   \n",
              "std     1870439.62   2170.14     0.74      0.50    0.87    0.86   1819592.5   \n",
              "min     1750000.00   1650.00     1.00      1.00    1.00    0.00   1855000.0   \n",
              "25%     3430000.00   3600.00     2.00      1.00    1.00    0.00   3430000.0   \n",
              "50%     4340000.00   4600.00     3.00      1.00    2.00    0.00   4340000.0   \n",
              "75%     5740000.00   6360.00     3.00      2.00    2.00    1.00   5740000.0   \n",
              "max    13300000.00  16200.00     6.00      4.00    4.00    3.00  10850000.0   \n",
              "\n",
              "                                                    \n",
              "           area bedrooms bathrooms stories parking  \n",
              "count    545.00   545.00    545.00  545.00  545.00  \n",
              "mean    5139.65     2.97      1.28    1.81    0.69  \n",
              "std     2116.06     0.72      0.49    0.87    0.86  \n",
              "min     1950.00     2.00      1.00    1.00    0.00  \n",
              "25%     3600.00     2.00      1.00    1.00    0.00  \n",
              "50%     4600.00     3.00      1.00    2.00    0.00  \n",
              "75%     6360.00     3.00      2.00    2.00    1.00  \n",
              "max    12900.00     5.00      3.00    4.00    3.00  "
            ],
            "text/html": [
              "\n",
              "  <div id=\"df-583a8976-a60a-4f91-be8a-2fc427783391\" class=\"colab-df-container\">\n",
              "    <div>\n",
              "<style scoped>\n",
              "    .dataframe tbody tr th:only-of-type {\n",
              "        vertical-align: middle;\n",
              "    }\n",
              "\n",
              "    .dataframe tbody tr th {\n",
              "        vertical-align: top;\n",
              "    }\n",
              "\n",
              "    .dataframe thead tr th {\n",
              "        text-align: left;\n",
              "    }\n",
              "</style>\n",
              "<table border=\"1\" class=\"dataframe\">\n",
              "  <thead>\n",
              "    <tr>\n",
              "      <th></th>\n",
              "      <th colspan=\"6\" halign=\"left\">Antes</th>\n",
              "      <th colspan=\"6\" halign=\"left\">Después</th>\n",
              "    </tr>\n",
              "    <tr>\n",
              "      <th></th>\n",
              "      <th>price</th>\n",
              "      <th>area</th>\n",
              "      <th>bedrooms</th>\n",
              "      <th>bathrooms</th>\n",
              "      <th>stories</th>\n",
              "      <th>parking</th>\n",
              "      <th>price</th>\n",
              "      <th>area</th>\n",
              "      <th>bedrooms</th>\n",
              "      <th>bathrooms</th>\n",
              "      <th>stories</th>\n",
              "      <th>parking</th>\n",
              "    </tr>\n",
              "  </thead>\n",
              "  <tbody>\n",
              "    <tr>\n",
              "      <th>count</th>\n",
              "      <td>545.00</td>\n",
              "      <td>545.00</td>\n",
              "      <td>545.00</td>\n",
              "      <td>545.00</td>\n",
              "      <td>545.00</td>\n",
              "      <td>545.00</td>\n",
              "      <td>545.0</td>\n",
              "      <td>545.00</td>\n",
              "      <td>545.00</td>\n",
              "      <td>545.00</td>\n",
              "      <td>545.00</td>\n",
              "      <td>545.00</td>\n",
              "    </tr>\n",
              "    <tr>\n",
              "      <th>mean</th>\n",
              "      <td>4766729.25</td>\n",
              "      <td>5150.54</td>\n",
              "      <td>2.97</td>\n",
              "      <td>1.29</td>\n",
              "      <td>1.81</td>\n",
              "      <td>0.69</td>\n",
              "      <td>4754367.5</td>\n",
              "      <td>5139.65</td>\n",
              "      <td>2.97</td>\n",
              "      <td>1.28</td>\n",
              "      <td>1.81</td>\n",
              "      <td>0.69</td>\n",
              "    </tr>\n",
              "    <tr>\n",
              "      <th>std</th>\n",
              "      <td>1870439.62</td>\n",
              "      <td>2170.14</td>\n",
              "      <td>0.74</td>\n",
              "      <td>0.50</td>\n",
              "      <td>0.87</td>\n",
              "      <td>0.86</td>\n",
              "      <td>1819592.5</td>\n",
              "      <td>2116.06</td>\n",
              "      <td>0.72</td>\n",
              "      <td>0.49</td>\n",
              "      <td>0.87</td>\n",
              "      <td>0.86</td>\n",
              "    </tr>\n",
              "    <tr>\n",
              "      <th>min</th>\n",
              "      <td>1750000.00</td>\n",
              "      <td>1650.00</td>\n",
              "      <td>1.00</td>\n",
              "      <td>1.00</td>\n",
              "      <td>1.00</td>\n",
              "      <td>0.00</td>\n",
              "      <td>1855000.0</td>\n",
              "      <td>1950.00</td>\n",
              "      <td>2.00</td>\n",
              "      <td>1.00</td>\n",
              "      <td>1.00</td>\n",
              "      <td>0.00</td>\n",
              "    </tr>\n",
              "    <tr>\n",
              "      <th>25%</th>\n",
              "      <td>3430000.00</td>\n",
              "      <td>3600.00</td>\n",
              "      <td>2.00</td>\n",
              "      <td>1.00</td>\n",
              "      <td>1.00</td>\n",
              "      <td>0.00</td>\n",
              "      <td>3430000.0</td>\n",
              "      <td>3600.00</td>\n",
              "      <td>2.00</td>\n",
              "      <td>1.00</td>\n",
              "      <td>1.00</td>\n",
              "      <td>0.00</td>\n",
              "    </tr>\n",
              "    <tr>\n",
              "      <th>50%</th>\n",
              "      <td>4340000.00</td>\n",
              "      <td>4600.00</td>\n",
              "      <td>3.00</td>\n",
              "      <td>1.00</td>\n",
              "      <td>2.00</td>\n",
              "      <td>0.00</td>\n",
              "      <td>4340000.0</td>\n",
              "      <td>4600.00</td>\n",
              "      <td>3.00</td>\n",
              "      <td>1.00</td>\n",
              "      <td>2.00</td>\n",
              "      <td>0.00</td>\n",
              "    </tr>\n",
              "    <tr>\n",
              "      <th>75%</th>\n",
              "      <td>5740000.00</td>\n",
              "      <td>6360.00</td>\n",
              "      <td>3.00</td>\n",
              "      <td>2.00</td>\n",
              "      <td>2.00</td>\n",
              "      <td>1.00</td>\n",
              "      <td>5740000.0</td>\n",
              "      <td>6360.00</td>\n",
              "      <td>3.00</td>\n",
              "      <td>2.00</td>\n",
              "      <td>2.00</td>\n",
              "      <td>1.00</td>\n",
              "    </tr>\n",
              "    <tr>\n",
              "      <th>max</th>\n",
              "      <td>13300000.00</td>\n",
              "      <td>16200.00</td>\n",
              "      <td>6.00</td>\n",
              "      <td>4.00</td>\n",
              "      <td>4.00</td>\n",
              "      <td>3.00</td>\n",
              "      <td>10850000.0</td>\n",
              "      <td>12900.00</td>\n",
              "      <td>5.00</td>\n",
              "      <td>3.00</td>\n",
              "      <td>4.00</td>\n",
              "      <td>3.00</td>\n",
              "    </tr>\n",
              "  </tbody>\n",
              "</table>\n",
              "</div>\n",
              "    <div class=\"colab-df-buttons\">\n",
              "\n",
              "  <div class=\"colab-df-container\">\n",
              "    <button class=\"colab-df-convert\" onclick=\"convertToInteractive('df-583a8976-a60a-4f91-be8a-2fc427783391')\"\n",
              "            title=\"Convert this dataframe to an interactive table.\"\n",
              "            style=\"display:none;\">\n",
              "\n",
              "  <svg xmlns=\"http://www.w3.org/2000/svg\" height=\"24px\" viewBox=\"0 -960 960 960\">\n",
              "    <path d=\"M120-120v-720h720v720H120Zm60-500h600v-160H180v160Zm220 220h160v-160H400v160Zm0 220h160v-160H400v160ZM180-400h160v-160H180v160Zm440 0h160v-160H620v160ZM180-180h160v-160H180v160Zm440 0h160v-160H620v160Z\"/>\n",
              "  </svg>\n",
              "    </button>\n",
              "\n",
              "  <style>\n",
              "    .colab-df-container {\n",
              "      display:flex;\n",
              "      gap: 12px;\n",
              "    }\n",
              "\n",
              "    .colab-df-convert {\n",
              "      background-color: #E8F0FE;\n",
              "      border: none;\n",
              "      border-radius: 50%;\n",
              "      cursor: pointer;\n",
              "      display: none;\n",
              "      fill: #1967D2;\n",
              "      height: 32px;\n",
              "      padding: 0 0 0 0;\n",
              "      width: 32px;\n",
              "    }\n",
              "\n",
              "    .colab-df-convert:hover {\n",
              "      background-color: #E2EBFA;\n",
              "      box-shadow: 0px 1px 2px rgba(60, 64, 67, 0.3), 0px 1px 3px 1px rgba(60, 64, 67, 0.15);\n",
              "      fill: #174EA6;\n",
              "    }\n",
              "\n",
              "    .colab-df-buttons div {\n",
              "      margin-bottom: 4px;\n",
              "    }\n",
              "\n",
              "    [theme=dark] .colab-df-convert {\n",
              "      background-color: #3B4455;\n",
              "      fill: #D2E3FC;\n",
              "    }\n",
              "\n",
              "    [theme=dark] .colab-df-convert:hover {\n",
              "      background-color: #434B5C;\n",
              "      box-shadow: 0px 1px 3px 1px rgba(0, 0, 0, 0.15);\n",
              "      filter: drop-shadow(0px 1px 2px rgba(0, 0, 0, 0.3));\n",
              "      fill: #FFFFFF;\n",
              "    }\n",
              "  </style>\n",
              "\n",
              "    <script>\n",
              "      const buttonEl =\n",
              "        document.querySelector('#df-583a8976-a60a-4f91-be8a-2fc427783391 button.colab-df-convert');\n",
              "      buttonEl.style.display =\n",
              "        google.colab.kernel.accessAllowed ? 'block' : 'none';\n",
              "\n",
              "      async function convertToInteractive(key) {\n",
              "        const element = document.querySelector('#df-583a8976-a60a-4f91-be8a-2fc427783391');\n",
              "        const dataTable =\n",
              "          await google.colab.kernel.invokeFunction('convertToInteractive',\n",
              "                                                    [key], {});\n",
              "        if (!dataTable) return;\n",
              "\n",
              "        const docLinkHtml = 'Like what you see? Visit the ' +\n",
              "          '<a target=\"_blank\" href=https://colab.research.google.com/notebooks/data_table.ipynb>data table notebook</a>'\n",
              "          + ' to learn more about interactive tables.';\n",
              "        element.innerHTML = '';\n",
              "        dataTable['output_type'] = 'display_data';\n",
              "        await google.colab.output.renderOutput(dataTable, element);\n",
              "        const docLink = document.createElement('div');\n",
              "        docLink.innerHTML = docLinkHtml;\n",
              "        element.appendChild(docLink);\n",
              "      }\n",
              "    </script>\n",
              "  </div>\n",
              "\n",
              "\n",
              "    <div id=\"df-f7d7ec57-7552-4683-bc83-308d8a597dc2\">\n",
              "      <button class=\"colab-df-quickchart\" onclick=\"quickchart('df-f7d7ec57-7552-4683-bc83-308d8a597dc2')\"\n",
              "                title=\"Suggest charts\"\n",
              "                style=\"display:none;\">\n",
              "\n",
              "<svg xmlns=\"http://www.w3.org/2000/svg\" height=\"24px\"viewBox=\"0 0 24 24\"\n",
              "     width=\"24px\">\n",
              "    <g>\n",
              "        <path d=\"M19 3H5c-1.1 0-2 .9-2 2v14c0 1.1.9 2 2 2h14c1.1 0 2-.9 2-2V5c0-1.1-.9-2-2-2zM9 17H7v-7h2v7zm4 0h-2V7h2v10zm4 0h-2v-4h2v4z\"/>\n",
              "    </g>\n",
              "</svg>\n",
              "      </button>\n",
              "\n",
              "<style>\n",
              "  .colab-df-quickchart {\n",
              "      --bg-color: #E8F0FE;\n",
              "      --fill-color: #1967D2;\n",
              "      --hover-bg-color: #E2EBFA;\n",
              "      --hover-fill-color: #174EA6;\n",
              "      --disabled-fill-color: #AAA;\n",
              "      --disabled-bg-color: #DDD;\n",
              "  }\n",
              "\n",
              "  [theme=dark] .colab-df-quickchart {\n",
              "      --bg-color: #3B4455;\n",
              "      --fill-color: #D2E3FC;\n",
              "      --hover-bg-color: #434B5C;\n",
              "      --hover-fill-color: #FFFFFF;\n",
              "      --disabled-bg-color: #3B4455;\n",
              "      --disabled-fill-color: #666;\n",
              "  }\n",
              "\n",
              "  .colab-df-quickchart {\n",
              "    background-color: var(--bg-color);\n",
              "    border: none;\n",
              "    border-radius: 50%;\n",
              "    cursor: pointer;\n",
              "    display: none;\n",
              "    fill: var(--fill-color);\n",
              "    height: 32px;\n",
              "    padding: 0;\n",
              "    width: 32px;\n",
              "  }\n",
              "\n",
              "  .colab-df-quickchart:hover {\n",
              "    background-color: var(--hover-bg-color);\n",
              "    box-shadow: 0 1px 2px rgba(60, 64, 67, 0.3), 0 1px 3px 1px rgba(60, 64, 67, 0.15);\n",
              "    fill: var(--button-hover-fill-color);\n",
              "  }\n",
              "\n",
              "  .colab-df-quickchart-complete:disabled,\n",
              "  .colab-df-quickchart-complete:disabled:hover {\n",
              "    background-color: var(--disabled-bg-color);\n",
              "    fill: var(--disabled-fill-color);\n",
              "    box-shadow: none;\n",
              "  }\n",
              "\n",
              "  .colab-df-spinner {\n",
              "    border: 2px solid var(--fill-color);\n",
              "    border-color: transparent;\n",
              "    border-bottom-color: var(--fill-color);\n",
              "    animation:\n",
              "      spin 1s steps(1) infinite;\n",
              "  }\n",
              "\n",
              "  @keyframes spin {\n",
              "    0% {\n",
              "      border-color: transparent;\n",
              "      border-bottom-color: var(--fill-color);\n",
              "      border-left-color: var(--fill-color);\n",
              "    }\n",
              "    20% {\n",
              "      border-color: transparent;\n",
              "      border-left-color: var(--fill-color);\n",
              "      border-top-color: var(--fill-color);\n",
              "    }\n",
              "    30% {\n",
              "      border-color: transparent;\n",
              "      border-left-color: var(--fill-color);\n",
              "      border-top-color: var(--fill-color);\n",
              "      border-right-color: var(--fill-color);\n",
              "    }\n",
              "    40% {\n",
              "      border-color: transparent;\n",
              "      border-right-color: var(--fill-color);\n",
              "      border-top-color: var(--fill-color);\n",
              "    }\n",
              "    60% {\n",
              "      border-color: transparent;\n",
              "      border-right-color: var(--fill-color);\n",
              "    }\n",
              "    80% {\n",
              "      border-color: transparent;\n",
              "      border-right-color: var(--fill-color);\n",
              "      border-bottom-color: var(--fill-color);\n",
              "    }\n",
              "    90% {\n",
              "      border-color: transparent;\n",
              "      border-bottom-color: var(--fill-color);\n",
              "    }\n",
              "  }\n",
              "</style>\n",
              "\n",
              "      <script>\n",
              "        async function quickchart(key) {\n",
              "          const quickchartButtonEl =\n",
              "            document.querySelector('#' + key + ' button');\n",
              "          quickchartButtonEl.disabled = true;  // To prevent multiple clicks.\n",
              "          quickchartButtonEl.classList.add('colab-df-spinner');\n",
              "          try {\n",
              "            const charts = await google.colab.kernel.invokeFunction(\n",
              "                'suggestCharts', [key], {});\n",
              "          } catch (error) {\n",
              "            console.error('Error during call to suggestCharts:', error);\n",
              "          }\n",
              "          quickchartButtonEl.classList.remove('colab-df-spinner');\n",
              "          quickchartButtonEl.classList.add('colab-df-quickchart-complete');\n",
              "        }\n",
              "        (() => {\n",
              "          let quickchartButtonEl =\n",
              "            document.querySelector('#df-f7d7ec57-7552-4683-bc83-308d8a597dc2 button');\n",
              "          quickchartButtonEl.style.display =\n",
              "            google.colab.kernel.accessAllowed ? 'block' : 'none';\n",
              "        })();\n",
              "      </script>\n",
              "    </div>\n",
              "\n",
              "  <div id=\"id_c3d6d2bc-9868-498d-8c4e-2b8a410b96df\">\n",
              "    <style>\n",
              "      .colab-df-generate {\n",
              "        background-color: #E8F0FE;\n",
              "        border: none;\n",
              "        border-radius: 50%;\n",
              "        cursor: pointer;\n",
              "        display: none;\n",
              "        fill: #1967D2;\n",
              "        height: 32px;\n",
              "        padding: 0 0 0 0;\n",
              "        width: 32px;\n",
              "      }\n",
              "\n",
              "      .colab-df-generate:hover {\n",
              "        background-color: #E2EBFA;\n",
              "        box-shadow: 0px 1px 2px rgba(60, 64, 67, 0.3), 0px 1px 3px 1px rgba(60, 64, 67, 0.15);\n",
              "        fill: #174EA6;\n",
              "      }\n",
              "\n",
              "      [theme=dark] .colab-df-generate {\n",
              "        background-color: #3B4455;\n",
              "        fill: #D2E3FC;\n",
              "      }\n",
              "\n",
              "      [theme=dark] .colab-df-generate:hover {\n",
              "        background-color: #434B5C;\n",
              "        box-shadow: 0px 1px 3px 1px rgba(0, 0, 0, 0.15);\n",
              "        filter: drop-shadow(0px 1px 2px rgba(0, 0, 0, 0.3));\n",
              "        fill: #FFFFFF;\n",
              "      }\n",
              "    </style>\n",
              "    <button class=\"colab-df-generate\" onclick=\"generateWithVariable('comparacion')\"\n",
              "            title=\"Generate code using this dataframe.\"\n",
              "            style=\"display:none;\">\n",
              "\n",
              "  <svg xmlns=\"http://www.w3.org/2000/svg\" height=\"24px\"viewBox=\"0 0 24 24\"\n",
              "       width=\"24px\">\n",
              "    <path d=\"M7,19H8.4L18.45,9,17,7.55,7,17.6ZM5,21V16.75L18.45,3.32a2,2,0,0,1,2.83,0l1.4,1.43a1.91,1.91,0,0,1,.58,1.4,1.91,1.91,0,0,1-.58,1.4L9.25,21ZM18.45,9,17,7.55Zm-12,3A5.31,5.31,0,0,0,4.9,8.1,5.31,5.31,0,0,0,1,6.5,5.31,5.31,0,0,0,4.9,4.9,5.31,5.31,0,0,0,6.5,1,5.31,5.31,0,0,0,8.1,4.9,5.31,5.31,0,0,0,12,6.5,5.46,5.46,0,0,0,6.5,12Z\"/>\n",
              "  </svg>\n",
              "    </button>\n",
              "    <script>\n",
              "      (() => {\n",
              "      const buttonEl =\n",
              "        document.querySelector('#id_c3d6d2bc-9868-498d-8c4e-2b8a410b96df button.colab-df-generate');\n",
              "      buttonEl.style.display =\n",
              "        google.colab.kernel.accessAllowed ? 'block' : 'none';\n",
              "\n",
              "      buttonEl.onclick = () => {\n",
              "        google.colab.notebook.generateWithVariable('comparacion');\n",
              "      }\n",
              "      })();\n",
              "    </script>\n",
              "  </div>\n",
              "\n",
              "    </div>\n",
              "  </div>\n"
            ],
            "application/vnd.google.colaboratory.intrinsic+json": {
              "type": "dataframe",
              "variable_name": "comparacion",
              "summary": "{\n  \"name\": \"comparacion\",\n  \"rows\": 8,\n  \"fields\": [\n    {\n      \"column\": [\n        \"Antes\",\n        \"price\"\n      ],\n      \"properties\": {\n        \"dtype\": \"number\",\n        \"std\": 4050766.5888710413,\n        \"min\": 545.0,\n        \"max\": 13300000.0,\n        \"num_unique_values\": 8,\n        \"samples\": [\n          4766729.25,\n          4340000.0,\n          545.0\n        ],\n        \"semantic_type\": \"\",\n        \"description\": \"\"\n      }\n    },\n    {\n      \"column\": [\n        \"Antes\",\n        \"area\"\n      ],\n      \"properties\": {\n        \"dtype\": \"number\",\n        \"std\": 4906.269967797766,\n        \"min\": 545.0,\n        \"max\": 16200.0,\n        \"num_unique_values\": 8,\n        \"samples\": [\n          5150.54,\n          4600.0,\n          545.0\n        ],\n        \"semantic_type\": \"\",\n        \"description\": \"\"\n      }\n    },\n    {\n      \"column\": [\n        \"Antes\",\n        \"bedrooms\"\n      ],\n      \"properties\": {\n        \"dtype\": \"number\",\n        \"std\": 191.74843936317782,\n        \"min\": 0.74,\n        \"max\": 545.0,\n        \"num_unique_values\": 7,\n        \"samples\": [\n          545.0,\n          2.97,\n          3.0\n        ],\n        \"semantic_type\": \"\",\n        \"description\": \"\"\n      }\n    },\n    {\n      \"column\": [\n        \"Antes\",\n        \"bathrooms\"\n      ],\n      \"properties\": {\n        \"dtype\": \"number\",\n        \"std\": 192.14469941296846,\n        \"min\": 0.5,\n        \"max\": 545.0,\n        \"num_unique_values\": 6,\n        \"samples\": [\n          545.0,\n          1.29,\n          4.0\n        ],\n        \"semantic_type\": \"\",\n        \"description\": \"\"\n      }\n    },\n    {\n      \"column\": [\n        \"Antes\",\n        \"stories\"\n      ],\n      \"properties\": {\n        \"dtype\": \"number\",\n        \"std\": 192.0487885185131,\n        \"min\": 0.87,\n        \"max\": 545.0,\n        \"num_unique_values\": 6,\n        \"samples\": [\n          545.0,\n          1.81,\n          4.0\n        ],\n        \"semantic_type\": \"\",\n        \"description\": \"\"\n      }\n    },\n    {\n      \"column\": [\n        \"Antes\",\n        \"parking\"\n      ],\n      \"properties\": {\n        \"dtype\": \"number\",\n        \"std\": 192.4088106415608,\n        \"min\": 0.0,\n        \"max\": 545.0,\n        \"num_unique_values\": 6,\n        \"samples\": [\n          545.0,\n          0.69,\n          3.0\n        ],\n        \"semantic_type\": \"\",\n        \"description\": \"\"\n      }\n    },\n    {\n      \"column\": [\n        \"Despu\\u00e9s\",\n        \"price\"\n      ],\n      \"properties\": {\n        \"dtype\": \"number\",\n        \"std\": 3300056.227226815,\n        \"min\": 545.0,\n        \"max\": 10850000.0,\n        \"num_unique_values\": 8,\n        \"samples\": [\n          4754367.5,\n          4340000.0,\n          545.0\n        ],\n        \"semantic_type\": \"\",\n        \"description\": \"\"\n      }\n    },\n    {\n      \"column\": [\n        \"Despu\\u00e9s\",\n        \"area\"\n      ],\n      \"properties\": {\n        \"dtype\": \"number\",\n        \"std\": 3833.9315834883705,\n        \"min\": 545.0,\n        \"max\": 12900.0,\n        \"num_unique_values\": 8,\n        \"samples\": [\n          5139.65,\n          4600.0,\n          545.0\n        ],\n        \"semantic_type\": \"\",\n        \"description\": \"\"\n      }\n    },\n    {\n      \"column\": [\n        \"Despu\\u00e9s\",\n        \"bedrooms\"\n      ],\n      \"properties\": {\n        \"dtype\": \"number\",\n        \"std\": 191.74649830570573,\n        \"min\": 0.72,\n        \"max\": 545.0,\n        \"num_unique_values\": 6,\n        \"samples\": [\n          545.0,\n          2.97,\n          5.0\n        ],\n        \"semantic_type\": \"\",\n        \"description\": \"\"\n      }\n    },\n    {\n      \"column\": [\n        \"Despu\\u00e9s\",\n        \"bathrooms\"\n      ],\n      \"properties\": {\n        \"dtype\": \"number\",\n        \"std\": 192.1947150260084,\n        \"min\": 0.49,\n        \"max\": 545.0,\n        \"num_unique_values\": 6,\n        \"samples\": [\n          545.0,\n          1.28,\n          3.0\n        ],\n        \"semantic_type\": \"\",\n        \"description\": \"\"\n      }\n    },\n    {\n      \"column\": [\n        \"Despu\\u00e9s\",\n        \"stories\"\n      ],\n      \"properties\": {\n        \"dtype\": \"number\",\n        \"std\": 192.0487885185131,\n        \"min\": 0.87,\n        \"max\": 545.0,\n        \"num_unique_values\": 6,\n        \"samples\": [\n          545.0,\n          1.81,\n          4.0\n        ],\n        \"semantic_type\": \"\",\n        \"description\": \"\"\n      }\n    },\n    {\n      \"column\": [\n        \"Despu\\u00e9s\",\n        \"parking\"\n      ],\n      \"properties\": {\n        \"dtype\": \"number\",\n        \"std\": 192.4088106415608,\n        \"min\": 0.0,\n        \"max\": 545.0,\n        \"num_unique_values\": 6,\n        \"samples\": [\n          545.0,\n          0.69,\n          3.0\n        ],\n        \"semantic_type\": \"\",\n        \"description\": \"\"\n      }\n    }\n  ]\n}"
            }
          },
          "metadata": {}
        }
      ]
    },
    {
      "cell_type": "markdown",
      "source": [
        "🔍 Principales observaciones:\n",
        "* price y area:\n",
        "Se redujo el mínimo y se ajustó el máximo, lo cual redujo la desviación estándar (menos dispersión).\n",
        "\n",
        "* bedrooms, bathrooms, stories, parking:\n",
        "Cambios leves, pero el efecto más notable es en los extremos (min, max) y la desviación estándar, que tiende a bajar.\n",
        "\n",
        "✅ Conclusión:\n",
        "La winsorización logró estabilizar la variabilidad y reducir el impacto de valores extremos. Estrategia útil para preparar el dataset antes de entrenar un modelo sensible como la regresión lineal."
      ],
      "metadata": {
        "id": "D78vGayPNKWi"
      }
    },
    {
      "cell_type": "markdown",
      "source": [
        "##### 4.3.5 Evalúacion de la utilidad de las variables categóricas"
      ],
      "metadata": {
        "id": "dG8QqvTaNbO4"
      }
    },
    {
      "cell_type": "code",
      "source": [
        "#¿Las variables categóricas podrían aportar explicación a la variable price?\""
      ],
      "metadata": {
        "id": "W9f5vKRnN6_4"
      },
      "execution_count": 20,
      "outputs": []
    },
    {
      "cell_type": "code",
      "source": [
        "# Se revisa la cantidad de eventos y el tipo de variable.\n",
        "df.info()"
      ],
      "metadata": {
        "colab": {
          "base_uri": "https://localhost:8080/"
        },
        "id": "Zy-OO-Tnz4rJ",
        "outputId": "3909f49d-801b-42da-ca58-54ab33ad811f"
      },
      "execution_count": 24,
      "outputs": [
        {
          "output_type": "stream",
          "name": "stdout",
          "text": [
            "<class 'pandas.core.frame.DataFrame'>\n",
            "RangeIndex: 545 entries, 0 to 544\n",
            "Data columns (total 9 columns):\n",
            " #   Column           Non-Null Count  Dtype   \n",
            "---  ------           --------------  -----   \n",
            " 0   price            545 non-null    int64   \n",
            " 1   area             545 non-null    int64   \n",
            " 2   bedrooms         545 non-null    int64   \n",
            " 3   bathrooms        545 non-null    int64   \n",
            " 4   stories          545 non-null    int64   \n",
            " 5   guestroom        545 non-null    category\n",
            " 6   hotwaterheating  545 non-null    category\n",
            " 7   airconditioning  545 non-null    category\n",
            " 8   parking          545 non-null    int64   \n",
            "dtypes: category(3), int64(6)\n",
            "memory usage: 27.6 KB\n"
          ]
        }
      ]
    },
    {
      "cell_type": "code",
      "source": [
        "import matplotlib.pyplot as plt\n",
        "import seaborn as sns"
      ],
      "metadata": {
        "id": "QnVxJonkMHaE"
      },
      "execution_count": null,
      "outputs": []
    },
    {
      "cell_type": "code",
      "source": [
        "import warnings\n",
        "warnings.filterwarnings(\"ignore\", category=FutureWarning)"
      ],
      "metadata": {
        "id": "4qyZjxFxPP7k"
      },
      "execution_count": 21,
      "outputs": []
    },
    {
      "cell_type": "code",
      "source": [
        "# Se lista de variables categóricas\n",
        "categorical_columns = ['guestroom', 'hotwaterheating', 'airconditioning']\n",
        "\n",
        "# Se crean figura con subplots (1 fila, 3 columnas)\n",
        "fig, axes = plt.subplots(nrows=1, ncols=3, figsize=(18, 5))\n",
        "\n",
        "# Se Generan boxplots en cada subplot\n",
        "for i, col in enumerate(categorical_columns):\n",
        "    sns.boxplot(x=col, y='price', data=df, ax=axes[i], palette='Set2')\n",
        "    axes[i].set_title(f'Precio según {col}')\n",
        "    axes[i].set_xlabel(col)\n",
        "    axes[i].set_ylabel('Precio')\n",
        "    axes[i].grid(True)\n",
        "\n",
        "# Se ajusta espacios\n",
        "plt.tight_layout()\n",
        "plt.show()\n"
      ],
      "metadata": {
        "colab": {
          "base_uri": "https://localhost:8080/",
          "height": 301
        },
        "id": "_4nGbIyRO4pm",
        "outputId": "31c2ab13-01d0-4ee4-fc29-e557120ad4fd"
      },
      "execution_count": 22,
      "outputs": [
        {
          "output_type": "display_data",
          "data": {
            "text/plain": [
              "<Figure size 1800x500 with 3 Axes>"
            ],
            "image/png": "[encoded data removed]"
          },
          "metadata": {}
        }
      ]
    },
    {
      "cell_type": "code",
      "source": [
        "# Análisis: medias de precio por categoría\n",
        "print(\"📊 Precio promedio por categoría:\\n\")\n",
        "for col in categorical_columns:\n",
        "    means = df.groupby(col)['price'].mean().round(0)\n",
        "    print(f\"{col}:\\n{means}\\n\")\n"
      ],
      "metadata": {
        "colab": {
          "base_uri": "https://localhost:8080/"
        },
        "id": "HZadHf3lOhRX",
        "outputId": "ebd92ac9-71d8-4b3d-93cd-de36e301679c"
      },
      "execution_count": 23,
      "outputs": [
        {
          "output_type": "stream",
          "name": "stdout",
          "text": [
            "📊 Precio promedio por categoría:\n",
            "\n",
            "guestroom:\n",
            "guestroom\n",
            "no     4544546.0\n",
            "yes    5792897.0\n",
            "Name: price, dtype: float64\n",
            "\n",
            "hotwaterheating:\n",
            "hotwaterheating\n",
            "no     4728593.0\n",
            "yes    5559960.0\n",
            "Name: price, dtype: float64\n",
            "\n",
            "airconditioning:\n",
            "airconditioning\n",
            "no     4191940.0\n",
            "yes    6013221.0\n",
            "Name: price, dtype: float64\n",
            "\n"
          ]
        }
      ]
    },
    {
      "cell_type": "markdown",
      "source": [
        "📊 Resultados:\n",
        "\n",
        "1. guestroom / Aumenta más de 1,2 millones si hay cuarto de invitados.\n",
        "* Precio promedio con:\n",
        " * no → $4.544.546\n",
        "\n",
        " * yes → $5.792.897\n",
        "\n",
        "\n",
        "\n",
        "2. hotwaterheating / Diferencia importante, aunque la categoría \"yes\" puede ser menos frecuente.\n",
        "* Precio promedio con:\n",
        " * no → $4.728.593\n",
        "\n",
        " * yes → $5.559.960\n",
        "\n",
        "\n",
        "\n",
        "3. airconditioning / El aire acondicionado parece tener un gran impacto en el precio.\n",
        "* Precio promedio con:\n",
        " * no → $4.191.940\n",
        "\n",
        " * yes → $6.013.221\n",
        "\n",
        "\n",
        "\n",
        "✅ Con base en estos datos, las tres variables seran incluidas en el modelo\n",
        "\n",
        "\n"
      ],
      "metadata": {
        "id": "zjHt-opAP0RX"
      }
    },
    {
      "cell_type": "markdown",
      "source": [
        "### 📊 Fase 6: División train/test y Normalizacion.\n",
        "\n",
        "* ✅ 6.1 División train/test..\n",
        "* ✅ 6.2 Normalizacion train/test."
      ],
      "metadata": {
        "id": "UzoH390lnCFW"
      }
    },
    {
      "cell_type": "markdown",
      "source": [
        "#### Paso 6.1 División train/test."
      ],
      "metadata": {
        "id": "lAQtDPJDUt14"
      }
    },
    {
      "cell_type": "code",
      "source": [
        "# Se codificara las variables categóricas usando one-hot encoding\n",
        "df_encoded = pd.get_dummies(df_winsorized, columns=categorical_cols, drop_first=True)\n",
        "\n",
        "# Se asigna el DataFrame procesado a df_final\n",
        "df_final = df_encoded\n",
        "\n",
        "# Ahora se procede con la división train/test y el escalado\n",
        "from sklearn.model_selection import train_test_split\n",
        "from sklearn.preprocessing import StandardScaler"
      ],
      "metadata": {
        "id": "4ibfCCcvUbFD"
      },
      "execution_count": 28,
      "outputs": []
    },
    {
      "cell_type": "code",
      "source": [
        "# Se Separa X (variables predictoras) e y (variable objetivo)\n",
        "X = df_final.drop('price', axis=1)\n",
        "y = df_final['price']\n",
        "\n",
        "# Se divide el conjunto en entrenamiento y prueba (80% train, 20% test)\n",
        "X_train, X_test, y_train, y_test = train_test_split(\n",
        "    X, y, test_size=0.2, random_state=42\n",
        ")"
      ],
      "metadata": {
        "id": "Hsa99e8nnouz"
      },
      "execution_count": 29,
      "outputs": []
    },
    {
      "cell_type": "markdown",
      "source": [
        "#### Paso 6.2 Normalizacion train/test."
      ],
      "metadata": {
        "id": "5fr8wZASUzHm"
      }
    },
    {
      "cell_type": "code",
      "source": [
        "# Aplico el escalador estándar\n",
        "scaler = StandardScaler()\n",
        "\n",
        "# Se ajustan el escalador con los datos de entrenamiento y se transforma\n",
        "X_train_scaled = scaler.fit_transform(X_train)\n",
        "\n",
        "# Transformamos también el conjunto de prueba con el mismo escalador\n",
        "X_test_scaled = scaler.transform(X_test)\n",
        "\n",
        "# Se Verifica las dimensiones de salida\n",
        "print(\"✅ Conjuntos escalados correctamente:\")\n",
        "print(\"X_train_scaled:\", X_train_scaled.shape)\n",
        "print(\"X_test_scaled:\", X_test_scaled.shape)\n",
        "print(\"y_train:\", y_train.shape)\n",
        "print(\"y_test:\", y_test.shape)"
      ],
      "metadata": {
        "colab": {
          "base_uri": "https://localhost:8080/"
        },
        "id": "gG1Y4Cv_UUBQ",
        "outputId": "5fb40633-a9df-454c-a99b-6de869e773b8"
      },
      "execution_count": 30,
      "outputs": [
        {
          "output_type": "stream",
          "name": "stdout",
          "text": [
            "✅ Conjuntos escalados correctamente:\n",
            "X_train_scaled: (436, 8)\n",
            "X_test_scaled: (109, 8)\n",
            "y_train: (436,)\n",
            "y_test: (109,)\n"
          ]
        }
      ]
    },
    {
      "cell_type": "markdown",
      "source": [
        "### 📊 Paso 7: Entrenamiento del modelo.\n",
        "\n",
        "* ✅ 7.1 Crear y entrenar el modelo de regresión lineal."
      ],
      "metadata": {
        "id": "DlCYsiu2nC9p"
      }
    },
    {
      "cell_type": "code",
      "source": [
        "from sklearn.linear_model import LinearRegression\n",
        "\n",
        "# Crear y entrenar el modelo de regresión lineal\n",
        "model = LinearRegression()\n",
        "model.fit(X_train_scaled, y_train)\n",
        "\n",
        "# Predecir con el conjunto de prueba\n",
        "y_pred = model.predict(X_test_scaled)\n"
      ],
      "metadata": {
        "id": "6QeGQGdUgc1Y"
      },
      "execution_count": 35,
      "outputs": []
    },
    {
      "cell_type": "markdown",
      "source": [
        "### 📊 Paso 8: Evaluación del modelo.\n",
        "\n",
        "* ✅ 8.1 Calculo de métricas y resultados.\n",
        "* ✅ 8.2 Visualización del modelo: Real vs.Predicho.\n",
        "* ✅ 8.3 Calculo de coeficientes del modelo."
      ],
      "metadata": {
        "id": "Xk_vOPxznChy"
      }
    },
    {
      "cell_type": "markdown",
      "source": [
        "#### 8.1 Calculo de métricas y resultados."
      ],
      "metadata": {
        "id": "5NnslR_topp_"
      }
    },
    {
      "cell_type": "code",
      "source": [
        "import numpy as np\n",
        "from sklearn.metrics import mean_absolute_error, mean_squared_error, r2_score\n",
        "import matplotlib.pyplot as plt\n",
        "import seaborn as sns\n",
        "import pandas as pd"
      ],
      "metadata": {
        "id": "7IOaKpJzMmyR"
      },
      "execution_count": null,
      "outputs": []
    },
    {
      "cell_type": "code",
      "source": [
        "# Se Calculan métricas\n",
        "mae = mean_absolute_error(y_test, y_pred)\n",
        "mse = mean_squared_error(y_test, y_pred)\n",
        "rmse = np.sqrt(mse)\n",
        "r2 = r2_score(y_test, y_pred)"
      ],
      "metadata": {
        "colab": {
          "base_uri": "https://localhost:8080/"
        },
        "id": "7pemJeDuoFLm",
        "outputId": "624b271f-169a-482e-b36e-84764cd02a3d"
      },
      "execution_count": 37,
      "outputs": [
        {
          "output_type": "stream",
          "name": "stdout",
          "text": [
            "📊 Evaluación del Modelo:\n",
            "MAE  (Error Absoluto Medio):        $983,495.08\n",
            "MSE  (Error Cuadrático Medio):      $1,638,501,954,266.17\n",
            "RMSE (Raíz del Error Cuadrático):   $1,280,039.83\n",
            "R²   (Coeficiente de determinación): 0.6406\n"
          ]
        }
      ]
    },
    {
      "cell_type": "code",
      "source": [
        "# Mostramos los resultados\n",
        "print(\"📊 Evaluación del Modelo:\")\n",
        "print(f\"MAE  (Error Absoluto Medio):        ${mae:,.2f}\")\n",
        "print(f\"MSE  (Error Cuadrático Medio):      ${mse:,.2f}\")\n",
        "print(f\"RMSE (Raíz del Error Cuadrático):   ${rmse:,.2f}\")\n",
        "print(f\"R²   (Coeficiente de determinación): {r2:.4f}\")"
      ],
      "metadata": {
        "colab": {
          "base_uri": "https://localhost:8080/"
        },
        "id": "OVJfD1ijMukt",
        "outputId": "33dac768-31ad-40bc-c619-49bb097baa5e"
      },
      "execution_count": 43,
      "outputs": [
        {
          "output_type": "stream",
          "name": "stdout",
          "text": [
            "📊 Evaluación del Modelo:\n",
            "MAE  (Error Absoluto Medio):        $983,495.08\n",
            "MSE  (Error Cuadrático Medio):      $1,638,501,954,266.17\n",
            "RMSE (Raíz del Error Cuadrático):   $1,280,039.83\n",
            "R²   (Coeficiente de determinación): 0.6406\n"
          ]
        }
      ]
    },
    {
      "cell_type": "markdown",
      "source": [
        "#### 8.2 Visualización del modelo: Real vs.Predicho."
      ],
      "metadata": {
        "id": "Pax1gWARotTb"
      }
    },
    {
      "cell_type": "code",
      "source": [
        "# Visualización: Real vs. Predicho\n",
        "plt.figure(figsize=(7, 5))\n",
        "sns.scatterplot(x=y_test, y=y_pred, color='teal', edgecolor='black', alpha=0.7)\n",
        "plt.plot([y_test.min(), y_test.max()], [y_test.min(), y_test.max()], color='red', linestyle='--')\n",
        "plt.title('Precio Real vs Precio Predicho')\n",
        "plt.xlabel('Precio Real')\n",
        "plt.ylabel('Precio Predicho')\n",
        "plt.grid(True)\n",
        "plt.tight_layout()\n",
        "plt.show()"
      ],
      "metadata": {
        "colab": {
          "base_uri": "https://localhost:8080/",
          "height": 507
        },
        "id": "2sdPwYlMoFBW",
        "outputId": "5cf01495-3146-438a-c4d1-f858fac7d307"
      },
      "execution_count": 38,
      "outputs": [
        {
          "output_type": "display_data",
          "data": {
            "text/plain": [
              "<Figure size 700x500 with 1 Axes>"
            ],
            "image/png": "[encoded data removed]"
          },
          "metadata": {}
        }
      ]
    },
    {
      "cell_type": "markdown",
      "source": [
        "####  8.3 Calculo de coeficientes del modelo."
      ],
      "metadata": {
        "id": "Bp6BJqO6owBH"
      }
    },
    {
      "cell_type": "code",
      "source": [
        "# Calculo de coeficientes del modelo.\n",
        "coeficientes = pd.DataFrame({\n",
        "    'Variable': X.columns,\n",
        "    'Coeficiente': model.coef_.round(2)\n",
        "}).sort_values(by='Coeficiente', ascending=False)\n",
        "\n",
        "print(\"\\n📌 Coeficientes del Modelo:\")\n",
        "print(coeficientes)"
      ],
      "metadata": {
        "colab": {
          "base_uri": "https://localhost:8080/"
        },
        "id": "LA18WEPVfuqA",
        "outputId": "a7431b52-9a24-4410-a93f-941512cbfea3"
      },
      "execution_count": 39,
      "outputs": [
        {
          "output_type": "stream",
          "name": "stdout",
          "text": [
            "\n",
            "📌 Coeficientes del Modelo:\n",
            "              Variable  Coeficiente\n",
            "0                 area    591269.36\n",
            "2            bathrooms    505286.51\n",
            "7  airconditioning_yes    400989.32\n",
            "3              stories    306848.26\n",
            "4              parking    225925.18\n",
            "5        guestroom_yes    218487.97\n",
            "6  hotwaterheating_yes    146685.78\n",
            "1             bedrooms     91303.94\n"
          ]
        }
      ]
    },
    {
      "cell_type": "markdown",
      "source": [
        "### 📊 Paso 9: Validación cruzada.\n",
        "\n",
        "* ✅ 9.1 Aplicar validación cruzada."
      ],
      "metadata": {
        "id": "dif2moq-nIxu"
      }
    },
    {
      "cell_type": "markdown",
      "source": [
        "#### 9.1 Aplicar validación cruzada."
      ],
      "metadata": {
        "id": "vFoF5_Hxpdqd"
      }
    },
    {
      "cell_type": "code",
      "source": [
        "from sklearn.model_selection import cross_val_score\n",
        "\n",
        "# Aplicar validación cruzada con 5 folds\n",
        "cv_scores = cross_val_score(\n",
        "    estimator=model,\n",
        "    X=X_train_scaled,\n",
        "    y=y_train,\n",
        "    cv=5,\n",
        "    scoring='r2'\n",
        ")"
      ],
      "metadata": {
        "id": "DPjqzR-6g_T2"
      },
      "execution_count": 45,
      "outputs": []
    },
    {
      "cell_type": "code",
      "source": [
        "# Mostramos los resultados\n",
        "print(\"📊 Validación Cruzada (5 Folds):\")\n",
        "print(\"R² por fold:\", [round(score, 4) for score in cv_scores])\n",
        "print(\"R² promedio:\", round(cv_scores.mean(), 4))\n",
        "print(\"Desviación estándar de R²:\", round(cv_scores.std(), 4))"
      ],
      "metadata": {
        "colab": {
          "base_uri": "https://localhost:8080/"
        },
        "id": "E1zkkmzpM6yl",
        "outputId": "aa4b4e74-0dd3-4137-a7ff-011bf2b7e43d"
      },
      "execution_count": 44,
      "outputs": [
        {
          "output_type": "stream",
          "name": "stdout",
          "text": [
            "📊 Validación Cruzada (5 Folds):\n",
            "R² por fold: [np.float64(0.6429), np.float64(0.6113), np.float64(0.5447), np.float64(0.5807), np.float64(0.5705)]\n",
            "R² promedio: 0.59\n",
            "Desviación estándar de R²: 0.034\n"
          ]
        }
      ]
    },
    {
      "cell_type": "markdown",
      "source": [
        "El rendimiento promedio en validación cruzada fue R2 = ~0.59, lo cual es aceptable para este contexto."
      ],
      "metadata": {
        "id": "UNxIutyRsEsX"
      }
    },
    {
      "cell_type": "markdown",
      "source": [
        "###📊 Paso 10: Optimización de hiperparámetros.\n",
        "\n",
        "* ✅ 10.1 calculos de Regresión Ridge, lasso y comparacion."
      ],
      "metadata": {
        "id": "xYR5C_YcnG7i"
      }
    },
    {
      "cell_type": "markdown",
      "source": [
        "#### 10.1 calculos de Regresión Ridge, lasso y comparacion."
      ],
      "metadata": {
        "id": "bONFMimBpekW"
      }
    },
    {
      "cell_type": "code",
      "source": [
        "from sklearn.linear_model import Ridge, Lasso\n",
        "from sklearn.model_selection import GridSearchCV\n",
        "from sklearn.metrics import r2_score"
      ],
      "metadata": {
        "id": "sOQmqchYNDU0"
      },
      "execution_count": null,
      "outputs": []
    },
    {
      "cell_type": "code",
      "source": [
        "# 1. Regresión Ridge\n",
        "\n",
        "ridge_model = Ridge()\n",
        "param_grid_ridge = {'alpha': [0.01, 0.1, 1, 10, 100, 1000]}\n",
        "\n",
        "grid_search_ridge = GridSearchCV(\n",
        "    estimator=ridge_model,\n",
        "    param_grid=param_grid_ridge,\n",
        "    scoring='r2',\n",
        "    cv=5\n",
        ")\n",
        "\n",
        "grid_search_ridge.fit(X_train_scaled, y_train)\n",
        "\n",
        "best_alpha_ridge = grid_search_ridge.best_params_['alpha']\n",
        "ridge_best = grid_search_ridge.best_estimator_\n",
        "y_pred_ridge = ridge_best.predict(X_test_scaled)\n",
        "test_r2_ridge = r2_score(y_test, y_pred_ridge)"
      ],
      "metadata": {
        "id": "fK2SjZmSNJFr"
      },
      "execution_count": null,
      "outputs": []
    },
    {
      "cell_type": "code",
      "source": [
        "# 2. Regresión Lasso\n",
        "\n",
        "lasso_model = Lasso(max_iter=10000)\n",
        "param_grid_lasso = {'alpha': [0.01, 0.1, 1, 10, 100, 1000]}\n",
        "\n",
        "grid_search_lasso = GridSearchCV(\n",
        "    estimator=lasso_model,\n",
        "    param_grid=param_grid_lasso,\n",
        "    scoring='r2',\n",
        "    cv=5\n",
        ")\n",
        "\n",
        "grid_search_lasso.fit(X_train_scaled, y_train)\n",
        "\n",
        "best_alpha_lasso = grid_search_lasso.best_params_['alpha']\n",
        "lasso_best = grid_search_lasso.best_estimator_\n",
        "y_pred_lasso = lasso_best.predict(X_test_scaled)\n",
        "test_r2_lasso = r2_score(y_test, y_pred_lasso)"
      ],
      "metadata": {
        "colab": {
          "base_uri": "https://localhost:8080/"
        },
        "id": "Xe7O02QAiTld",
        "outputId": "2c94e278-ee7a-4837-8549-450a3d15f751"
      },
      "execution_count": 41,
      "outputs": [
        {
          "output_type": "stream",
          "name": "stdout",
          "text": [
            "📊 Comparación de Modelos - R² en conjunto de prueba:\n",
            "Regresión Lineal:       0.6406\n",
            "Ridge (α=10):         0.6384\n",
            "Lasso (α=1000):         0.6403\n"
          ]
        }
      ]
    },
    {
      "cell_type": "code",
      "source": [
        "# 3. Comparación Final\n",
        "\n",
        "print(\"📊 Comparación de Modelos - R² en conjunto de prueba:\")\n",
        "print(f\"Regresión Lineal:       {r2_score(y_test, model.predict(X_test_scaled)):.4f}\")\n",
        "print(f\"Ridge (α={best_alpha_ridge}):         {test_r2_ridge:.4f}\")\n",
        "print(f\"Lasso (α={best_alpha_lasso}):         {test_r2_lasso:.4f}\")"
      ],
      "metadata": {
        "colab": {
          "base_uri": "https://localhost:8080/"
        },
        "id": "eewZqlgHNNOr",
        "outputId": "6e292e8e-4ece-4d74-a9e2-7f653cceff48"
      },
      "execution_count": 46,
      "outputs": [
        {
          "output_type": "stream",
          "name": "stdout",
          "text": [
            "📊 Comparación de Modelos - R² en conjunto de prueba:\n",
            "Regresión Lineal:       0.6406\n",
            "Ridge (α=10):         0.6384\n",
            "Lasso (α=1000):         0.6403\n"
          ]
        }
      ]
    },
    {
      "cell_type": "markdown",
      "source": [
        "✔️ Modelo definido: Lasso (α = 1000)\n",
        "\n",
        "🧠 ¿Por qué?\n",
        "\n",
        "* Desempeño comparable al mejor (R² ≈ 0.6403)\n",
        "Prácticamente igual que la regresión lineal clásica.\n",
        "\n",
        "* Elimina variables irrelevantes (coef = 0)\n",
        "Ideal si buscas un modelo más interpretable y con menos ruido.\n",
        "\n",
        "* Mayor robustez ante sobreajuste\n",
        "Especialmente útil si el dataset crece o tiene correlaciones ocultas.\n",
        "\n",
        "Perfecto equilibrio entre simplicidad y rendimiento\n",
        "\n",
        "⚠️ ¿Cuándo elegiría otro?\n",
        "\n",
        "* Se elegiría Ridge si el foco fuera estabilidad de los coeficientes y hay multicolinealidad moderada.\n",
        "\n",
        "* Me quedaría con Regresión Lineal si quieres un modelo base rápido y explicativo, y no tienes problemas de ruido o colinealidad.\n",
        "\n",
        "✅ Se elige Lasso con α = 1000 → ofrece alto rendimiento, interpretabilidad y filtrado automático de variables sin sacrificar poder predictivo."
      ],
      "metadata": {
        "id": "IaYuYuLYjdGb"
      }
    },
    {
      "cell_type": "code",
      "source": [
        "import pandas as pd\n",
        "import matplotlib.pyplot as plt\n",
        "import seaborn as sns"
      ],
      "metadata": {
        "id": "7ue7zrPGNUcR"
      },
      "execution_count": null,
      "outputs": []
    },
    {
      "cell_type": "code",
      "source": [
        "# Se extraen coeficientes del modelo Lasso entrenado\n",
        "coef_lasso = pd.DataFrame({\n",
        "    'Variable': X.columns,\n",
        "    'Coeficiente': lasso_best.coef_.round(2)\n",
        "}).sort_values(by='Coeficiente', ascending=False)\n",
        "\n",
        "# Mostrar tabla\n",
        "print(\"📌 Coeficientes del modelo Lasso:\")\n",
        "print(coef_lasso)\n",
        "\n",
        "# Identificar variables eliminadas (coef = 0)\n",
        "variables_eliminadas = coef_lasso[coef_lasso['Coeficiente'] == 0]['Variable'].tolist()\n",
        "if variables_eliminadas:\n",
        "    print(\"\\n🚫 Variables eliminadas por Lasso (coeficiente = 0):\")\n",
        "    for var in variables_eliminadas:\n",
        "        print(f\" - {var}\")\n",
        "else:\n",
        "    print(\"\\n✅ Lasso mantuvo todas las variables.\")"
      ],
      "metadata": {
        "colab": {
          "base_uri": "https://localhost:8080/"
        },
        "id": "EOLdqk06jKl3",
        "outputId": "1c9aeacf-6a51-4eed-ea5b-0f509598f44f"
      },
      "execution_count": 47,
      "outputs": [
        {
          "output_type": "stream",
          "name": "stdout",
          "text": [
            "📌 Coeficientes del modelo Lasso:\n",
            "              Variable  Coeficiente\n",
            "0                 area    590850.91\n",
            "2            bathrooms    504987.21\n",
            "7  airconditioning_yes    400459.66\n",
            "3              stories    306371.84\n",
            "4              parking    225385.94\n",
            "5        guestroom_yes    217719.10\n",
            "6  hotwaterheating_yes    145661.54\n",
            "1             bedrooms     90968.20\n",
            "\n",
            "✅ Lasso mantuvo todas las variables.\n"
          ]
        }
      ]
    },
    {
      "cell_type": "code",
      "source": [
        "# Se visualizan coeficientes en gráfico de barras\n",
        "plt.figure(figsize=(10, 6))\n",
        "sns.barplot(data=coef_lasso, x='Coeficiente', y='Variable', palette='crest')\n",
        "plt.title('Importancia de las Variables (Modelo Lasso)')\n",
        "plt.xlabel('Coeficiente')\n",
        "plt.ylabel('Variable')\n",
        "plt.grid(True)\n",
        "plt.tight_layout()\n",
        "plt.show()"
      ],
      "metadata": {
        "colab": {
          "base_uri": "https://localhost:8080/",
          "height": 607
        },
        "id": "oUyTaPWhNZq7",
        "outputId": "903e6ec3-482c-4f00-8d29-f6a4ce8f26c3"
      },
      "execution_count": 48,
      "outputs": [
        {
          "output_type": "display_data",
          "data": {
            "text/plain": [
              "<Figure size 1000x600 with 1 Axes>"
            ],
            "image/png": "[encoded data removed]"
          },
          "metadata": {}
        }
      ]
    },
    {
      "cell_type": "markdown",
      "source": [
        "###📊 Paso 11: Interpretación del modelo."
      ],
      "metadata": {
        "id": "87uvbsPInIED"
      }
    },
    {
      "cell_type": "markdown",
      "source": [
        "🧠 Interpretación:\n",
        "\n",
        "* Todas las variables tienen impacto positivo sobre el precio.\n",
        "\n",
        "* La variable area es la que más contribuye al valor de una vivienda, seguida de bathrooms y airconditioning_yes.\n",
        "\n",
        "* Lasso no eliminó ninguna variable en este caso, lo que indica que todas las variables aportan valor explicativo al modelo."
      ],
      "metadata": {
        "id": "hD1ErQpLkD1_"
      }
    },
    {
      "cell_type": "markdown",
      "source": [
        "###📊 Paso 12: Comunicación y entrega. PENDIENTE\n",
        "\n",
        "⚠️ Faltó empaquetar el trabajo como:\n",
        "•\tReporte Jupyter (Markdown + código)\n",
        "•\tPDF con visualizaciones + conclusiones\n",
        "•\tDashboard o notebook interactivo si se desea mostrar a terceros\n"
      ],
      "metadata": {
        "id": "AgKVDPs1nHi0"
      }
    }
  ]
}